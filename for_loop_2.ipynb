{
 "cells": [
  {
   "cell_type": "code",
   "execution_count": 14,
   "id": "4d0a4038-5b3c-4eca-859a-624eab066584",
   "metadata": {},
   "outputs": [],
   "source": [
    "names = [\"Mike\", \"Tom\", \"Katy\", \"Alex\", \"some element\"]"
   ]
  },
  {
   "cell_type": "code",
   "execution_count": 3,
   "id": "3b726abe-d19f-41c8-b5e5-452e1bde5e71",
   "metadata": {},
   "outputs": [
    {
     "name": "stdout",
     "output_type": "stream",
     "text": [
      "Mike\n",
      "Tom\n",
      "Katy\n",
      "Alex\n"
     ]
    }
   ],
   "source": [
    "for element in names:\n",
    "    print(element)"
   ]
  },
  {
   "cell_type": "code",
   "execution_count": 16,
   "id": "65d21d80-1ac4-49ec-9260-403b50c16a5f",
   "metadata": {},
   "outputs": [
    {
     "name": "stdout",
     "output_type": "stream",
     "text": [
      "Mike\n",
      "Tom\n",
      "Katy\n",
      "Alex\n",
      "some element\n"
     ]
    }
   ],
   "source": [
    "for i in range(len(names)):\n",
    "    print(names[i])"
   ]
  },
  {
   "cell_type": "code",
   "execution_count": 17,
   "id": "20f96531-de8f-4c10-9721-724350bf645f",
   "metadata": {},
   "outputs": [
    {
     "name": "stdout",
     "output_type": "stream",
     "text": [
      "Mike\n",
      "Tom\n",
      "Tom\n",
      "Katy\n",
      "Katy\n",
      "Katy\n",
      "Alex\n",
      "Alex\n",
      "Alex\n",
      "Alex\n",
      "some element\n",
      "some element\n",
      "some element\n",
      "some element\n",
      "some element\n"
     ]
    }
   ],
   "source": [
    "for i in range(len(names)):\n",
    "    for j in range(i+1):\n",
    "        print(names[i])"
   ]
  },
  {
   "cell_type": "code",
   "execution_count": null,
   "id": "bde0ad61-564c-4360-8b4f-e3b3f04c3ec2",
   "metadata": {},
   "outputs": [],
   "source": []
  }
 ],
 "metadata": {
  "kernelspec": {
   "display_name": "Python 3 (ipykernel)",
   "language": "python",
   "name": "python3"
  },
  "language_info": {
   "codemirror_mode": {
    "name": "ipython",
    "version": 3
   },
   "file_extension": ".py",
   "mimetype": "text/x-python",
   "name": "python",
   "nbconvert_exporter": "python",
   "pygments_lexer": "ipython3",
   "version": "3.9.13"
  }
 },
 "nbformat": 4,
 "nbformat_minor": 5
}
