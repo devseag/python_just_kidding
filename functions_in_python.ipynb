{
 "cells": [
  {
   "cell_type": "code",
   "execution_count": 1,
   "id": "14d3e93a-36ac-4066-9bbf-f4bfd87bc913",
   "metadata": {},
   "outputs": [
    {
     "name": "stdout",
     "output_type": "stream",
     "text": [
      "Hello from outside\n"
     ]
    }
   ],
   "source": [
    "def function1():\n",
    "    print(\"Hello1\")\n",
    "    print(\"Hello2\")\n",
    "print(\"Hello from outside\")"
   ]
  },
  {
   "cell_type": "code",
   "execution_count": 3,
   "id": "23904bd6-adc8-4590-9573-0a936b718bd3",
   "metadata": {},
   "outputs": [
    {
     "name": "stdout",
     "output_type": "stream",
     "text": [
      "Hello1\n",
      "Hello2\n",
      "Hello1\n",
      "Hello2\n",
      "Hello1\n",
      "Hello2\n"
     ]
    }
   ],
   "source": [
    "function1()\n",
    "function1()\n",
    "function1()"
   ]
  },
  {
   "cell_type": "code",
   "execution_count": 6,
   "id": "af072ad5-367c-437c-bd2c-214add790b2b",
   "metadata": {},
   "outputs": [],
   "source": [
    "def function2(x):\n",
    "    return 2*x"
   ]
  },
  {
   "cell_type": "code",
   "execution_count": 7,
   "id": "0ad661b3-3b36-4e48-875f-9cfc0370ae53",
   "metadata": {},
   "outputs": [
    {
     "name": "stdout",
     "output_type": "stream",
     "text": [
      "10\n"
     ]
    }
   ],
   "source": [
    "a = function2(5)\n",
    "print(a)"
   ]
  },
  {
   "cell_type": "code",
   "execution_count": 8,
   "id": "b76b84f5-2081-4b49-850d-3f9d57f40327",
   "metadata": {},
   "outputs": [
    {
     "data": {
      "text/plain": [
       "10"
      ]
     },
     "execution_count": 8,
     "metadata": {},
     "output_type": "execute_result"
    }
   ],
   "source": [
    "function2(5)"
   ]
  },
  {
   "cell_type": "code",
   "execution_count": 9,
   "id": "a4f4b0ce-23f1-41dc-a855-ae36c58cb25f",
   "metadata": {},
   "outputs": [
    {
     "name": "stdout",
     "output_type": "stream",
     "text": [
      "8\n"
     ]
    }
   ],
   "source": [
    "print(function2(4))"
   ]
  },
  {
   "cell_type": "code",
   "execution_count": 10,
   "id": "eeb816d6-d25f-4377-8226-7493f588b747",
   "metadata": {},
   "outputs": [],
   "source": [
    "def sum_of_two_numbers(x, y):\n",
    "    return x+y"
   ]
  },
  {
   "cell_type": "code",
   "execution_count": 11,
   "id": "00991f1d-64a4-4bf4-bf09-be02201c7d70",
   "metadata": {},
   "outputs": [
    {
     "name": "stdout",
     "output_type": "stream",
     "text": [
      "9\n"
     ]
    }
   ],
   "source": [
    "e = sum_of_two_numbers(4, 5)\n",
    "print(e)"
   ]
  },
  {
   "cell_type": "code",
   "execution_count": 12,
   "id": "18a088aa-2ab4-4136-8030-3d832f0acc96",
   "metadata": {},
   "outputs": [],
   "source": [
    "def function5(some_argument):\n",
    "    print(some_argument)\n",
    "    print(\"sdfsdf\")"
   ]
  },
  {
   "cell_type": "code",
   "execution_count": 13,
   "id": "a5506dc2-6c69-4f48-8613-ce802061ed0f",
   "metadata": {},
   "outputs": [
    {
     "name": "stdout",
     "output_type": "stream",
     "text": [
      "5\n",
      "sdfsdf\n"
     ]
    }
   ],
   "source": [
    "function5(5)"
   ]
  },
  {
   "cell_type": "code",
   "execution_count": 14,
   "id": "2d67eefd-59ce-4a41-8709-101d2330ca40",
   "metadata": {},
   "outputs": [
    {
     "name": "stdout",
     "output_type": "stream",
     "text": [
      "5\n",
      "sdfsdf\n"
     ]
    }
   ],
   "source": [
    "a = function5(5)"
   ]
  },
  {
   "cell_type": "code",
   "execution_count": 15,
   "id": "ad11928c-0146-48c2-89ef-d1c9c0335686",
   "metadata": {},
   "outputs": [],
   "source": [
    "a"
   ]
  },
  {
   "cell_type": "code",
   "execution_count": 16,
   "id": "8b9c19fe-6cd1-4de0-bf56-7864a1c49911",
   "metadata": {},
   "outputs": [],
   "source": [
    "def function6():\n",
    "    return 5"
   ]
  },
  {
   "cell_type": "code",
   "execution_count": 17,
   "id": "b017950b-5014-4612-bdfa-2fc545693577",
   "metadata": {},
   "outputs": [
    {
     "data": {
      "text/plain": [
       "5"
      ]
     },
     "execution_count": 17,
     "metadata": {},
     "output_type": "execute_result"
    }
   ],
   "source": [
    "function6()"
   ]
  },
  {
   "cell_type": "code",
   "execution_count": 18,
   "id": "585e48d2-ffda-4b39-be70-35406b82297c",
   "metadata": {},
   "outputs": [],
   "source": [
    "a = function6()"
   ]
  },
  {
   "cell_type": "code",
   "execution_count": 19,
   "id": "5faa74b3-f35b-4f7d-9731-3e9bfe46d419",
   "metadata": {},
   "outputs": [
    {
     "data": {
      "text/plain": [
       "5"
      ]
     },
     "execution_count": 19,
     "metadata": {},
     "output_type": "execute_result"
    }
   ],
   "source": [
    "a"
   ]
  },
  {
   "cell_type": "code",
   "execution_count": 20,
   "id": "fd500961-fca9-4bde-8709-f44165dcbd70",
   "metadata": {},
   "outputs": [
    {
     "name": "stdout",
     "output_type": "stream",
     "text": [
      "123\n",
      "sdfsdf\n",
      "None\n"
     ]
    }
   ],
   "source": [
    "a = function5(123)\n",
    "print(a)"
   ]
  },
  {
   "cell_type": "code",
   "execution_count": 21,
   "id": "7b838a0a-8122-4a05-bb12-ddb57307716a",
   "metadata": {},
   "outputs": [],
   "source": [
    "def function7(x):\n",
    "    print(x)\n",
    "    print(\"sdfsdfsf\")\n",
    "    return 3*x"
   ]
  },
  {
   "cell_type": "code",
   "execution_count": 22,
   "id": "ab0a39fa-c71c-4f1a-b600-784b86f197d0",
   "metadata": {},
   "outputs": [
    {
     "name": "stdout",
     "output_type": "stream",
     "text": [
      "10\n",
      "sdfsdfsf\n",
      "30\n"
     ]
    }
   ],
   "source": [
    "a = function7(10)\n",
    "print(a)"
   ]
  },
  {
   "cell_type": "code",
   "execution_count": 23,
   "id": "f853d118-039e-49b4-a260-66179ab3b543",
   "metadata": {},
   "outputs": [],
   "source": [
    "name1 = \"Tom\"\n",
    "height1 = 1.90\n",
    "weight1 = 80\n",
    "\n",
    "name2 = \"Katy\"\n",
    "height2 = 1.70\n",
    "weight2 = 60\n",
    "\n",
    "name3 = \"Bob\"\n",
    "height3 = 2\n",
    "weight3 = 150"
   ]
  },
  {
   "cell_type": "code",
   "execution_count": 28,
   "id": "6abd48f6-067b-4d4a-b69b-48502b3f1d22",
   "metadata": {},
   "outputs": [],
   "source": [
    "def bmi_calculator(name, height, weight):\n",
    "    bmi = weight / ( height ** 2)\n",
    "    \n",
    "    print(\"Index mass body: \" + str(bmi))\n",
    "    \n",
    "    if bmi < 25:\n",
    "        return name + \" no overweight\"\n",
    "    else:\n",
    "        return name + \" has over weight\""
   ]
  },
  {
   "cell_type": "code",
   "execution_count": 29,
   "id": "a25b6839-8820-49eb-9df3-9d442aa481a8",
   "metadata": {},
   "outputs": [
    {
     "name": "stdout",
     "output_type": "stream",
     "text": [
      "Index mass body: 22.1606648199446\n",
      "Index mass body: 20.761245674740486\n",
      "Index mass body: 37.5\n"
     ]
    }
   ],
   "source": [
    "bmi1 = bmi_calculator(name1, height1, weight1)\n",
    "bmi2 = bmi_calculator(name2, height2, weight2)\n",
    "bmi3 = bmi_calculator(name3, height3, weight3)"
   ]
  },
  {
   "cell_type": "code",
   "execution_count": 30,
   "id": "26922806-8e7b-414c-9abf-d8a07b6ed0b4",
   "metadata": {},
   "outputs": [
    {
     "name": "stdout",
     "output_type": "stream",
     "text": [
      "Tom no overweight\n"
     ]
    }
   ],
   "source": [
    "print(bmi1)"
   ]
  },
  {
   "cell_type": "code",
   "execution_count": 31,
   "id": "472afd92-3ac0-4b3e-9fa1-43aa3fc01b4c",
   "metadata": {},
   "outputs": [
    {
     "name": "stdout",
     "output_type": "stream",
     "text": [
      "Katy no overweight\n"
     ]
    }
   ],
   "source": [
    "print(bmi2)"
   ]
  },
  {
   "cell_type": "code",
   "execution_count": 32,
   "id": "57e93e7b-0276-494f-91b9-fffe4e2c41dd",
   "metadata": {},
   "outputs": [
    {
     "name": "stdout",
     "output_type": "stream",
     "text": [
      "Bob has over weight\n"
     ]
    }
   ],
   "source": [
    "print(bmi3)"
   ]
  },
  {
   "cell_type": "code",
   "execution_count": 33,
   "id": "13227037-ff29-4f8f-b492-30cf2ba369de",
   "metadata": {},
   "outputs": [],
   "source": [
    "def convert(miles):\n",
    "    return miles * 2.4\n",
    "\n",
    "def area(a, b):\n",
    "    return a  * b\n",
    "\n",
    "def is_even(a):\n",
    "    if a % 2 == 0:\n",
    "        print(\"Even\")\n",
    "    else:\n",
    "        print(\"Not even\")"
   ]
  },
  {
   "cell_type": "code",
   "execution_count": 35,
   "id": "f8021efa-acfb-4ae3-aba1-d3f0660e8903",
   "metadata": {},
   "outputs": [
    {
     "name": "stdout",
     "output_type": "stream",
     "text": [
      "Not even\n"
     ]
    }
   ],
   "source": [
    "is_even(3)"
   ]
  },
  {
   "cell_type": "code",
   "execution_count": null,
   "id": "cdd84541-2a98-4505-8688-d2a915634848",
   "metadata": {},
   "outputs": [],
   "source": []
  }
 ],
 "metadata": {
  "kernelspec": {
   "display_name": "Python 3 (ipykernel)",
   "language": "python",
   "name": "python3"
  },
  "language_info": {
   "codemirror_mode": {
    "name": "ipython",
    "version": 3
   },
   "file_extension": ".py",
   "mimetype": "text/x-python",
   "name": "python",
   "nbconvert_exporter": "python",
   "pygments_lexer": "ipython3",
   "version": "3.9.13"
  }
 },
 "nbformat": 4,
 "nbformat_minor": 5
}
