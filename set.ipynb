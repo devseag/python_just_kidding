{
 "cells": [
  {
   "cell_type": "code",
   "execution_count": 1,
   "id": "2856903a-9f40-4fd3-bd63-804b89929a2d",
   "metadata": {},
   "outputs": [
    {
     "name": "stdout",
     "output_type": "stream",
     "text": [
      "set()\n"
     ]
    }
   ],
   "source": [
    "a = set()\n",
    "print(a)"
   ]
  },
  {
   "cell_type": "code",
   "execution_count": 2,
   "id": "632c3f48-37a9-488e-94b3-32d5cc7e3b4a",
   "metadata": {},
   "outputs": [
    {
     "name": "stdout",
     "output_type": "stream",
     "text": [
      "{'hello', 1, 10, 5}\n"
     ]
    }
   ],
   "source": [
    "a = set([1, 10, 5, \"hello\"])\n",
    "print(a)"
   ]
  },
  {
   "cell_type": "code",
   "execution_count": 4,
   "id": "ba714089-bd35-4561-9cd7-060d7f7f010e",
   "metadata": {},
   "outputs": [
    {
     "name": "stdout",
     "output_type": "stream",
     "text": [
      "{'hello', 1, 10, 'hey'}\n"
     ]
    }
   ],
   "source": [
    "b = {1, 10, \"hello\", \"hey\"}\n",
    "print(b)"
   ]
  },
  {
   "cell_type": "code",
   "execution_count": 6,
   "id": "3258ae04-2a55-44bb-9344-5b23dd0aecae",
   "metadata": {},
   "outputs": [
    {
     "name": "stdout",
     "output_type": "stream",
     "text": [
      "<class 'dict'>\n"
     ]
    }
   ],
   "source": [
    "a = {} #dict\n",
    "print(type(a))"
   ]
  },
  {
   "cell_type": "code",
   "execution_count": 7,
   "id": "8c062219-4393-4951-a0c6-e5876aeab26b",
   "metadata": {},
   "outputs": [
    {
     "name": "stdout",
     "output_type": "stream",
     "text": [
      "set()\n"
     ]
    }
   ],
   "source": [
    "a = set()\n",
    "print(a)"
   ]
  },
  {
   "cell_type": "code",
   "execution_count": 10,
   "id": "43b8aa93-1ee8-460a-9054-5d712fbffb06",
   "metadata": {},
   "outputs": [],
   "source": [
    "a.add(1)"
   ]
  },
  {
   "cell_type": "code",
   "execution_count": 11,
   "id": "23e4c411-d5da-4f0d-9b6a-12d79f0c3f9a",
   "metadata": {},
   "outputs": [
    {
     "name": "stdout",
     "output_type": "stream",
     "text": [
      "{1}\n"
     ]
    }
   ],
   "source": [
    "print(a)"
   ]
  },
  {
   "cell_type": "code",
   "execution_count": 13,
   "id": "9cb3a189-57ac-4657-97d1-dbe6c8341319",
   "metadata": {},
   "outputs": [],
   "source": [
    "a.add(2)\n",
    "a.add(\"Hello\")\n",
    "a.add(10)"
   ]
  },
  {
   "cell_type": "code",
   "execution_count": 14,
   "id": "a2caad76-3df7-4b12-9264-b2c5a43d538d",
   "metadata": {},
   "outputs": [
    {
     "name": "stdout",
     "output_type": "stream",
     "text": [
      "{1, 2, 10, 'Hello'}\n"
     ]
    }
   ],
   "source": [
    "print(a)"
   ]
  },
  {
   "cell_type": "code",
   "execution_count": 15,
   "id": "0b8df622-8ced-4472-8af6-65f2514ecec9",
   "metadata": {},
   "outputs": [
    {
     "name": "stdout",
     "output_type": "stream",
     "text": [
      "{1, 2, 10, 'Hello'}\n"
     ]
    }
   ],
   "source": [
    "a.add(2)\n",
    "print(a)"
   ]
  },
  {
   "cell_type": "code",
   "execution_count": 16,
   "id": "ed2a51f7-f5b1-4a3a-b26a-7e94fceeeafb",
   "metadata": {},
   "outputs": [
    {
     "name": "stdout",
     "output_type": "stream",
     "text": [
      "{1, 2, 10, 'Hello'}\n"
     ]
    }
   ],
   "source": [
    "a.add(\"Hello\")\n",
    "print(a)"
   ]
  },
  {
   "cell_type": "code",
   "execution_count": 17,
   "id": "d49ed8a9-250c-4a90-a8c5-1d59e7383d88",
   "metadata": {},
   "outputs": [
    {
     "name": "stdout",
     "output_type": "stream",
     "text": [
      "1\n",
      "2\n",
      "10\n",
      "Hello\n"
     ]
    }
   ],
   "source": [
    "for e1 in a:\n",
    "    print(e1)"
   ]
  },
  {
   "cell_type": "code",
   "execution_count": 19,
   "id": "ccbb1741-4108-4fc1-b721-3fe3e05fcae5",
   "metadata": {},
   "outputs": [],
   "source": [
    "my_list = [1, 2, 1, 5, \"hello\", \"hello\"]"
   ]
  },
  {
   "cell_type": "code",
   "execution_count": 20,
   "id": "01e8cd50-7376-4e55-99ae-b5a1c899c2dc",
   "metadata": {},
   "outputs": [
    {
     "name": "stdout",
     "output_type": "stream",
     "text": [
      "{'hello', 1, 2, 5}\n"
     ]
    }
   ],
   "source": [
    "my_set = set()\n",
    "\n",
    "for e1 in my_list:\n",
    "    my_set.add(e1)\n",
    "    \n",
    "print(my_set)"
   ]
  },
  {
   "cell_type": "code",
   "execution_count": 21,
   "id": "eefbac84-941f-47f0-b695-8160ee50c312",
   "metadata": {},
   "outputs": [
    {
     "name": "stdout",
     "output_type": "stream",
     "text": [
      "{'hello', 1, 2, 5}\n"
     ]
    }
   ],
   "source": [
    "my_set = set(my_list)\n",
    "print(my_set)"
   ]
  },
  {
   "cell_type": "code",
   "execution_count": 22,
   "id": "e2323a77-380d-4771-96b2-90b598b78937",
   "metadata": {},
   "outputs": [
    {
     "name": "stdout",
     "output_type": "stream",
     "text": [
      "['hello', 1, 2, 5]\n"
     ]
    }
   ],
   "source": [
    "my_list = list(my_set)\n",
    "print(my_list)"
   ]
  },
  {
   "cell_type": "code",
   "execution_count": 23,
   "id": "3d313e60-f33e-47ec-8956-c24fdd6bd494",
   "metadata": {},
   "outputs": [],
   "source": [
    "a = {\"hello\", \"hey\", 1, 10, 5}"
   ]
  },
  {
   "cell_type": "code",
   "execution_count": 24,
   "id": "379cedd7-6a8f-4d0d-9ebb-872e47ef67bc",
   "metadata": {},
   "outputs": [
    {
     "name": "stdout",
     "output_type": "stream",
     "text": [
      "True\n"
     ]
    }
   ],
   "source": [
    "print(5 in a)"
   ]
  },
  {
   "cell_type": "code",
   "execution_count": 25,
   "id": "a201686f-ff3c-4bc0-abc8-08576cdb55fe",
   "metadata": {},
   "outputs": [
    {
     "name": "stdout",
     "output_type": "stream",
     "text": [
      "True\n"
     ]
    }
   ],
   "source": [
    "print(\"hey\" in a)"
   ]
  },
  {
   "cell_type": "code",
   "execution_count": 26,
   "id": "8ba5179c-7f8f-438c-be4f-a284d213c042",
   "metadata": {},
   "outputs": [
    {
     "name": "stdout",
     "output_type": "stream",
     "text": [
      "False\n"
     ]
    }
   ],
   "source": [
    "print(3 in a)"
   ]
  },
  {
   "cell_type": "code",
   "execution_count": 27,
   "id": "794c9285-a4d9-41d0-bea2-6e0d572a4116",
   "metadata": {},
   "outputs": [],
   "source": [
    "l = [1, 5, \"hey\"]"
   ]
  },
  {
   "cell_type": "code",
   "execution_count": 28,
   "id": "3fe60809-9caa-4276-80e3-c317628f116d",
   "metadata": {},
   "outputs": [
    {
     "name": "stdout",
     "output_type": "stream",
     "text": [
      "True\n"
     ]
    }
   ],
   "source": [
    "print(5 in l)"
   ]
  },
  {
   "cell_type": "code",
   "execution_count": 29,
   "id": "b38d25a3-6170-4f93-b883-c867d49d1b99",
   "metadata": {},
   "outputs": [
    {
     "name": "stdout",
     "output_type": "stream",
     "text": [
      "False\n"
     ]
    }
   ],
   "source": [
    "print(\"hello\" in l)"
   ]
  },
  {
   "cell_type": "code",
   "execution_count": 30,
   "id": "c4ccf2b8-b18e-429c-820f-69f1e93048a8",
   "metadata": {},
   "outputs": [
    {
     "name": "stdout",
     "output_type": "stream",
     "text": [
      "True\n"
     ]
    }
   ],
   "source": [
    "print(15 not in a)"
   ]
  },
  {
   "cell_type": "code",
   "execution_count": 31,
   "id": "0c7492a5-70ee-4adc-9547-dd1b76db6772",
   "metadata": {},
   "outputs": [
    {
     "name": "stdout",
     "output_type": "stream",
     "text": [
      "False\n"
     ]
    }
   ],
   "source": [
    "print(5 not in a)"
   ]
  },
  {
   "cell_type": "code",
   "execution_count": 32,
   "id": "eef2f2c4-3801-43fd-ac60-add3973a3474",
   "metadata": {},
   "outputs": [],
   "source": [
    "my_list =[1,2,3]\n",
    "my_set = {1,2,3}"
   ]
  },
  {
   "cell_type": "code",
   "execution_count": 33,
   "id": "9d29a97c-cb2d-4e8e-830b-91fe7bbeeecc",
   "metadata": {},
   "outputs": [
    {
     "data": {
      "text/plain": [
       "2"
      ]
     },
     "execution_count": 33,
     "metadata": {},
     "output_type": "execute_result"
    }
   ],
   "source": [
    "my_list[1]"
   ]
  },
  {
   "cell_type": "code",
   "execution_count": 34,
   "id": "2b1ddcf1-3017-4507-b1a2-eeb948a2b947",
   "metadata": {},
   "outputs": [
    {
     "ename": "TypeError",
     "evalue": "'set' object is not subscriptable",
     "output_type": "error",
     "traceback": [
      "\u001b[1;31m---------------------------------------------------------------------------\u001b[0m",
      "\u001b[1;31mTypeError\u001b[0m                                 Traceback (most recent call last)",
      "\u001b[1;32m~\\AppData\\Local\\Temp\\ipykernel_18140\\1534144899.py\u001b[0m in \u001b[0;36m<module>\u001b[1;34m\u001b[0m\n\u001b[1;32m----> 1\u001b[1;33m \u001b[0mmy_set\u001b[0m\u001b[1;33m[\u001b[0m\u001b[1;36m1\u001b[0m\u001b[1;33m]\u001b[0m\u001b[1;33m\u001b[0m\u001b[1;33m\u001b[0m\u001b[0m\n\u001b[0m",
      "\u001b[1;31mTypeError\u001b[0m: 'set' object is not subscriptable"
     ]
    }
   ],
   "source": [
    "my_set[1]"
   ]
  },
  {
   "cell_type": "code",
   "execution_count": 35,
   "id": "655dcdf6-50ff-462c-87f2-e5e461df6b34",
   "metadata": {},
   "outputs": [],
   "source": [
    "my_list = [1, 1, 2, 5, 10, 10, 10]"
   ]
  },
  {
   "cell_type": "code",
   "execution_count": 39,
   "id": "575f8f4d-859c-402c-8d79-bd048b6e3f07",
   "metadata": {},
   "outputs": [
    {
     "name": "stdout",
     "output_type": "stream",
     "text": [
      "{1, 2, 10, 5}\n",
      "18\n"
     ]
    }
   ],
   "source": [
    "my_set = set(my_list)\n",
    "print(my_set)\n",
    "sum_el = 0\n",
    "\n",
    "for e in my_set:\n",
    "    sum_el += e\n",
    "    \n",
    "print(sum_el)"
   ]
  },
  {
   "cell_type": "code",
   "execution_count": 40,
   "id": "870da961-9660-4b91-b63a-7b5e6cd1d774",
   "metadata": {},
   "outputs": [
    {
     "data": {
      "text/plain": [
       "16"
      ]
     },
     "execution_count": 40,
     "metadata": {},
     "output_type": "execute_result"
    }
   ],
   "source": [
    "sum([1, 5, 10])"
   ]
  },
  {
   "cell_type": "code",
   "execution_count": 41,
   "id": "e789d530-3a32-457e-b336-771e0cf1c341",
   "metadata": {},
   "outputs": [
    {
     "data": {
      "text/plain": [
       "16"
      ]
     },
     "execution_count": 41,
     "metadata": {},
     "output_type": "execute_result"
    }
   ],
   "source": [
    "sum({1, 5, 10})"
   ]
  },
  {
   "cell_type": "code",
   "execution_count": 43,
   "id": "2b06544f-3239-470f-9b13-4e74ccd748fc",
   "metadata": {},
   "outputs": [
    {
     "name": "stdout",
     "output_type": "stream",
     "text": [
      "18\n"
     ]
    }
   ],
   "source": [
    "print(sum(set(my_list)))"
   ]
  },
  {
   "cell_type": "code",
   "execution_count": 61,
   "id": "b717d99d-87ed-400a-a013-36abdc982d03",
   "metadata": {},
   "outputs": [],
   "source": [
    "def my_func(input_set, input_list):\n",
    "    for l in input_list:\n",
    "        if l not in input_set:\n",
    "            return False\n",
    "            \n",
    "    return True "
   ]
  },
  {
   "cell_type": "code",
   "execution_count": 51,
   "id": "d7267ec4-6a7c-4438-884c-d529f8ecdc18",
   "metadata": {},
   "outputs": [
    {
     "data": {
      "text/plain": [
       "False"
      ]
     },
     "execution_count": 51,
     "metadata": {},
     "output_type": "execute_result"
    }
   ],
   "source": [
    "my_func({1, 2, 10, 4, 5, \"hello\"}, [5])\n",
    "my_func({1, 2, 10, 4, 5, \"hello\"}, [5, 4, 1, \"hello\"])\n",
    "my_func({1,2},[3])\n",
    "my_func({1,2,3,4,5},[2,3,10])"
   ]
  },
  {
   "cell_type": "code",
   "execution_count": 62,
   "id": "bf394b20-3590-49e7-b1f4-e807cb55492d",
   "metadata": {},
   "outputs": [
    {
     "data": {
      "text/plain": [
       "False"
      ]
     },
     "execution_count": 62,
     "metadata": {},
     "output_type": "execute_result"
    }
   ],
   "source": [
    "my_func({1,2,3,4,5},[2,3,10])"
   ]
  },
  {
   "cell_type": "code",
   "execution_count": 63,
   "id": "d2a3b5d3-f7c6-44f3-9947-088e133bbc01",
   "metadata": {},
   "outputs": [],
   "source": [
    "def my_func(input_set, input_list):\n",
    "    if len(input_list) > len(input_set):\n",
    "        return False\n",
    "    \n",
    "    for list_el in input_list:\n",
    "        if list_el not in input_set:\n",
    "            return False\n",
    "        \n",
    "    return True"
   ]
  },
  {
   "cell_type": "code",
   "execution_count": 64,
   "id": "7ad6ed24-3a64-4920-a416-2a3d6aa67338",
   "metadata": {},
   "outputs": [
    {
     "name": "stdout",
     "output_type": "stream",
     "text": [
      "True\n",
      "True\n",
      "False\n",
      "False\n"
     ]
    }
   ],
   "source": [
    "print(my_func({1, 2, 10, 4, 5, \"hello\"}, [5]))\n",
    "print(my_func({1, 2, 10, 4, 5, \"hello\"}, [5, 4, 1, \"hello\"]))\n",
    "print(my_func({1,2},[3]))\n",
    "print(my_func({1,2,3,4,5},[2,3,10]))"
   ]
  },
  {
   "cell_type": "code",
   "execution_count": null,
   "id": "8beb86df-edf2-45a5-955c-77eb3840b0e5",
   "metadata": {},
   "outputs": [],
   "source": []
  }
 ],
 "metadata": {
  "kernelspec": {
   "display_name": "Python 3 (ipykernel)",
   "language": "python",
   "name": "python3"
  },
  "language_info": {
   "codemirror_mode": {
    "name": "ipython",
    "version": 3
   },
   "file_extension": ".py",
   "mimetype": "text/x-python",
   "name": "python",
   "nbconvert_exporter": "python",
   "pygments_lexer": "ipython3",
   "version": "3.9.13"
  }
 },
 "nbformat": 4,
 "nbformat_minor": 5
}
