{
 "cells": [
  {
   "cell_type": "code",
   "execution_count": 1,
   "id": "3ab0389d-1baf-4ed6-94b7-37345e6ff2a5",
   "metadata": {},
   "outputs": [
    {
     "name": "stdout",
     "output_type": "stream",
     "text": [
      "Igor\n",
      "Vlad 25\n",
      "Ivan 56\n"
     ]
    }
   ],
   "source": [
    "class Person:\n",
    "    name = \"Ivan\"\n",
    "    age = 10\n",
    "    \n",
    "    def set(self, name, age):\n",
    "        self.name = name\n",
    "        self.age = age\n",
    "        \n",
    "class Student(Person):\n",
    "    course = 1\n",
    "    \n",
    "igor = Student()\n",
    "igor.set(\"Igor\", 19)\n",
    "print(igor.name)\n",
    "    \n",
    "vlad = Person()\n",
    "vlad.set(\"Vlad\",25)\n",
    "print(vlad.name + \" \" + str(vlad.age))\n",
    "\n",
    "vlad = Person()\n",
    "vlad.set(\"Ivan\",56)\n",
    "print(vlad.name + \" \" + str(vlad.age))"
   ]
  },
  {
   "cell_type": "code",
   "execution_count": 2,
   "id": "4acd0920-6a35-4c57-ab42-2bd8ce2be5aa",
   "metadata": {},
   "outputs": [
    {
     "name": "stdout",
     "output_type": "stream",
     "text": [
      "1\n",
      "Vlad 25\n",
      "Ivan 56\n"
     ]
    }
   ],
   "source": [
    "class Person:\n",
    "    name = \"Ivan\"\n",
    "    age = 10\n",
    "    \n",
    "    def set(self, name, age):\n",
    "        self.name = name\n",
    "        self.age = age\n",
    "        \n",
    "class Student(Person):\n",
    "    course = 1\n",
    "    \n",
    "igor = Student()\n",
    "igor.set(\"Igor\", 19)\n",
    "print(igor.course)\n",
    "    \n",
    "vlad = Person()\n",
    "vlad.set(\"Vlad\",25)\n",
    "print(vlad.name + \" \" + str(vlad.age))\n",
    "\n",
    "vlad = Person()\n",
    "vlad.set(\"Ivan\",56)\n",
    "print(vlad.name + \" \" + str(vlad.age))"
   ]
  },
  {
   "cell_type": "code",
   "execution_count": 3,
   "id": "123d01c3-52ed-49ab-9686-03a6089d6d01",
   "metadata": {},
   "outputs": [
    {
     "ename": "AttributeError",
     "evalue": "'Student' object has no attribute 'set'",
     "output_type": "error",
     "traceback": [
      "\u001b[1;31m---------------------------------------------------------------------------\u001b[0m",
      "\u001b[1;31mAttributeError\u001b[0m                            Traceback (most recent call last)",
      "\u001b[1;32m~\\AppData\\Local\\Temp\\ipykernel_91292\\2822247883.py\u001b[0m in \u001b[0;36m<module>\u001b[1;34m\u001b[0m\n\u001b[0;32m     11\u001b[0m \u001b[1;33m\u001b[0m\u001b[0m\n\u001b[0;32m     12\u001b[0m \u001b[0migor\u001b[0m \u001b[1;33m=\u001b[0m \u001b[0mStudent\u001b[0m\u001b[1;33m(\u001b[0m\u001b[1;33m)\u001b[0m\u001b[1;33m\u001b[0m\u001b[1;33m\u001b[0m\u001b[0m\n\u001b[1;32m---> 13\u001b[1;33m \u001b[0migor\u001b[0m\u001b[1;33m.\u001b[0m\u001b[0mset\u001b[0m\u001b[1;33m(\u001b[0m\u001b[1;34m\"Igor\"\u001b[0m\u001b[1;33m,\u001b[0m \u001b[1;36m19\u001b[0m\u001b[1;33m)\u001b[0m\u001b[1;33m\u001b[0m\u001b[1;33m\u001b[0m\u001b[0m\n\u001b[0m\u001b[0;32m     14\u001b[0m \u001b[0mprint\u001b[0m\u001b[1;33m(\u001b[0m\u001b[0migor\u001b[0m\u001b[1;33m.\u001b[0m\u001b[0mcourse\u001b[0m\u001b[1;33m)\u001b[0m\u001b[1;33m\u001b[0m\u001b[1;33m\u001b[0m\u001b[0m\n\u001b[0;32m     15\u001b[0m \u001b[1;33m\u001b[0m\u001b[0m\n",
      "\u001b[1;31mAttributeError\u001b[0m: 'Student' object has no attribute 'set'"
     ]
    }
   ],
   "source": [
    "class Person:\n",
    "    _name = \"Ivan\"\n",
    "    age = 10\n",
    "    \n",
    "    def _set(self, name, age):\n",
    "        self.name = name\n",
    "        self.age = age\n",
    "        \n",
    "class Student(Person):\n",
    "    course = 1\n",
    "    \n",
    "igor = Student()\n",
    "igor.set(\"Igor\", 19)\n",
    "print(igor.course)\n",
    "    \n",
    "vlad = Person()\n",
    "vlad.set(\"Vlad\",25)\n",
    "print(vlad.name + \" \" + str(vlad.age))\n",
    "\n",
    "vlad = Person()\n",
    "vlad.set(\"Ivan\",56)\n",
    "print(vlad.name + \" \" + str(vlad.age))"
   ]
  },
  {
   "cell_type": "code",
   "execution_count": 4,
   "id": "c2bf0131-0589-41c3-9201-cdefabd20bd8",
   "metadata": {},
   "outputs": [
    {
     "name": "stdout",
     "output_type": "stream",
     "text": [
      "1\n",
      "Vlad 25\n",
      "Ivan 56\n"
     ]
    }
   ],
   "source": [
    "class Person:\n",
    "    name = \"Ivan\"\n",
    "    age = 10\n",
    "    \n",
    "    def _set(self, name, age):\n",
    "        self.name = name\n",
    "        self.age = age\n",
    "        \n",
    "class Student(Person):\n",
    "    course = 1\n",
    "    \n",
    "igor = Student()\n",
    "igor._set(\"Igor\", 19)\n",
    "print(igor.course)\n",
    "    \n",
    "vlad = Person()\n",
    "vlad._set(\"Vlad\",25)\n",
    "print(vlad.name + \" \" + str(vlad.age))\n",
    "\n",
    "vlad = Person()\n",
    "vlad._set(\"Ivan\",56)\n",
    "print(vlad.name + \" \" + str(vlad.age))"
   ]
  },
  {
   "cell_type": "code",
   "execution_count": 5,
   "id": "110af179-edad-4e8a-b4cd-e024c4a3d257",
   "metadata": {},
   "outputs": [
    {
     "name": "stdout",
     "output_type": "stream",
     "text": [
      "1\n",
      "Vlad 25\n",
      "Ivan 56\n"
     ]
    }
   ],
   "source": [
    "class Person:\n",
    "    _name = \"Ivan\"\n",
    "    age = 10\n",
    "    \n",
    "    def _set(self, _name, age):\n",
    "        self.name = _name\n",
    "        self.age = age\n",
    "        \n",
    "class Student(Person):\n",
    "    course = 1\n",
    "    \n",
    "igor = Student()\n",
    "igor._set(\"Igor\", 19)\n",
    "print(igor.course)\n",
    "    \n",
    "vlad = Person()\n",
    "vlad._set(\"Vlad\",25)\n",
    "print(vlad.name + \" \" + str(vlad.age))\n",
    "\n",
    "vlad = Person()\n",
    "vlad._set(\"Ivan\",56)\n",
    "print(vlad.name + \" \" + str(vlad.age))"
   ]
  },
  {
   "cell_type": "code",
   "execution_count": 7,
   "id": "8fb9d748-08fd-40c0-87e4-cd7ba81fd391",
   "metadata": {},
   "outputs": [
    {
     "ename": "AttributeError",
     "evalue": "'Student' object has no attribute '__set'",
     "output_type": "error",
     "traceback": [
      "\u001b[1;31m---------------------------------------------------------------------------\u001b[0m",
      "\u001b[1;31mAttributeError\u001b[0m                            Traceback (most recent call last)",
      "\u001b[1;32m~\\AppData\\Local\\Temp\\ipykernel_91292\\2986699910.py\u001b[0m in \u001b[0;36m<module>\u001b[1;34m\u001b[0m\n\u001b[0;32m     11\u001b[0m \u001b[1;33m\u001b[0m\u001b[0m\n\u001b[0;32m     12\u001b[0m \u001b[0migor\u001b[0m \u001b[1;33m=\u001b[0m \u001b[0mStudent\u001b[0m\u001b[1;33m(\u001b[0m\u001b[1;33m)\u001b[0m\u001b[1;33m\u001b[0m\u001b[1;33m\u001b[0m\u001b[0m\n\u001b[1;32m---> 13\u001b[1;33m \u001b[0migor\u001b[0m\u001b[1;33m.\u001b[0m\u001b[0m__set\u001b[0m\u001b[1;33m(\u001b[0m\u001b[1;34m\"Igor\"\u001b[0m\u001b[1;33m,\u001b[0m \u001b[1;36m19\u001b[0m\u001b[1;33m)\u001b[0m\u001b[1;33m\u001b[0m\u001b[1;33m\u001b[0m\u001b[0m\n\u001b[0m\u001b[0;32m     14\u001b[0m \u001b[0mprint\u001b[0m\u001b[1;33m(\u001b[0m\u001b[0migor\u001b[0m\u001b[1;33m.\u001b[0m\u001b[0mcourse\u001b[0m\u001b[1;33m)\u001b[0m\u001b[1;33m\u001b[0m\u001b[1;33m\u001b[0m\u001b[0m\n\u001b[0;32m     15\u001b[0m \u001b[1;33m\u001b[0m\u001b[0m\n",
      "\u001b[1;31mAttributeError\u001b[0m: 'Student' object has no attribute '__set'"
     ]
    }
   ],
   "source": [
    "class Person:\n",
    "    name = \"Ivan\"\n",
    "    age = 10\n",
    "    \n",
    "    def __set(self, name, age):\n",
    "        self.name = name\n",
    "        self.age = age\n",
    "        \n",
    "class Student(Person):\n",
    "    course = 1\n",
    "    \n",
    "igor = Student()\n",
    "igor.__set(\"Igor\", 19)\n",
    "print(igor.course)\n",
    "    \n",
    "vlad = Person()\n",
    "vlad.__set(\"Vlad\",25)\n",
    "print(vlad.name + \" \" + str(vlad.age))\n",
    "\n",
    "vlad = Person()\n",
    "vlad.__set(\"Ivan\",56)\n",
    "print(vlad.name + \" \" + str(vlad.age))"
   ]
  },
  {
   "cell_type": "code",
   "execution_count": 10,
   "id": "f2014cf1-3f49-4b86-8e02-ca51e1035b39",
   "metadata": {},
   "outputs": [
    {
     "ename": "AttributeError",
     "evalue": "'Student' object has no attribute '_Student__set'",
     "output_type": "error",
     "traceback": [
      "\u001b[1;31m---------------------------------------------------------------------------\u001b[0m",
      "\u001b[1;31mAttributeError\u001b[0m                            Traceback (most recent call last)",
      "\u001b[1;32m~\\AppData\\Local\\Temp\\ipykernel_91292\\636523215.py\u001b[0m in \u001b[0;36m<module>\u001b[1;34m\u001b[0m\n\u001b[0;32m     11\u001b[0m \u001b[1;33m\u001b[0m\u001b[0m\n\u001b[0;32m     12\u001b[0m \u001b[0migor\u001b[0m \u001b[1;33m=\u001b[0m \u001b[0mStudent\u001b[0m\u001b[1;33m(\u001b[0m\u001b[1;33m)\u001b[0m\u001b[1;33m\u001b[0m\u001b[1;33m\u001b[0m\u001b[0m\n\u001b[1;32m---> 13\u001b[1;33m \u001b[0migor\u001b[0m\u001b[1;33m.\u001b[0m\u001b[0m_Student__set\u001b[0m\u001b[1;33m(\u001b[0m\u001b[1;34m\"Igor\"\u001b[0m\u001b[1;33m,\u001b[0m \u001b[1;36m19\u001b[0m\u001b[1;33m)\u001b[0m\u001b[1;33m\u001b[0m\u001b[1;33m\u001b[0m\u001b[0m\n\u001b[0m\u001b[0;32m     14\u001b[0m \u001b[0mprint\u001b[0m\u001b[1;33m(\u001b[0m\u001b[0migor\u001b[0m\u001b[1;33m.\u001b[0m\u001b[0mcourse\u001b[0m\u001b[1;33m)\u001b[0m\u001b[1;33m\u001b[0m\u001b[1;33m\u001b[0m\u001b[0m\n\u001b[0;32m     15\u001b[0m \u001b[1;33m\u001b[0m\u001b[0m\n",
      "\u001b[1;31mAttributeError\u001b[0m: 'Student' object has no attribute '_Student__set'"
     ]
    }
   ],
   "source": [
    "class Person:\n",
    "    name = \"Ivan\"\n",
    "    age = 10\n",
    "    \n",
    "    def __set(self, name, age):\n",
    "        self.name = name\n",
    "        self.age = age\n",
    "        \n",
    "class Student(Person):\n",
    "    course = 1\n",
    "    \n",
    "igor = Student()\n",
    "igor._Student__set(\"Igor\", 19)\n",
    "print(igor.course)\n",
    "    \n",
    "vlad = Person()\n",
    "vlad._Person__set(\"Vlad\",25)\n",
    "print(vlad.name + \" \" + str(vlad.age))\n",
    "\n",
    "vlad = Person()\n",
    "vlad._Person__set(\"Ivan\",56)\n",
    "print(vlad.name + \" \" + str(vlad.age))"
   ]
  },
  {
   "cell_type": "code",
   "execution_count": 11,
   "id": "b4bbb743-9897-40b0-a2f0-332cd84adbfd",
   "metadata": {},
   "outputs": [
    {
     "name": "stdout",
     "output_type": "stream",
     "text": [
      "1\n",
      "Vlad 25\n",
      "Ivan 56\n"
     ]
    }
   ],
   "source": [
    "class Person:\n",
    "    name = \"Ivan\"\n",
    "    age = 10\n",
    "    \n",
    "    def __set(self, name, age):\n",
    "        self.name = name\n",
    "        self.age = age\n",
    "        \n",
    "class Student(Person):\n",
    "    course = 1\n",
    "    \n",
    "igor = Student()\n",
    "igor._Person__set(\"Igor\", 19)\n",
    "print(igor.course)\n",
    "    \n",
    "vlad = Person()\n",
    "vlad._Person__set(\"Vlad\",25)\n",
    "print(vlad.name + \" \" + str(vlad.age))\n",
    "\n",
    "vlad = Person()\n",
    "vlad._Person__set(\"Ivan\",56)\n",
    "print(vlad.name + \" \" + str(vlad.age))"
   ]
  },
  {
   "cell_type": "code",
   "execution_count": 12,
   "id": "e5fa8661-fa86-4ef2-b1fc-6371e27a6814",
   "metadata": {},
   "outputs": [
    {
     "name": "stdout",
     "output_type": "stream",
     "text": [
      "1\n",
      "Vlad 25\n",
      "Ivan 56\n",
      "4\n"
     ]
    }
   ],
   "source": [
    "class Person:\n",
    "    name = \"Ivan\"\n",
    "    age = 10\n",
    "    \n",
    "    def __set(self, name, age):\n",
    "        self.name = name\n",
    "        self.age = age\n",
    "        \n",
    "class Student(Person):\n",
    "    course = 1\n",
    "    \n",
    "igor = Student()\n",
    "igor._Person__set(\"Igor\", 19)\n",
    "print(igor.course)\n",
    "    \n",
    "vlad = Person()\n",
    "vlad._Person__set(\"Vlad\",25)\n",
    "print(vlad.name + \" \" + str(vlad.age))\n",
    "\n",
    "vlad = Person()\n",
    "vlad._Person__set(\"Ivan\",56)\n",
    "print(vlad.name + \" \" + str(vlad.age))\n",
    "\n",
    "print(2 + 2)"
   ]
  },
  {
   "cell_type": "code",
   "execution_count": 13,
   "id": "0cbc4e63-4abf-499d-a04e-e7300f95175f",
   "metadata": {},
   "outputs": [
    {
     "name": "stdout",
     "output_type": "stream",
     "text": [
      "1\n",
      "Vlad 25\n",
      "Ivan 56\n",
      "22\n"
     ]
    }
   ],
   "source": [
    "class Person:\n",
    "    name = \"Ivan\"\n",
    "    age = 10\n",
    "    \n",
    "    def __set(self, name, age):\n",
    "        self.name = name\n",
    "        self.age = age\n",
    "        \n",
    "class Student(Person):\n",
    "    course = 1\n",
    "    \n",
    "igor = Student()\n",
    "igor._Person__set(\"Igor\", 19)\n",
    "print(igor.course)\n",
    "    \n",
    "vlad = Person()\n",
    "vlad._Person__set(\"Vlad\",25)\n",
    "print(vlad.name + \" \" + str(vlad.age))\n",
    "\n",
    "vlad = Person()\n",
    "vlad._Person__set(\"Ivan\",56)\n",
    "print(vlad.name + \" \" + str(vlad.age))\n",
    "\n",
    "print('2' + '2')"
   ]
  },
  {
   "cell_type": "code",
   "execution_count": null,
   "id": "009f66f5-7369-4c59-a7ab-c8cc67613384",
   "metadata": {},
   "outputs": [],
   "source": []
  }
 ],
 "metadata": {
  "kernelspec": {
   "display_name": "Python 3 (ipykernel)",
   "language": "python",
   "name": "python3"
  },
  "language_info": {
   "codemirror_mode": {
    "name": "ipython",
    "version": 3
   },
   "file_extension": ".py",
   "mimetype": "text/x-python",
   "name": "python",
   "nbconvert_exporter": "python",
   "pygments_lexer": "ipython3",
   "version": "3.9.13"
  }
 },
 "nbformat": 4,
 "nbformat_minor": 5
}
