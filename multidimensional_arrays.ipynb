{
 "cells": [
  {
   "cell_type": "code",
   "execution_count": 2,
   "id": "f41c55e8-eb87-4725-8d0c-ec58959aa52e",
   "metadata": {},
   "outputs": [],
   "source": [
    "a = [1, 2, 3, \"asdf\"]"
   ]
  },
  {
   "cell_type": "code",
   "execution_count": 3,
   "id": "b432ccec-fec4-4fef-9dc9-4af7c39bf9d7",
   "metadata": {},
   "outputs": [
    {
     "name": "stdout",
     "output_type": "stream",
     "text": [
      "[1, 2, 3, 'asdf']\n"
     ]
    }
   ],
   "source": [
    "print(a)"
   ]
  },
  {
   "cell_type": "code",
   "execution_count": 4,
   "id": "634085f7-36d9-4a27-ae0b-06815882ea6b",
   "metadata": {},
   "outputs": [
    {
     "data": {
      "text/plain": [
       "3"
      ]
     },
     "execution_count": 4,
     "metadata": {},
     "output_type": "execute_result"
    }
   ],
   "source": [
    "a[2]"
   ]
  },
  {
   "cell_type": "code",
   "execution_count": 7,
   "id": "7a5c744b-e499-42f5-8608-26c8cb3ff675",
   "metadata": {},
   "outputs": [],
   "source": [
    "arr_2d = [[1,2,3], \n",
    "          [4,5,6],\n",
    "          [7,8,9]]"
   ]
  },
  {
   "cell_type": "code",
   "execution_count": 8,
   "id": "7aac64c7-4af2-4b45-9780-bcd3734b8bd5",
   "metadata": {},
   "outputs": [
    {
     "name": "stdout",
     "output_type": "stream",
     "text": [
      "[[1, 2, 3], [4, 5, 6], [7, 8, 9]]\n"
     ]
    }
   ],
   "source": [
    "print(arr_2d)"
   ]
  },
  {
   "cell_type": "code",
   "execution_count": 9,
   "id": "fd0970b9-943d-4633-ae83-1b0fe7f9659e",
   "metadata": {},
   "outputs": [
    {
     "name": "stdout",
     "output_type": "stream",
     "text": [
      "5\n"
     ]
    }
   ],
   "source": [
    "print(arr_2d[1][1])"
   ]
  },
  {
   "cell_type": "code",
   "execution_count": 10,
   "id": "d0a292e9-5588-4ebd-a5ab-c85edec9d4fc",
   "metadata": {},
   "outputs": [
    {
     "name": "stdout",
     "output_type": "stream",
     "text": [
      "3\n"
     ]
    }
   ],
   "source": [
    "print(arr_2d[0][2])"
   ]
  },
  {
   "cell_type": "code",
   "execution_count": 12,
   "id": "89e9bb76-985e-4d69-a37b-af4dc63c86a9",
   "metadata": {},
   "outputs": [],
   "source": [
    "arr_2d_2 = [[1,2,3], [4,5,6,-1,-5], [-7]]"
   ]
  },
  {
   "cell_type": "code",
   "execution_count": 13,
   "id": "8476760d-50dd-4a5f-a418-d180a5664e49",
   "metadata": {},
   "outputs": [
    {
     "name": "stdout",
     "output_type": "stream",
     "text": [
      "[[1, 2, 3], [4, 5, 6, -1, -5], [-7]]\n"
     ]
    }
   ],
   "source": [
    "print(arr_2d_2)"
   ]
  },
  {
   "cell_type": "code",
   "execution_count": 14,
   "id": "66648c8c-a365-4835-b78e-15cfb6f90401",
   "metadata": {},
   "outputs": [
    {
     "name": "stdout",
     "output_type": "stream",
     "text": [
      "[[1, 2, 3], [4, 5, 6], [7, 8, 9]]\n"
     ]
    }
   ],
   "source": [
    "print(arr_2d)"
   ]
  },
  {
   "cell_type": "code",
   "execution_count": 23,
   "id": "4be0e8b4-5972-45be-9387-f96f7a91dd6f",
   "metadata": {},
   "outputs": [],
   "source": [
    "def print_matrix_old(arr_2d):\n",
    "    for arr in arr_2d:\n",
    "        for e1 in arr:\n",
    "            print(e1, end = ' ')\n",
    "        print()"
   ]
  },
  {
   "cell_type": "code",
   "execution_count": 26,
   "id": "a673138e-5edd-43c4-87de-fc43336bbacd",
   "metadata": {},
   "outputs": [
    {
     "name": "stdout",
     "output_type": "stream",
     "text": [
      "1 2 3 \n",
      "4 5 6 \n",
      "7 8 9 \n"
     ]
    }
   ],
   "source": [
    "print_matrix(arr_2d)"
   ]
  },
  {
   "cell_type": "code",
   "execution_count": 88,
   "id": "02ad5ce9-a61c-48a2-a4cb-76b0a4c02d33",
   "metadata": {},
   "outputs": [],
   "source": [
    "def print_matrix(arr_2d):\n",
    "    for i in range(len(arr_2d)):\n",
    "        for j in range(len(arr_2d[i])):\n",
    "            print(arr_2d[i][j], end = ' ')\n",
    "        print()"
   ]
  },
  {
   "cell_type": "code",
   "execution_count": 27,
   "id": "741306b4-3599-4009-915f-e0098a52b8c1",
   "metadata": {},
   "outputs": [],
   "source": [
    "arr_2d[1][1] = 100"
   ]
  },
  {
   "cell_type": "code",
   "execution_count": 89,
   "id": "e358d60e-1a72-439a-8cf7-4b0e2602dfd1",
   "metadata": {},
   "outputs": [
    {
     "name": "stdout",
     "output_type": "stream",
     "text": [
      "1 2 3 \n",
      "4 100 6 \n",
      "7 8 9 \n"
     ]
    }
   ],
   "source": [
    "print_matrix(arr_2d)"
   ]
  },
  {
   "cell_type": "code",
   "execution_count": 100,
   "id": "6670fc13-5aef-487e-86b8-999af53bfa8a",
   "metadata": {
    "tags": []
   },
   "outputs": [
    {
     "data": {
      "text/plain": [
       "[[0, 0, 0, 0, 0, 0], [0, 0, 0, 0, 0, 0]]"
      ]
     },
     "execution_count": 100,
     "metadata": {},
     "output_type": "execute_result"
    }
   ],
   "source": [
    "def create_2d_arr(m, n):\n",
    "    arr_2nd_5 = []\n",
    "    \n",
    "    for i in range(m):\n",
    "        internal_arr = []\n",
    "        \n",
    "        for j in range(n):\n",
    "            internal_arr.append(0)\n",
    "            \n",
    "        arr_2nd_5.append(internal_arr)\n",
    "            \n",
    "    return arr_2nd_5\n",
    "\n",
    "create_2d_arr(2, 6)"
   ]
  },
  {
   "cell_type": "code",
   "execution_count": 91,
   "id": "b5fd9ba2-e2ae-41cd-a8a2-cc2069afea6e",
   "metadata": {},
   "outputs": [],
   "source": [
    "def create_2d_arr(m, n):\n",
    "    arr_2d = []\n",
    "    \n",
    "    for i in range(m):\n",
    "        internal_arr = []\n",
    "        \n",
    "        for j in range(n):\n",
    "            internal_arr.append(0)\n",
    "            \n",
    "        arr_2d.append(internal_arr)\n",
    "        \n",
    "    return arr_2d"
   ]
  },
  {
   "cell_type": "code",
   "execution_count": 92,
   "id": "adcf1fbc-b20a-4e81-a6a2-deb9d8c73413",
   "metadata": {},
   "outputs": [],
   "source": [
    "arr_5_10 = create_2d_arr(5, 10)"
   ]
  },
  {
   "cell_type": "code",
   "execution_count": 97,
   "id": "a0a41ac5-1e94-4a9c-9cb7-ff2db1049b76",
   "metadata": {},
   "outputs": [
    {
     "name": "stdout",
     "output_type": "stream",
     "text": [
      "0 0 0 0 0 0 0 0 0 0 0 0 \n",
      "0 0 0 0 0 0 0 0 0 0 0 0 \n"
     ]
    }
   ],
   "source": [
    "print_matrix(arr_2nd_5)"
   ]
  },
  {
   "cell_type": "code",
   "execution_count": 185,
   "id": "6d6dad42-fb06-4b65-9d4c-05952240bad3",
   "metadata": {},
   "outputs": [],
   "source": [
    "arr_2d = [[1,2,3], \n",
    "          [4,5,6],\n",
    "          [7,8,9]]"
   ]
  },
  {
   "cell_type": "code",
   "execution_count": 180,
   "id": "bcb30ff4-cfb5-49c5-8441-45bc170e5c44",
   "metadata": {},
   "outputs": [
    {
     "name": "stdout",
     "output_type": "stream",
     "text": [
      "[[1, 2, 3, 4], [5, 6, 7, 8], [9, 10, 11, 12], [13, 14, 15, 16]]\n",
      "[[4, 3, 2, 1], [8, 7, 6, 5], [12, 11, 10, 9], [16, 15, 14, 13]]\n"
     ]
    }
   ],
   "source": [
    "arr_2d = [[1,2,3,4], \n",
    "          [5,6,7,8],\n",
    "          [9,10,11,12],\n",
    "          [13,14,15,16]]\n",
    "\n",
    "print(arr_2d)\n",
    "\n",
    "def mirror_2d_arr(ma):\n",
    "    for col in range(len(ma)):\n",
    "        for e in range(int(len(ma[col])/2)):\n",
    "            ma[col][e],ma[col][-1-e] = ma[col][-1-e],ma[col][e]\n",
    "\n",
    "    \n",
    "    return ma\n",
    "\n",
    "print(mirror_2d_arr(arr_2d))"
   ]
  },
  {
   "cell_type": "code",
   "execution_count": 188,
   "id": "c90bedf9-19ef-4e64-b87e-cb19c9db112d",
   "metadata": {},
   "outputs": [],
   "source": [
    "def swap(arr, i, j):\n",
    "    temp = arr[i]\n",
    "    arr[i] = arr[j]\n",
    "    arr[j] = temp\n",
    "\n",
    "def mirror_2d_arr(arr_2d):\n",
    "    for arr in arr_2d:\n",
    "        for i in range(len(arr) // 2):\n",
    "            swap(arr, i, len(arr) -1 -i)"
   ]
  },
  {
   "cell_type": "code",
   "execution_count": 189,
   "id": "fcc65b4c-a960-47e7-b16c-943b5c5540b1",
   "metadata": {},
   "outputs": [
    {
     "name": "stdout",
     "output_type": "stream",
     "text": [
      "1 2 3 \n",
      "4 5 6 \n",
      "7 8 9 \n"
     ]
    }
   ],
   "source": [
    "print_matrix(arr_2d)"
   ]
  },
  {
   "cell_type": "code",
   "execution_count": 190,
   "id": "330afebb-51bf-41fa-abef-f2ca896069df",
   "metadata": {},
   "outputs": [],
   "source": [
    "mirror_2d_arr(arr_2d)"
   ]
  },
  {
   "cell_type": "code",
   "execution_count": 191,
   "id": "805e2000-7702-4ec0-9b03-99d3a2c4fea6",
   "metadata": {},
   "outputs": [
    {
     "name": "stdout",
     "output_type": "stream",
     "text": [
      "3 2 1 \n",
      "6 5 4 \n",
      "9 8 7 \n"
     ]
    }
   ],
   "source": [
    "print_matrix(arr_2d)"
   ]
  },
  {
   "cell_type": "code",
   "execution_count": null,
   "id": "987ce29b-0c5f-4118-a791-aae31e335f8d",
   "metadata": {},
   "outputs": [],
   "source": []
  }
 ],
 "metadata": {
  "kernelspec": {
   "display_name": "Python 3 (ipykernel)",
   "language": "python",
   "name": "python3"
  },
  "language_info": {
   "codemirror_mode": {
    "name": "ipython",
    "version": 3
   },
   "file_extension": ".py",
   "mimetype": "text/x-python",
   "name": "python",
   "nbconvert_exporter": "python",
   "pygments_lexer": "ipython3",
   "version": "3.9.13"
  }
 },
 "nbformat": 4,
 "nbformat_minor": 5
}
