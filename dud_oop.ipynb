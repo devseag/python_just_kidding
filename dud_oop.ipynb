{
 "cells": [
  {
   "cell_type": "code",
   "execution_count": 2,
   "id": "d901ec53-cc51-44ca-a8d7-34b92b5efc89",
   "metadata": {},
   "outputs": [
    {
     "name": "stdout",
     "output_type": "stream",
     "text": [
      "Ivan\n"
     ]
    }
   ],
   "source": [
    "class Person:\n",
    "    name = \"Ivan\"\n",
    "    age = 10\n",
    "    \n",
    "vlad = Person()\n",
    "\n",
    "print(vlad.name)"
   ]
  },
  {
   "cell_type": "code",
   "execution_count": 3,
   "id": "f6f60c90-0f9e-441e-8a58-3ecf34bb70cd",
   "metadata": {},
   "outputs": [
    {
     "name": "stdout",
     "output_type": "stream",
     "text": [
      "Vlad\n"
     ]
    }
   ],
   "source": [
    "class Person:\n",
    "    name = \"Ivan\"\n",
    "    age = 10\n",
    "    \n",
    "vlad = Person()\n",
    "vlad.name = \"Vlad\"\n",
    "\n",
    "print(vlad.name)"
   ]
  },
  {
   "cell_type": "code",
   "execution_count": 5,
   "id": "e0b83e50-baaa-41e9-a562-34ed2c3c4baa",
   "metadata": {},
   "outputs": [
    {
     "name": "stdout",
     "output_type": "stream",
     "text": [
      "Ivan\n",
      "45\n"
     ]
    }
   ],
   "source": [
    "class Person:\n",
    "    name = \"Ivan\"\n",
    "    age = 10\n",
    "    \n",
    "vlad = Person()\n",
    "vlad.name = \"Vlad\"\n",
    "\n",
    "ivan = Person()\n",
    "ivan.age = 45\n",
    "print(ivan.name)\n",
    "print(ivan.age)"
   ]
  },
  {
   "cell_type": "code",
   "execution_count": 6,
   "id": "e8e80f3c-8065-4a07-b680-e0533cc375b0",
   "metadata": {},
   "outputs": [
    {
     "name": "stdout",
     "output_type": "stream",
     "text": [
      "Vlad 25\n"
     ]
    }
   ],
   "source": [
    "class Person:\n",
    "    name = \"Ivan\"\n",
    "    age = 10\n",
    "    \n",
    "    def set(self, name, age):\n",
    "        self.name = name\n",
    "        self.age = age\n",
    "    \n",
    "vlad = Person()\n",
    "vlad.set(\"Vlad\",25)\n",
    "print(vlad.name + \" \" + str(vlad.age))"
   ]
  },
  {
   "cell_type": "code",
   "execution_count": 7,
   "id": "be3f124a-c8b7-428a-a086-679f15b2c02f",
   "metadata": {},
   "outputs": [
    {
     "name": "stdout",
     "output_type": "stream",
     "text": [
      "Vlad 25\n",
      "Ivan 56\n"
     ]
    }
   ],
   "source": [
    "class Person:\n",
    "    name = \"Ivan\"\n",
    "    age = 10\n",
    "    \n",
    "    def set(self, name, age):\n",
    "        self.name = name\n",
    "        self.age = age\n",
    "    \n",
    "vlad = Person()\n",
    "vlad.set(\"Vlad\",25)\n",
    "print(vlad.name + \" \" + str(vlad.age))\n",
    "\n",
    "vlad = Person()\n",
    "vlad.set(\"Ivan\",56)\n",
    "print(vlad.name + \" \" + str(vlad.age))"
   ]
  },
  {
   "cell_type": "code",
   "execution_count": null,
   "id": "2b0b6c37-2e34-4dfc-bb44-bcc7d8b5d200",
   "metadata": {},
   "outputs": [],
   "source": []
  }
 ],
 "metadata": {
  "kernelspec": {
   "display_name": "Python 3 (ipykernel)",
   "language": "python",
   "name": "python3"
  },
  "language_info": {
   "codemirror_mode": {
    "name": "ipython",
    "version": 3
   },
   "file_extension": ".py",
   "mimetype": "text/x-python",
   "name": "python",
   "nbconvert_exporter": "python",
   "pygments_lexer": "ipython3",
   "version": "3.9.13"
  }
 },
 "nbformat": 4,
 "nbformat_minor": 5
}
