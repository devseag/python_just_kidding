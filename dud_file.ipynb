{
 "cells": [
  {
   "cell_type": "code",
   "execution_count": 17,
   "id": "fcc1cd7b-9261-42a9-b113-e5a4896ad21f",
   "metadata": {},
   "outputs": [],
   "source": [
    "f = open('text.txt','r')"
   ]
  },
  {
   "cell_type": "code",
   "execution_count": 18,
   "id": "54889bbd-aeb0-4d16-b3fa-8bc0867ab714",
   "metadata": {},
   "outputs": [],
   "source": [
    "f = open('text.txt','rb')"
   ]
  },
  {
   "cell_type": "code",
   "execution_count": 19,
   "id": "6fc2c21a-8619-44bf-814d-36d972f3f7f5",
   "metadata": {},
   "outputs": [],
   "source": [
    "f = open('text.txt') #rt"
   ]
  },
  {
   "cell_type": "code",
   "execution_count": 21,
   "id": "0c404db6-124b-43fb-aecb-f9bbc93eed7b",
   "metadata": {},
   "outputs": [
    {
     "name": "stdout",
     "output_type": "stream",
     "text": [
      "Hi!\n",
      "Second line\n"
     ]
    }
   ],
   "source": [
    "f = open('text.txt')\n",
    "print(f.read())"
   ]
  },
  {
   "cell_type": "code",
   "execution_count": 22,
   "id": "89accecc-d0a3-478b-a2f6-64ad96dd74d6",
   "metadata": {},
   "outputs": [
    {
     "name": "stdout",
     "output_type": "stream",
     "text": [
      "H\n"
     ]
    }
   ],
   "source": [
    "f = open('text.txt')\n",
    "print(f.read(1))"
   ]
  },
  {
   "cell_type": "code",
   "execution_count": 24,
   "id": "c2944975-ec04-4348-b3a4-22b535059c83",
   "metadata": {},
   "outputs": [
    {
     "name": "stdout",
     "output_type": "stream",
     "text": [
      "Hi\n"
     ]
    }
   ],
   "source": [
    "f = open('text.txt')\n",
    "print(f.read(2))"
   ]
  },
  {
   "cell_type": "code",
   "execution_count": 25,
   "id": "546e0bb3-45b3-4f81-b927-c9ba2379a535",
   "metadata": {},
   "outputs": [
    {
     "name": "stdout",
     "output_type": "stream",
     "text": [
      "Hi!\n",
      "S\n"
     ]
    }
   ],
   "source": [
    "f = open('text.txt')\n",
    "print(f.read(5))"
   ]
  },
  {
   "cell_type": "code",
   "execution_count": 26,
   "id": "54a3e086-17f3-4285-b91e-775380d44739",
   "metadata": {},
   "outputs": [
    {
     "name": "stdout",
     "output_type": "stream",
     "text": [
      "Hi!\n",
      "\n",
      "Second line\n"
     ]
    }
   ],
   "source": [
    "f = open('text.txt')\n",
    "for line in f:\n",
    "    print(line)"
   ]
  },
  {
   "cell_type": "code",
   "execution_count": 31,
   "id": "e059299f-ba79-45a8-95fa-68b1caad8461",
   "metadata": {},
   "outputs": [
    {
     "name": "stdout",
     "output_type": "stream",
     "text": [
      "Hi, it's me\n",
      "\n",
      "Test\n"
     ]
    }
   ],
   "source": [
    "f = open('text.txt','w')\n",
    "f.write('Hi, it\\'s me\\nTest')\n",
    "f.close()\n",
    "\n",
    "f = open('text.txt')\n",
    "for line in f:\n",
    "    print(line)"
   ]
  },
  {
   "cell_type": "code",
   "execution_count": null,
   "id": "64eb2c55-5446-41f0-845f-bf045f1d7bd7",
   "metadata": {},
   "outputs": [],
   "source": []
  }
 ],
 "metadata": {
  "kernelspec": {
   "display_name": "Python 3 (ipykernel)",
   "language": "python",
   "name": "python3"
  },
  "language_info": {
   "codemirror_mode": {
    "name": "ipython",
    "version": 3
   },
   "file_extension": ".py",
   "mimetype": "text/x-python",
   "name": "python",
   "nbconvert_exporter": "python",
   "pygments_lexer": "ipython3",
   "version": "3.9.13"
  }
 },
 "nbformat": 4,
 "nbformat_minor": 5
}
