{
 "cells": [
  {
   "cell_type": "code",
   "execution_count": 1,
   "id": "2cc3c762-6b14-4391-94f6-87ef91c9e6fb",
   "metadata": {},
   "outputs": [],
   "source": [
    "class Person:\n",
    "    pass"
   ]
  },
  {
   "cell_type": "code",
   "execution_count": 28,
   "id": "8be9bd26-429d-47b9-af2c-dfc45bc099d1",
   "metadata": {},
   "outputs": [],
   "source": [
    "p1 = Person()\n",
    "p1.name = \"Elon\"\n",
    "p1.surname = \"Musk\"\n",
    "p1.place_of_birth = \"SA\"\n",
    "p1.year_of_birth = 1965"
   ]
  },
  {
   "cell_type": "code",
   "execution_count": 25,
   "id": "93d15c1e-38a6-4281-8ec2-b113b8ad4fbc",
   "metadata": {},
   "outputs": [],
   "source": [
    "p2 = Person()\n",
    "p2.name = \"Sergei\"\n",
    "p2.surname = \"Korolev\"\n",
    "p2.place_of_birth = \"UA\"\n",
    "p2.year_of_birth = 1923"
   ]
  },
  {
   "cell_type": "code",
   "execution_count": 5,
   "id": "58ca4cda-8931-4609-8aea-c905bc35cc4b",
   "metadata": {},
   "outputs": [
    {
     "name": "stdout",
     "output_type": "stream",
     "text": [
      "Elon\n"
     ]
    }
   ],
   "source": [
    "print(p1.name)"
   ]
  },
  {
   "cell_type": "code",
   "execution_count": 7,
   "id": "c0386431-8fec-47d7-b72f-57499b16ec14",
   "metadata": {},
   "outputs": [
    {
     "name": "stdout",
     "output_type": "stream",
     "text": [
      "Name: Elon, Surname: Musk, Place of birth: SA\n"
     ]
    }
   ],
   "source": [
    "print(f\"Name: {p1.name}, Surname: {p1.surname}, Place of birth: {p1.place_of_birth}\")"
   ]
  },
  {
   "cell_type": "code",
   "execution_count": 8,
   "id": "c165e4c3-77e7-47c2-9ddd-074307d6f53a",
   "metadata": {},
   "outputs": [
    {
     "name": "stdout",
     "output_type": "stream",
     "text": [
      "Name: Sergei, Surname: Korolev, Place of birth: UA\n"
     ]
    }
   ],
   "source": [
    "print(f\"Name: {p2.name}, Surname: {p2.surname}, Place of birth: {p2.place_of_birth}\")"
   ]
  },
  {
   "cell_type": "code",
   "execution_count": null,
   "id": "6c8445c4-93ab-45ae-9f0f-dd9b7f95d5e1",
   "metadata": {},
   "outputs": [],
   "source": [
    "def some_func():\n",
    "    #some code"
   ]
  },
  {
   "cell_type": "code",
   "execution_count": 23,
   "id": "cac5266f-22ff-48de-9931-638b6da91163",
   "metadata": {},
   "outputs": [],
   "source": [
    "class Person:\n",
    "    def print_info(self, n):\n",
    "        for i in range(n):\n",
    "            print(f\"Name: {self.name}, Surname: {self.surname}, Place of birth: {self.place_of_birth}\")\n",
    "    \n",
    "    def get_age(age):\n",
    "        "
   ]
  },
  {
   "cell_type": "code",
   "execution_count": 13,
   "id": "2b2d9558-fb04-4a13-9446-d3743fc40679",
   "metadata": {},
   "outputs": [
    {
     "name": "stdout",
     "output_type": "stream",
     "text": [
      "Name: Elon, Surname: Musk, Place of birth: SA\n"
     ]
    }
   ],
   "source": [
    "p1.print_info()"
   ]
  },
  {
   "cell_type": "code",
   "execution_count": 14,
   "id": "c69dc19d-f581-4641-a994-5c8b868ed15b",
   "metadata": {},
   "outputs": [
    {
     "name": "stdout",
     "output_type": "stream",
     "text": [
      "Name: Sergei, Surname: Korolev, Place of birth: UA\n"
     ]
    }
   ],
   "source": [
    "p2.print_info()"
   ]
  },
  {
   "cell_type": "code",
   "execution_count": 15,
   "id": "82695d66-9efa-42f0-9fa7-2d64b7d3de95",
   "metadata": {},
   "outputs": [
    {
     "name": "stdout",
     "output_type": "stream",
     "text": [
      "Name: Elon, Surname: Musk, Place of birth: SA\n"
     ]
    }
   ],
   "source": [
    "Person.print_info(p1)"
   ]
  },
  {
   "cell_type": "code",
   "execution_count": 16,
   "id": "8bdb7f5d-c753-473a-a8b7-f800bcdc6710",
   "metadata": {},
   "outputs": [
    {
     "name": "stdout",
     "output_type": "stream",
     "text": [
      "Name: Sergei, Surname: Korolev, Place of birth: UA\n"
     ]
    }
   ],
   "source": [
    "Person.print_info(p2)"
   ]
  },
  {
   "cell_type": "code",
   "execution_count": 26,
   "id": "ffbcf7f2-4e74-4c35-9ea2-29a789a9fd26",
   "metadata": {},
   "outputs": [
    {
     "name": "stdout",
     "output_type": "stream",
     "text": [
      "Name: Elon, Surname: Musk, Place of birth: SA\n",
      "Name: Elon, Surname: Musk, Place of birth: SA\n",
      "Name: Elon, Surname: Musk, Place of birth: SA\n"
     ]
    }
   ],
   "source": [
    "p1.print_info(3)"
   ]
  },
  {
   "cell_type": "code",
   "execution_count": 27,
   "id": "a20d718e-0d16-41db-b549-5a8742e32d12",
   "metadata": {},
   "outputs": [
    {
     "name": "stdout",
     "output_type": "stream",
     "text": [
      "Name: Sergei, Surname: Korolev, Place of birth: UA\n",
      "Name: Sergei, Surname: Korolev, Place of birth: UA\n",
      "Name: Sergei, Surname: Korolev, Place of birth: UA\n",
      "Name: Sergei, Surname: Korolev, Place of birth: UA\n",
      "Name: Sergei, Surname: Korolev, Place of birth: UA\n"
     ]
    }
   ],
   "source": [
    "p2.print_info(5)"
   ]
  },
  {
   "cell_type": "code",
   "execution_count": 53,
   "id": "6888e2f5-c9da-4ecd-99ef-17f4f1702b97",
   "metadata": {},
   "outputs": [],
   "source": [
    "class Person:\n",
    "    def print_info(self, n):\n",
    "        for i in range(n):\n",
    "            print(f\"Name: {self.name}, Surname: {self.surname}, Place of birth: {self.place_of_birth}\")\n",
    "    \n",
    "    def get_age(self, current_year):\n",
    "        if current_year >= self.year_of_birth:\n",
    "            print(f\"Age: {current_year - self.year_of_birth}\")\n"
   ]
  },
  {
   "cell_type": "code",
   "execution_count": 54,
   "id": "097d40f2-2ac8-48bc-9e2e-5541f1da93b0",
   "metadata": {},
   "outputs": [],
   "source": [
    "p1 = Person()\n",
    "p1.name = \"Elon\"\n",
    "p1.surname = \"Musk\"\n",
    "p1.place_of_birth = \"SA\"\n",
    "p1.year_of_birth = 1971"
   ]
  },
  {
   "cell_type": "code",
   "execution_count": 55,
   "id": "dfc500b6-16dc-4427-a3f4-4a0b67f3f277",
   "metadata": {},
   "outputs": [],
   "source": [
    "p2 = Person()\n",
    "p2.name = \"Sergei\"\n",
    "p2.surname = \"Korolev\"\n",
    "p2.place_of_birth = \"UA\"\n",
    "p2.year_of_birth = 1907"
   ]
  },
  {
   "cell_type": "code",
   "execution_count": 56,
   "id": "af81cb2d-17ce-4efc-85c7-6a5054b1921c",
   "metadata": {},
   "outputs": [
    {
     "name": "stdout",
     "output_type": "stream",
     "text": [
      "Age: 49\n"
     ]
    }
   ],
   "source": [
    "p1.get_age(2020)"
   ]
  },
  {
   "cell_type": "code",
   "execution_count": 57,
   "id": "ef6546ce-19d0-460c-a6fd-48cc4cb22419",
   "metadata": {},
   "outputs": [
    {
     "name": "stdout",
     "output_type": "stream",
     "text": [
      "Age: 113\n"
     ]
    }
   ],
   "source": [
    "p2.get_age(2020)"
   ]
  },
  {
   "cell_type": "code",
   "execution_count": 59,
   "id": "8e5bda75-474e-4be2-9076-da2aab04cd2b",
   "metadata": {},
   "outputs": [
    {
     "name": "stdout",
     "output_type": "stream",
     "text": [
      "Name: Elon, Surname: Musk, Place of birth: SA\n",
      "Name: Sergei, Surname: Korolev, Place of birth: UA\n"
     ]
    }
   ],
   "source": [
    "p1.print_info(1)\n",
    "p2.print_info(1)"
   ]
  },
  {
   "cell_type": "code",
   "execution_count": 65,
   "id": "b0d888ad-64ae-4363-8e71-f96ffc2afd44",
   "metadata": {},
   "outputs": [],
   "source": [
    "p3 = Person()\n",
    "p3.name = \"Albert\"\n",
    "p3.suname = \"Einstein\"\n",
    "p3.year_of_birth = 1879\n",
    "# no place_of_birth"
   ]
  },
  {
   "cell_type": "code",
   "execution_count": 64,
   "id": "7f23ac97-6c1e-42a8-8428-796f10563d3e",
   "metadata": {},
   "outputs": [
    {
     "ename": "AttributeError",
     "evalue": "'Person' object has no attribute 'place_of_birth'",
     "output_type": "error",
     "traceback": [
      "\u001b[1;31m---------------------------------------------------------------------------\u001b[0m",
      "\u001b[1;31mAttributeError\u001b[0m                            Traceback (most recent call last)",
      "\u001b[1;32m~\\AppData\\Local\\Temp\\ipykernel_49264\\1723598892.py\u001b[0m in \u001b[0;36m<module>\u001b[1;34m\u001b[0m\n\u001b[1;32m----> 1\u001b[1;33m \u001b[0mp3\u001b[0m\u001b[1;33m.\u001b[0m\u001b[0mprint_info\u001b[0m\u001b[1;33m(\u001b[0m\u001b[1;36m1\u001b[0m\u001b[1;33m)\u001b[0m\u001b[1;33m\u001b[0m\u001b[1;33m\u001b[0m\u001b[0m\n\u001b[0m",
      "\u001b[1;32m~\\AppData\\Local\\Temp\\ipykernel_49264\\1396016784.py\u001b[0m in \u001b[0;36mprint_info\u001b[1;34m(self, n)\u001b[0m\n\u001b[0;32m      2\u001b[0m     \u001b[1;32mdef\u001b[0m \u001b[0mprint_info\u001b[0m\u001b[1;33m(\u001b[0m\u001b[0mself\u001b[0m\u001b[1;33m,\u001b[0m \u001b[0mn\u001b[0m\u001b[1;33m)\u001b[0m\u001b[1;33m:\u001b[0m\u001b[1;33m\u001b[0m\u001b[1;33m\u001b[0m\u001b[0m\n\u001b[0;32m      3\u001b[0m         \u001b[1;32mfor\u001b[0m \u001b[0mi\u001b[0m \u001b[1;32min\u001b[0m \u001b[0mrange\u001b[0m\u001b[1;33m(\u001b[0m\u001b[0mn\u001b[0m\u001b[1;33m)\u001b[0m\u001b[1;33m:\u001b[0m\u001b[1;33m\u001b[0m\u001b[1;33m\u001b[0m\u001b[0m\n\u001b[1;32m----> 4\u001b[1;33m             \u001b[0mprint\u001b[0m\u001b[1;33m(\u001b[0m\u001b[1;34mf\"Name: {self.name}, Surname: {self.surname}, Place of birth: {self.place_of_birth}\"\u001b[0m\u001b[1;33m)\u001b[0m\u001b[1;33m\u001b[0m\u001b[1;33m\u001b[0m\u001b[0m\n\u001b[0m\u001b[0;32m      5\u001b[0m \u001b[1;33m\u001b[0m\u001b[0m\n\u001b[0;32m      6\u001b[0m     \u001b[1;32mdef\u001b[0m \u001b[0mget_age\u001b[0m\u001b[1;33m(\u001b[0m\u001b[0mself\u001b[0m\u001b[1;33m,\u001b[0m \u001b[0mcurrent_year\u001b[0m\u001b[1;33m)\u001b[0m\u001b[1;33m:\u001b[0m\u001b[1;33m\u001b[0m\u001b[1;33m\u001b[0m\u001b[0m\n",
      "\u001b[1;31mAttributeError\u001b[0m: 'Person' object has no attribute 'place_of_birth'"
     ]
    }
   ],
   "source": [
    "p3.print_info(1)"
   ]
  },
  {
   "cell_type": "code",
   "execution_count": 71,
   "id": "7ad109f8-813f-42d2-b1a4-0cb6b23eda98",
   "metadata": {},
   "outputs": [],
   "source": [
    "class Person:\n",
    "    \n",
    "    def __init__(self, name, surname, place_of_birth, year_of_birth):\n",
    "        self.name = name\n",
    "        self.surname = surname\n",
    "        self.place_of_birth = place_of_birth\n",
    "        self.year_of_birth = year_of_birth\n",
    "        \n",
    "        print(\"Hello\")\n",
    "    \n",
    "    def print_info(self, n):\n",
    "        for i in range(n):\n",
    "            print(f\"Name: {self.name}, Surname: {self.surname}, Place of birth: {self.place_of_birth}\")\n",
    "    \n",
    "    def get_age(self, current_year):\n",
    "        if current_year >= self.year_of_birth:\n",
    "            print(f\"Age: {current_year - self.year_of_birth}\")\n"
   ]
  },
  {
   "cell_type": "code",
   "execution_count": 72,
   "id": "6dce9e00-2e24-4562-abee-03008069ca0e",
   "metadata": {},
   "outputs": [
    {
     "name": "stdout",
     "output_type": "stream",
     "text": [
      "Hello\n",
      "Hello\n",
      "Hello\n"
     ]
    }
   ],
   "source": [
    "p1 = Person(\"Elon\", \"Musk\", \"SA\", 1971)\n",
    "p2 = Person(\"Sergei\", \"Korolev\", \"UA\", 1907)\n",
    "p3 = Person(\"Albert\", \"Einstein\", \"GE\", 1879)"
   ]
  },
  {
   "cell_type": "code",
   "execution_count": 68,
   "id": "96c65c04-3a87-4485-a4bf-a08647576281",
   "metadata": {},
   "outputs": [
    {
     "name": "stdout",
     "output_type": "stream",
     "text": [
      "Name: Elon, Surname: Musk, Place of birth: SA\n",
      "Name: Sergei, Surname: Korolev, Place of birth: UA\n",
      "Name: Albert, Surname: Einstein, Place of birth: GE\n"
     ]
    }
   ],
   "source": [
    "p1.print_info(1)\n",
    "p2.print_info(1)\n",
    "p3.print_info(1)"
   ]
  },
  {
   "cell_type": "code",
   "execution_count": 69,
   "id": "df7a3564-bf16-48e8-a7fb-0a08b7170598",
   "metadata": {},
   "outputs": [],
   "source": [
    "p1.test = \"Hello\""
   ]
  },
  {
   "cell_type": "code",
   "execution_count": 70,
   "id": "b832d70d-627b-48b6-9be3-899becc8925d",
   "metadata": {},
   "outputs": [
    {
     "data": {
      "text/plain": [
       "'Hello'"
      ]
     },
     "execution_count": 70,
     "metadata": {},
     "output_type": "execute_result"
    }
   ],
   "source": [
    "p1.test"
   ]
  },
  {
   "cell_type": "code",
   "execution_count": 99,
   "id": "bec4c56f-13d8-4a76-afef-b04f5508824e",
   "metadata": {},
   "outputs": [],
   "source": [
    "class Person:\n",
    "    some_num = 123\n",
    "    \n",
    "    def __init__(self, name, surname, place_of_birth, year_of_birth):\n",
    "        self.name = name\n",
    "        self.surname = surname\n",
    "        self.place_of_birth = place_of_birth\n",
    "        self.year_of_birth = year_of_birth\n",
    "    \n",
    "    def print_info(self, n):\n",
    "        for i in range(n):\n",
    "            print(f\"Name: {self.name}, Surname: {self.surname}, Place of birth: {self.place_of_birth}\")\n",
    "    \n",
    "    def get_age(self, current_year):\n",
    "        if current_year >= self.year_of_birth:\n",
    "            print(f\"Age: {current_year - self.year_of_birth}\")\n"
   ]
  },
  {
   "cell_type": "code",
   "execution_count": 100,
   "id": "a19a2008-f816-42ad-8d85-b10e993f05ab",
   "metadata": {},
   "outputs": [],
   "source": [
    "p1 = Person(\"Elon\", \"Musk\", \"SA\", 1971)\n",
    "p2 = Person(\"Sergei\", \"Korolev\", \"UA\", 1907)"
   ]
  },
  {
   "cell_type": "code",
   "execution_count": 75,
   "id": "1419be2d-8489-46f0-9ebf-c7d49f296909",
   "metadata": {},
   "outputs": [
    {
     "data": {
      "text/plain": [
       "123"
      ]
     },
     "execution_count": 75,
     "metadata": {},
     "output_type": "execute_result"
    }
   ],
   "source": [
    "p1.some_num"
   ]
  },
  {
   "cell_type": "code",
   "execution_count": 77,
   "id": "92c2593c-6a09-4a08-ab9d-30488dad01a3",
   "metadata": {},
   "outputs": [
    {
     "data": {
      "text/plain": [
       "123"
      ]
     },
     "execution_count": 77,
     "metadata": {},
     "output_type": "execute_result"
    }
   ],
   "source": [
    "p2.some_num"
   ]
  },
  {
   "cell_type": "code",
   "execution_count": 78,
   "id": "ee89e8a6-1510-4840-86f4-09f8fa5940a0",
   "metadata": {},
   "outputs": [
    {
     "data": {
      "text/plain": [
       "123"
      ]
     },
     "execution_count": 78,
     "metadata": {},
     "output_type": "execute_result"
    }
   ],
   "source": [
    "Person.some_num"
   ]
  },
  {
   "cell_type": "code",
   "execution_count": 79,
   "id": "3e93d75e-0193-4bde-bf5f-4046a8d2b17c",
   "metadata": {},
   "outputs": [],
   "source": [
    "Person.some_num = 456"
   ]
  },
  {
   "cell_type": "code",
   "execution_count": 80,
   "id": "aaf8519c-385a-4186-97f6-48945ce5533e",
   "metadata": {},
   "outputs": [
    {
     "data": {
      "text/plain": [
       "456"
      ]
     },
     "execution_count": 80,
     "metadata": {},
     "output_type": "execute_result"
    }
   ],
   "source": [
    "Person.some_num"
   ]
  },
  {
   "cell_type": "code",
   "execution_count": 81,
   "id": "6a83227f-7d94-4ed5-aa69-f1bea64422c1",
   "metadata": {},
   "outputs": [
    {
     "data": {
      "text/plain": [
       "456"
      ]
     },
     "execution_count": 81,
     "metadata": {},
     "output_type": "execute_result"
    }
   ],
   "source": [
    "p2.some_num"
   ]
  },
  {
   "cell_type": "code",
   "execution_count": 82,
   "id": "cdd6ad7c-8c73-426f-ae62-2c97e558f0f1",
   "metadata": {},
   "outputs": [],
   "source": [
    "p1.some_num = 789"
   ]
  },
  {
   "cell_type": "code",
   "execution_count": 83,
   "id": "65bc0e07-5ea6-455f-ae21-69568ea6c601",
   "metadata": {},
   "outputs": [
    {
     "data": {
      "text/plain": [
       "456"
      ]
     },
     "execution_count": 83,
     "metadata": {},
     "output_type": "execute_result"
    }
   ],
   "source": [
    "Person.some_num"
   ]
  },
  {
   "cell_type": "code",
   "execution_count": 84,
   "id": "bfbed1a9-48c5-4055-a3cc-5e2f660beeb7",
   "metadata": {},
   "outputs": [
    {
     "data": {
      "text/plain": [
       "789"
      ]
     },
     "execution_count": 84,
     "metadata": {},
     "output_type": "execute_result"
    }
   ],
   "source": [
    "p1.some_num"
   ]
  },
  {
   "cell_type": "code",
   "execution_count": 85,
   "id": "5443d3a5-a6a7-4d53-afda-dee1c0a84d69",
   "metadata": {},
   "outputs": [
    {
     "data": {
      "text/plain": [
       "456"
      ]
     },
     "execution_count": 85,
     "metadata": {},
     "output_type": "execute_result"
    }
   ],
   "source": [
    "p2.some_num"
   ]
  },
  {
   "cell_type": "code",
   "execution_count": 93,
   "id": "190e9ee6-b8da-493a-ad48-ed033dc0f808",
   "metadata": {},
   "outputs": [],
   "source": [
    "class Circle:\n",
    "    \n",
    "    PI = 3.14\n",
    "    \n",
    "    def __init__(self, radius):\n",
    "        self.radius = radius\n",
    "        \n",
    "    def get_perimeter(self):\n",
    "        return self.radius * 2 * Circle.PI # or self.PI\n",
    "    \n",
    "    def get_area(self):\n",
    "        return Circle.PI * self.radius ** 2"
   ]
  },
  {
   "cell_type": "code",
   "execution_count": 94,
   "id": "999a503a-2848-487c-8d4b-26c23048e94c",
   "metadata": {},
   "outputs": [
    {
     "name": "stdout",
     "output_type": "stream",
     "text": [
      "18.84\n",
      "28.26\n"
     ]
    }
   ],
   "source": [
    "c1 = Circle(3)\n",
    "print(c1.get_perimeter())\n",
    "print(c1.get_area())"
   ]
  },
  {
   "cell_type": "code",
   "execution_count": 95,
   "id": "8f6424a0-1480-469d-bc43-b40f28c87c0d",
   "metadata": {},
   "outputs": [
    {
     "name": "stdout",
     "output_type": "stream",
     "text": [
      "43.96\n",
      "153.86\n"
     ]
    }
   ],
   "source": [
    "c2 = Circle(7)\n",
    "print(c2.get_perimeter())\n",
    "print(c2.get_area())"
   ]
  },
  {
   "cell_type": "code",
   "execution_count": null,
   "id": "97806246-c590-4380-85f4-45c56933230a",
   "metadata": {},
   "outputs": [],
   "source": [
    "class DB:\n",
    "    dbConnection = pass\n",
    "\n",
    "    def write_some_data(self):\n",
    "        DB. or self."
   ]
  },
  {
   "cell_type": "code",
   "execution_count": 110,
   "id": "7a3daf66-e493-4a60-9705-d3fc0a7f98f8",
   "metadata": {},
   "outputs": [],
   "source": [
    "class Person:\n",
    "    some_num = 123\n",
    "    people_count = 0\n",
    "    \n",
    "    def __init__(self, name, surname, place_of_birth, year_of_birth):\n",
    "        self.name = name\n",
    "        self.surname = surname\n",
    "        self.place_of_birth = place_of_birth\n",
    "        self.year_of_birth = year_of_birth\n",
    "        Person.people_count += 1\n",
    "    \n",
    "    def print_info(self, n):\n",
    "        for i in range(n):\n",
    "            print(f\"Name: {self.name}, Surname: {self.surname}, Place of birth: {self.place_of_birth}\")\n",
    "    \n",
    "    def get_age(self, current_year):\n",
    "        if current_year >= self.year_of_birth:\n",
    "            print(f\"Age: {current_year - self.year_of_birth}\")\n"
   ]
  },
  {
   "cell_type": "code",
   "execution_count": 111,
   "id": "011e214e-650f-4b71-bb9b-835989acd908",
   "metadata": {},
   "outputs": [],
   "source": [
    "p1 = Person(\"Elon\", \"Musk\", \"SA\", 1971)\n",
    "p2 = Person(\"Sergei\", \"Korolev\", \"UA\", 1907)"
   ]
  },
  {
   "cell_type": "code",
   "execution_count": 112,
   "id": "ed961ddf-10af-49d5-bad0-b56dea2cb760",
   "metadata": {},
   "outputs": [
    {
     "name": "stdout",
     "output_type": "stream",
     "text": [
      "2\n"
     ]
    }
   ],
   "source": [
    "print(Person.people_count)"
   ]
  },
  {
   "cell_type": "code",
   "execution_count": null,
   "id": "99630cb8-1446-468d-bc91-58308654570b",
   "metadata": {},
   "outputs": [],
   "source": []
  }
 ],
 "metadata": {
  "kernelspec": {
   "display_name": "Python 3 (ipykernel)",
   "language": "python",
   "name": "python3"
  },
  "language_info": {
   "codemirror_mode": {
    "name": "ipython",
    "version": 3
   },
   "file_extension": ".py",
   "mimetype": "text/x-python",
   "name": "python",
   "nbconvert_exporter": "python",
   "pygments_lexer": "ipython3",
   "version": "3.9.13"
  }
 },
 "nbformat": 4,
 "nbformat_minor": 5
}
