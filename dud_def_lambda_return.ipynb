{
 "cells": [
  {
   "cell_type": "code",
   "execution_count": 1,
   "id": "52b5f049-0938-484b-b192-0178223deb00",
   "metadata": {},
   "outputs": [],
   "source": [
    "def func(x,a,b):\n",
    "    return x"
   ]
  },
  {
   "cell_type": "code",
   "execution_count": 2,
   "id": "c2bf5a43-febe-4165-af2d-184cd320bd97",
   "metadata": {},
   "outputs": [
    {
     "name": "stdout",
     "output_type": "stream",
     "text": [
      "23\n"
     ]
    }
   ],
   "source": [
    "def func(x):\n",
    "    return x\n",
    "\n",
    "print(func(23))"
   ]
  },
  {
   "cell_type": "code",
   "execution_count": 5,
   "id": "af58dc7d-dff7-44db-9e27-ca6202797af2",
   "metadata": {},
   "outputs": [
    {
     "name": "stdout",
     "output_type": "stream",
     "text": [
      "35\n",
      "Hello World!\n"
     ]
    }
   ],
   "source": [
    "def func(x,a):\n",
    "    return x + a\n",
    "\n",
    "print(func(23, 12))\n",
    "print(func('Hello ', 'World!'))"
   ]
  },
  {
   "cell_type": "code",
   "execution_count": 6,
   "id": "f990401f-90f8-4ecf-b368-1a2f46a607f9",
   "metadata": {},
   "outputs": [
    {
     "name": "stdout",
     "output_type": "stream",
     "text": [
      "35\n",
      "Hello World!\n"
     ]
    }
   ],
   "source": [
    "def func(x,a):\n",
    "    res = x + a\n",
    "    return res\n",
    "\n",
    "print(func(23, 12))\n",
    "print(func('Hello ', 'World!'))"
   ]
  },
  {
   "cell_type": "code",
   "execution_count": 13,
   "id": "1bf0c3c2-eb8e-4c0a-a48b-54fd923fef58",
   "metadata": {},
   "outputs": [
    {
     "name": "stdout",
     "output_type": "stream",
     "text": [
      "300\n"
     ]
    }
   ],
   "source": [
    "def func(x):\n",
    "    def add(a):\n",
    "        return x + a\n",
    "    return add\n",
    "\n",
    "test = func(100)\n",
    "#test(200)\n",
    "print(test(200))"
   ]
  },
  {
   "cell_type": "code",
   "execution_count": 14,
   "id": "31a1bc0e-f6e1-4416-b3bd-713ce37620d5",
   "metadata": {},
   "outputs": [
    {
     "name": "stdout",
     "output_type": "stream",
     "text": [
      "None\n"
     ]
    }
   ],
   "source": [
    "def func():\n",
    "    x = 34\n",
    "    pass\n",
    "\n",
    "print(func())"
   ]
  },
  {
   "cell_type": "code",
   "execution_count": 18,
   "id": "3d21f5cf-2353-4723-9215-d4c5a579e324",
   "metadata": {},
   "outputs": [
    {
     "name": "stdout",
     "output_type": "stream",
     "text": [
      "12\n",
      "12\n",
      "18\n"
     ]
    }
   ],
   "source": [
    "def func(r,w, y = 2):\n",
    "    res = r + w\n",
    "    res *= y\n",
    "    return res\n",
    "\n",
    "print(func(2,4))\n",
    "print(func(2,4,2))\n",
    "print(func(2,4,3))"
   ]
  },
  {
   "cell_type": "code",
   "execution_count": 23,
   "id": "288537c4-7e1b-4505-809f-f6a62f658944",
   "metadata": {},
   "outputs": [
    {
     "name": "stdout",
     "output_type": "stream",
     "text": [
      "(2, 4, 3)\n",
      "('sd', 45.35, 3)\n",
      "{'a': 23, 'n': 56, 'o': 90}\n",
      "{'short': 'dict', 'longer': 'dictionary'}\n"
     ]
    }
   ],
   "source": [
    "def func(*args):\n",
    "    return args\n",
    "\n",
    "#tuple\n",
    "print(func(2,4,3)) \n",
    "print(func('sd',45.35,3))\n",
    "\n",
    "# no tuple but dict:\n",
    "\n",
    "def func(**args):\n",
    "    return args\n",
    "\n",
    "print(func(a=23,n=56,o=90))\n",
    "\n",
    "print(func(short='dict',longer='dictionary'))"
   ]
  },
  {
   "cell_type": "code",
   "execution_count": 28,
   "id": "ae02257e-2d9c-42e4-9351-b88991911476",
   "metadata": {},
   "outputs": [
    {
     "name": "stdout",
     "output_type": "stream",
     "text": [
      "10\n",
      "qq\n"
     ]
    }
   ],
   "source": [
    "#lambda\n",
    "\n",
    "add = lambda x,y: x * y\n",
    "print(add(2,5))\n",
    "print(add('q',2))"
   ]
  },
  {
   "cell_type": "code",
   "execution_count": 29,
   "id": "fa0ddc67-9fe1-4352-a460-7d32b60f2ff7",
   "metadata": {},
   "outputs": [
    {
     "name": "stdout",
     "output_type": "stream",
     "text": [
      "12\n"
     ]
    }
   ],
   "source": [
    "print((lambda x,y: x * y)(2,6))"
   ]
  },
  {
   "cell_type": "code",
   "execution_count": 31,
   "id": "4f741b52-87b2-4ff9-87dc-f481752c69b6",
   "metadata": {},
   "outputs": [
    {
     "name": "stdout",
     "output_type": "stream",
     "text": [
      "(2, 56, 78.56)\n"
     ]
    }
   ],
   "source": [
    "fun = lambda *args: args\n",
    "print(fun(2,56,78.56))"
   ]
  },
  {
   "cell_type": "code",
   "execution_count": null,
   "id": "933bb3a5-615e-4cd9-8697-749cb66cd8d8",
   "metadata": {},
   "outputs": [],
   "source": []
  }
 ],
 "metadata": {
  "kernelspec": {
   "display_name": "Python 3 (ipykernel)",
   "language": "python",
   "name": "python3"
  },
  "language_info": {
   "codemirror_mode": {
    "name": "ipython",
    "version": 3
   },
   "file_extension": ".py",
   "mimetype": "text/x-python",
   "name": "python",
   "nbconvert_exporter": "python",
   "pygments_lexer": "ipython3",
   "version": "3.9.13"
  }
 },
 "nbformat": 4,
 "nbformat_minor": 5
}
