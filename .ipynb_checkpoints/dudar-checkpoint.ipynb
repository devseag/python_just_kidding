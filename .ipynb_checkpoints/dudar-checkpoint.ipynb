{
 "cells": [
  {
   "cell_type": "code",
   "execution_count": 1,
   "id": "537e5856-947a-44fe-a22b-0a45e213d8a1",
   "metadata": {},
   "outputs": [
    {
     "name": "stdin",
     "output_type": "stream",
     "text": [
      "How are you?  sdf\n"
     ]
    },
    {
     "name": "stdout",
     "output_type": "stream",
     "text": [
      "Hello sdf\n"
     ]
    }
   ],
   "source": [
    "name = input(\"How are you? \")\n",
    "print(\"Hello\", name)"
   ]
  },
  {
   "cell_type": "code",
   "execution_count": 2,
   "id": "659247af-bd95-458d-8d19-cb4784e1a1a8",
   "metadata": {},
   "outputs": [
    {
     "name": "stdout",
     "output_type": "stream",
     "text": [
      "Nothing\n"
     ]
    }
   ],
   "source": [
    "i = 1000\n",
    "while i > 1000:\n",
    "    print(i)\n",
    "    i /= 2\n",
    "else: # if no break\n",
    "    print(\"Nothing\")"
   ]
  },
  {
   "cell_type": "code",
   "execution_count": 15,
   "id": "9ac52b45-990f-4377-8e24-039ad03c59e7",
   "metadata": {},
   "outputs": [
    {
     "name": "stdout",
     "output_type": "stream",
     "text": [
      "0\n",
      "1\n",
      "[]\n"
     ]
    }
   ],
   "source": [
    "# Уроки Python для начинающих | #7\n",
    "l = []\n",
    "l.append (23)\n",
    "l.append (34)\n",
    "b = [24, 67]\n",
    "l.extend (b)\n",
    "l.insert (1, 56)\n",
    "l.append (34)\n",
    "l.remove (34)\n",
    "l.pop ()\n",
    "l.pop(0)\n",
    "print(l.index (56))\n",
    "print(l.count (24))\n",
    "l.sort ()\n",
    "l.reverse ()\n",
    "l.clear ()\n",
    "\n",
    "print(l)"
   ]
  },
  {
   "cell_type": "code",
   "execution_count": null,
   "id": "cfde5695-0ca9-41b3-a55e-b799192d0843",
   "metadata": {},
   "outputs": [],
   "source": []
  }
 ],
 "metadata": {
  "kernelspec": {
   "display_name": "Python 3 (ipykernel)",
   "language": "python",
   "name": "python3"
  },
  "language_info": {
   "codemirror_mode": {
    "name": "ipython",
    "version": 3
   },
   "file_extension": ".py",
   "mimetype": "text/x-python",
   "name": "python",
   "nbconvert_exporter": "python",
   "pygments_lexer": "ipython3",
   "version": "3.9.13"
  }
 },
 "nbformat": 4,
 "nbformat_minor": 5
}
