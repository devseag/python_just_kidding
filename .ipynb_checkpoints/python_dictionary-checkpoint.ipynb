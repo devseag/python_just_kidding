{
 "cells": [
  {
   "cell_type": "code",
   "execution_count": 3,
   "id": "19f37151-cbd9-4f8d-b932-127493728662",
   "metadata": {},
   "outputs": [],
   "source": [
    "# d = dict()\n",
    "d = {\"Alex\": 25, \"Petr\": 37}"
   ]
  },
  {
   "cell_type": "code",
   "execution_count": 4,
   "id": "c960a3a2-8d79-424e-b699-90a843fc1716",
   "metadata": {},
   "outputs": [
    {
     "name": "stdout",
     "output_type": "stream",
     "text": [
      "{'Alex': 25, 'Petr': 37}\n"
     ]
    }
   ],
   "source": [
    "print(d)"
   ]
  },
  {
   "cell_type": "code",
   "execution_count": 5,
   "id": "46648daf-4d88-436f-86fa-85712a55c85c",
   "metadata": {},
   "outputs": [
    {
     "data": {
      "text/plain": [
       "2"
      ]
     },
     "execution_count": 5,
     "metadata": {},
     "output_type": "execute_result"
    }
   ],
   "source": [
    "len(d)"
   ]
  },
  {
   "cell_type": "code",
   "execution_count": 7,
   "id": "66f48b11-a5a0-4e1e-af23-c74f73f9958b",
   "metadata": {},
   "outputs": [],
   "source": [
    "d[\"Kate\"] = 18"
   ]
  },
  {
   "cell_type": "code",
   "execution_count": 8,
   "id": "826a1a76-81df-4ed0-ac42-84ec2882d98b",
   "metadata": {},
   "outputs": [
    {
     "name": "stdout",
     "output_type": "stream",
     "text": [
      "{'Alex': 25, 'Petr': 37, 'Kate': 18}\n"
     ]
    }
   ],
   "source": [
    "print(d)"
   ]
  },
  {
   "cell_type": "code",
   "execution_count": 10,
   "id": "2b997962-fbe6-4167-9e6d-a8e3ed3877f6",
   "metadata": {},
   "outputs": [
    {
     "name": "stdout",
     "output_type": "stream",
     "text": [
      "37\n"
     ]
    }
   ],
   "source": [
    "print(d[\"Petr\"])"
   ]
  },
  {
   "cell_type": "code",
   "execution_count": 11,
   "id": "72fcd3c3-de2d-4df4-824d-114603a955b4",
   "metadata": {},
   "outputs": [
    {
     "name": "stdout",
     "output_type": "stream",
     "text": [
      "25\n"
     ]
    }
   ],
   "source": [
    "print(d[\"Alex\"])"
   ]
  },
  {
   "cell_type": "code",
   "execution_count": 12,
   "id": "4233d8bd-1130-4f53-9538-be80906d1d52",
   "metadata": {},
   "outputs": [
    {
     "ename": "KeyError",
     "evalue": "'Tom'",
     "output_type": "error",
     "traceback": [
      "\u001b[1;31m---------------------------------------------------------------------------\u001b[0m",
      "\u001b[1;31mKeyError\u001b[0m                                  Traceback (most recent call last)",
      "\u001b[1;32m~\\AppData\\Local\\Temp\\ipykernel_168208\\2276843973.py\u001b[0m in \u001b[0;36m<module>\u001b[1;34m\u001b[0m\n\u001b[1;32m----> 1\u001b[1;33m \u001b[0mprint\u001b[0m\u001b[1;33m(\u001b[0m\u001b[0md\u001b[0m\u001b[1;33m[\u001b[0m\u001b[1;34m\"Tom\"\u001b[0m\u001b[1;33m]\u001b[0m\u001b[1;33m)\u001b[0m\u001b[1;33m\u001b[0m\u001b[1;33m\u001b[0m\u001b[0m\n\u001b[0m",
      "\u001b[1;31mKeyError\u001b[0m: 'Tom'"
     ]
    }
   ],
   "source": [
    "print(d[\"Tom\"])"
   ]
  },
  {
   "cell_type": "code",
   "execution_count": 13,
   "id": "55263456-62cd-4780-95ba-ded9cdef6f16",
   "metadata": {},
   "outputs": [
    {
     "name": "stdout",
     "output_type": "stream",
     "text": [
      "18\n"
     ]
    }
   ],
   "source": [
    "print(d[\"Kate\"])"
   ]
  },
  {
   "cell_type": "code",
   "execution_count": 14,
   "id": "933aa557-55cc-470d-a867-386116cfcc6e",
   "metadata": {},
   "outputs": [],
   "source": [
    "d[\"Kate\"] = 24"
   ]
  },
  {
   "cell_type": "code",
   "execution_count": 15,
   "id": "cacfdfde-8120-44a9-8133-f3984966b116",
   "metadata": {},
   "outputs": [
    {
     "name": "stdout",
     "output_type": "stream",
     "text": [
      "24\n"
     ]
    }
   ],
   "source": [
    "print(d[\"Kate\"])"
   ]
  },
  {
   "cell_type": "code",
   "execution_count": 16,
   "id": "40c2c043-fa4b-4776-bce9-3f27af61ad72",
   "metadata": {},
   "outputs": [
    {
     "name": "stdout",
     "output_type": "stream",
     "text": [
      "{'Alex': 25, 'Petr': 37, 'Kate': 24}\n"
     ]
    }
   ],
   "source": [
    "print(d)"
   ]
  },
  {
   "cell_type": "code",
   "execution_count": 17,
   "id": "554f3121-19ed-4607-9003-2bb491a38a58",
   "metadata": {},
   "outputs": [],
   "source": [
    "d[10] = 20"
   ]
  },
  {
   "cell_type": "code",
   "execution_count": 18,
   "id": "858538ce-b408-42b0-8016-358b3b872d9b",
   "metadata": {},
   "outputs": [
    {
     "name": "stdout",
     "output_type": "stream",
     "text": [
      "{'Alex': 25, 'Petr': 37, 'Kate': 24, 10: 20}\n"
     ]
    }
   ],
   "source": [
    "print(d)"
   ]
  },
  {
   "cell_type": "code",
   "execution_count": 20,
   "id": "ea9aeb44-64a1-4ac2-99a8-250b6177219f",
   "metadata": {},
   "outputs": [
    {
     "name": "stdout",
     "output_type": "stream",
     "text": [
      "Alex\n",
      "25\n",
      "Petr\n",
      "37\n",
      "Kate\n",
      "24\n",
      "10\n",
      "20\n"
     ]
    }
   ],
   "source": [
    "for k, v in d.items():\n",
    "    print(k)\n",
    "    print(v)"
   ]
  },
  {
   "cell_type": "code",
   "execution_count": 24,
   "id": "13b8b196-3d33-4f9c-9cef-2893ceed5900",
   "metadata": {},
   "outputs": [
    {
     "name": "stdout",
     "output_type": "stream",
     "text": [
      "key: Alex, value: 25\n",
      "key: Petr, value: 37\n",
      "key: Kate, value: 24\n",
      "key: 10, value: 20\n"
     ]
    }
   ],
   "source": [
    "for key, value in d.items():\n",
    "    print(\"key: \" + str(key) + \", value: \" + str(value))"
   ]
  },
  {
   "cell_type": "code",
   "execution_count": 30,
   "id": "88959d5f-8ef2-42b0-9e64-481c33550190",
   "metadata": {},
   "outputs": [],
   "source": [
    "a = [\"first\", 1, 2, 3, \"second\", 10, 20, \"third\", 15, 56, 70, \"fourth\", -50]"
   ]
  },
  {
   "cell_type": "code",
   "execution_count": 28,
   "id": "ab750a9f-9e63-40b1-b2ea-f864396c4ca7",
   "metadata": {},
   "outputs": [
    {
     "data": {
      "text/plain": [
       "int"
      ]
     },
     "execution_count": 28,
     "metadata": {},
     "output_type": "execute_result"
    }
   ],
   "source": [
    "type(1)"
   ]
  },
  {
   "cell_type": "code",
   "execution_count": 37,
   "id": "a5e7d3b5-cdde-47d0-a6e0-6aedbb6f622a",
   "metadata": {},
   "outputs": [
    {
     "name": "stdout",
     "output_type": "stream",
     "text": [
      "first\n",
      "second\n",
      "third\n",
      "fourth\n",
      "{}\n"
     ]
    }
   ],
   "source": [
    "d = {}\n",
    "\n",
    "i = 0\n",
    "for e in range(len(a)):\n",
    "    while type(a[e]) == str:\n",
    "        d[a[i]] = d[\n",
    "        e += 1\n",
    "        \n",
    "print(d)\n",
    "        \n",
    "        "
   ]
  },
  {
   "cell_type": "code",
   "execution_count": null,
   "id": "81de5a3a-74e4-403d-8f35-afa0f34e0ebc",
   "metadata": {},
   "outputs": [],
   "source": []
  }
 ],
 "metadata": {
  "kernelspec": {
   "display_name": "Python 3 (ipykernel)",
   "language": "python",
   "name": "python3"
  },
  "language_info": {
   "codemirror_mode": {
    "name": "ipython",
    "version": 3
   },
   "file_extension": ".py",
   "mimetype": "text/x-python",
   "name": "python",
   "nbconvert_exporter": "python",
   "pygments_lexer": "ipython3",
   "version": "3.9.13"
  }
 },
 "nbformat": 4,
 "nbformat_minor": 5
}
