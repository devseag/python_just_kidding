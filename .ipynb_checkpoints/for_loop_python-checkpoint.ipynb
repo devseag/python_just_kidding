{
 "cells": [
  {
   "cell_type": "code",
   "execution_count": 1,
   "id": "4b590706-a747-4356-b923-64b656c28297",
   "metadata": {},
   "outputs": [],
   "source": [
    "a = [\"Hey\", \"hello\", \"goodbye\"]"
   ]
  },
  {
   "cell_type": "code",
   "execution_count": 2,
   "id": "577749fd-0836-47a1-9434-d75bd06feccf",
   "metadata": {},
   "outputs": [
    {
     "name": "stdout",
     "output_type": "stream",
     "text": [
      "Hey\n",
      "hello\n",
      "goodbye\n"
     ]
    }
   ],
   "source": [
    "for element in a:\n",
    "    print(element)"
   ]
  },
  {
   "cell_type": "code",
   "execution_count": 5,
   "id": "534edd0e-4229-4f6c-a1bf-b8ab2e67b4c7",
   "metadata": {},
   "outputs": [
    {
     "name": "stdout",
     "output_type": "stream",
     "text": [
      "20\n",
      "20\n",
      "30\n",
      "30\n",
      "50\n",
      "50\n",
      "60\n",
      "60\n"
     ]
    }
   ],
   "source": [
    "b = [20, 30, 50, 60]\n",
    "for num in b:\n",
    "    print(num)\n",
    "    print(num)"
   ]
  },
  {
   "cell_type": "code",
   "execution_count": 6,
   "id": "9bcdd4f1-0bd2-4c4d-b04e-c1e01f136e2c",
   "metadata": {},
   "outputs": [
    {
     "name": "stdout",
     "output_type": "stream",
     "text": [
      "160\n"
     ]
    }
   ],
   "source": [
    "total_sum = 0\n",
    "for e in b:\n",
    "    total_sum = total_sum + e\n",
    "    \n",
    "print(total_sum)"
   ]
  },
  {
   "cell_type": "code",
   "execution_count": 7,
   "id": "343552c5-98b0-4a5f-acdc-07d1613f37b3",
   "metadata": {},
   "outputs": [
    {
     "data": {
      "text/plain": [
       "range(1, 5)"
      ]
     },
     "execution_count": 7,
     "metadata": {},
     "output_type": "execute_result"
    }
   ],
   "source": [
    "range(1, 5)"
   ]
  },
  {
   "cell_type": "code",
   "execution_count": 9,
   "id": "632309a8-d466-45bb-bfc8-104f0a7fd827",
   "metadata": {},
   "outputs": [
    {
     "name": "stdout",
     "output_type": "stream",
     "text": [
      "[1, 2, 3, 4]\n"
     ]
    }
   ],
   "source": [
    "print(list(range(1,5)))"
   ]
  },
  {
   "cell_type": "code",
   "execution_count": 10,
   "id": "669bad2c-5881-4723-84fe-4ca0bececa7a",
   "metadata": {},
   "outputs": [
    {
     "name": "stdout",
     "output_type": "stream",
     "text": [
      "1\n",
      "2\n",
      "3\n",
      "4\n"
     ]
    }
   ],
   "source": [
    "for i in range(1, 5):\n",
    "    print(i)"
   ]
  },
  {
   "cell_type": "code",
   "execution_count": 12,
   "id": "fb6aa87f-8290-4263-913c-c3b4d9e87350",
   "metadata": {},
   "outputs": [
    {
     "name": "stdout",
     "output_type": "stream",
     "text": [
      "10\n"
     ]
    }
   ],
   "source": [
    "total_sum2 = 0\n",
    "for i in range(1, 5):\n",
    "    # total_sum2 = total_sum2 + i\n",
    "    total_sum2 += i\n",
    "    \n",
    "print(total_sum2)"
   ]
  },
  {
   "cell_type": "code",
   "execution_count": 13,
   "id": "5093f9df-627a-427e-8243-126fe962067c",
   "metadata": {},
   "outputs": [
    {
     "name": "stdout",
     "output_type": "stream",
     "text": [
      "[1, 2, 3, 4, 5, 6, 7, 8, 9, 10, 11, 12, 13, 14, 15, 16, 17, 18, 19, 20, 21, 22, 23, 24, 25, 26, 27, 28, 29, 30, 31, 32, 33, 34, 35, 36, 37, 38, 39, 40, 41, 42, 43, 44, 45, 46, 47, 48, 49, 50, 51, 52, 53, 54, 55, 56, 57, 58, 59, 60, 61, 62, 63, 64, 65, 66, 67, 68, 69, 70, 71, 72, 73, 74, 75, 76, 77, 78, 79, 80, 81, 82, 83, 84, 85, 86, 87, 88, 89, 90, 91, 92, 93, 94, 95, 96, 97, 98, 99]\n"
     ]
    }
   ],
   "source": [
    "print(list(range(1, 100)))"
   ]
  },
  {
   "cell_type": "code",
   "execution_count": 14,
   "id": "d59fc046-93d1-4f59-9a8c-a914286cda06",
   "metadata": {},
   "outputs": [
    {
     "data": {
      "text/plain": [
       "2"
      ]
     },
     "execution_count": 14,
     "metadata": {},
     "output_type": "execute_result"
    }
   ],
   "source": [
    "5 % 3"
   ]
  },
  {
   "cell_type": "code",
   "execution_count": 15,
   "id": "76ebcd6f-e099-47f9-acbc-e22e2a8112cc",
   "metadata": {},
   "outputs": [
    {
     "data": {
      "text/plain": [
       "0"
      ]
     },
     "execution_count": 15,
     "metadata": {},
     "output_type": "execute_result"
    }
   ],
   "source": [
    "6 % 2"
   ]
  },
  {
   "cell_type": "code",
   "execution_count": 16,
   "id": "c7abd96e-2294-49f2-a093-188a877837a9",
   "metadata": {},
   "outputs": [
    {
     "data": {
      "text/plain": [
       "1"
      ]
     },
     "execution_count": 16,
     "metadata": {},
     "output_type": "execute_result"
    }
   ],
   "source": [
    "4 % 3"
   ]
  },
  {
   "cell_type": "code",
   "execution_count": 17,
   "id": "26427881-ce66-46a5-b30c-fe641b34ef34",
   "metadata": {},
   "outputs": [
    {
     "data": {
      "text/plain": [
       "0"
      ]
     },
     "execution_count": 17,
     "metadata": {},
     "output_type": "execute_result"
    }
   ],
   "source": [
    "3 % 3"
   ]
  },
  {
   "cell_type": "code",
   "execution_count": 18,
   "id": "3fb8ab75-430c-4cfd-8e64-7d899e5ce481",
   "metadata": {},
   "outputs": [
    {
     "data": {
      "text/plain": [
       "2"
      ]
     },
     "execution_count": 18,
     "metadata": {},
     "output_type": "execute_result"
    }
   ],
   "source": [
    "2 % 3"
   ]
  },
  {
   "cell_type": "code",
   "execution_count": 21,
   "id": "bf168423-8c13-410b-8c30-cccab0cb1d41",
   "metadata": {},
   "outputs": [
    {
     "name": "stdout",
     "output_type": "stream",
     "text": [
      "1683\n"
     ]
    }
   ],
   "source": [
    "total_sum3 = 0\n",
    "for i in range(1, 100):\n",
    "    if i % 3 == 0:\n",
    "        total_sum3 += i\n",
    "        \n",
    "print(total_sum3)        "
   ]
  },
  {
   "cell_type": "code",
   "execution_count": 22,
   "id": "72736d8d-9d4a-45e4-9b31-241a08e51578",
   "metadata": {},
   "outputs": [
    {
     "name": "stdout",
     "output_type": "stream",
     "text": [
      "2318\n"
     ]
    }
   ],
   "source": [
    "total_sum3 = 0\n",
    "for i in range(1, 100):\n",
    "    if i % 3 == 0 or i % 5 == 0:\n",
    "        total_sum3 += i\n",
    "        \n",
    "print(total_sum3)"
   ]
  },
  {
   "cell_type": "code",
   "execution_count": 35,
   "id": "828a328a-daa5-4835-9c7c-234e5c473795",
   "metadata": {},
   "outputs": [],
   "source": [
    "def my_function(n, k):\n",
    "    total_sum_even = 0\n",
    "    if n > 20:\n",
    "        return 0\n",
    "    elif n <= 20:\n",
    "        for e in range(n, k):\n",
    "            if e % 2 == 0:\n",
    "                total_sum_even =+ e ** k;\n",
    "    return total_sum_even"
   ]
  },
  {
   "cell_type": "code",
   "execution_count": 36,
   "id": "1e2373dc-297e-436f-b770-88e3cb6c94dc",
   "metadata": {},
   "outputs": [
    {
     "name": "stdout",
     "output_type": "stream",
     "text": [
      "4096\n"
     ]
    }
   ],
   "source": [
    "print(my_function(1, 6))"
   ]
  },
  {
   "cell_type": "code",
   "execution_count": null,
   "id": "08c266b4-76ca-49fb-a395-f1b6f656441d",
   "metadata": {},
   "outputs": [],
   "source": []
  }
 ],
 "metadata": {
  "kernelspec": {
   "display_name": "Python 3 (ipykernel)",
   "language": "python",
   "name": "python3"
  },
  "language_info": {
   "codemirror_mode": {
    "name": "ipython",
    "version": 3
   },
   "file_extension": ".py",
   "mimetype": "text/x-python",
   "name": "python",
   "nbconvert_exporter": "python",
   "pygments_lexer": "ipython3",
   "version": "3.9.13"
  }
 },
 "nbformat": 4,
 "nbformat_minor": 5
}
