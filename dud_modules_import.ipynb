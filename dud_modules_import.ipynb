{
 "cells": [
  {
   "cell_type": "code",
   "execution_count": 2,
   "id": "e650bcee-6c2e-4044-a754-796d03d09b38",
   "metadata": {},
   "outputs": [
    {
     "name": "stdout",
     "output_type": "stream",
     "text": [
      "2.718281828459045\n",
      "3.141592653589793\n",
      "0.5403023058681398\n"
     ]
    }
   ],
   "source": [
    "import math\n",
    "\n",
    "print(math.e)\n",
    "print(math.pi)\n",
    "print(math.cos(1))"
   ]
  },
  {
   "cell_type": "code",
   "execution_count": 6,
   "id": "98f36abb-37d6-492c-b5e4-d524aa76c614",
   "metadata": {},
   "outputs": [
    {
     "name": "stdout",
     "output_type": "stream",
     "text": [
      "1677692310.9099543\n",
      "C:\\Users\\qqq\\Desktop\\python_scripts\n"
     ]
    }
   ],
   "source": [
    "#import time, os\n",
    "import time\n",
    "import os\n",
    "\n",
    "print(time.time())\n",
    "print(os.getcwd())"
   ]
  },
  {
   "cell_type": "code",
   "execution_count": 8,
   "id": "5522d1ae-767b-497e-a607-f9f5d825e252",
   "metadata": {},
   "outputs": [
    {
     "name": "stdout",
     "output_type": "stream",
     "text": [
      "No module\n",
      "1677692384.8407993\n",
      "C:\\Users\\qqq\\Desktop\\python_scripts\n",
      "0.7948006862560294\n"
     ]
    }
   ],
   "source": [
    "#import time, os\n",
    "import time\n",
    "import os\n",
    "import random as r\n",
    "try:\n",
    "    import nomodule\n",
    "except ImportError:\n",
    "    print(\"No module\")\n",
    "\n",
    "print(time.time())\n",
    "print(os.getcwd())\n",
    "print(r.random())"
   ]
  },
  {
   "cell_type": "code",
   "execution_count": null,
   "id": "4c6296ae-faee-4784-ba08-9c9f0f19d446",
   "metadata": {},
   "outputs": [],
   "source": [
    "#import time, os\n",
    "import time\n",
    "import os\n",
    "import random as r\n",
    "try:\n",
    "    import nomodule\n",
    "except ImportError:\n",
    "    print(\"No module\")\n",
    "\n",
    "print(time.time())\n",
    "print(os.getcwd())\n",
    "print(r.random())"
   ]
  },
  {
   "cell_type": "code",
   "execution_count": null,
   "id": "64b05aa9-a9cb-41f1-a3ac-77448cb8a7db",
   "metadata": {},
   "outputs": [],
   "source": [
    "# created module.py file"
   ]
  },
  {
   "cell_type": "code",
   "execution_count": 9,
   "id": "af0f4557-fae8-49f9-9a98-c47e9f2761b4",
   "metadata": {},
   "outputs": [
    {
     "name": "stdout",
     "output_type": "stream",
     "text": [
      "No module\n",
      "1677692486.5586576\n",
      "C:\\Users\\qqq\\Desktop\\python_scripts\n",
      "0.1629934021603433\n"
     ]
    }
   ],
   "source": [
    "#import time, os\n",
    "import time\n",
    "import os\n",
    "import random as r\n",
    "try:\n",
    "    import nomodule\n",
    "except ImportError:\n",
    "    print(\"No module\")\n",
    "import module\n",
    "\n",
    "print(time.time())\n",
    "print(os.getcwd())\n",
    "print(r.random())"
   ]
  },
  {
   "cell_type": "code",
   "execution_count": 11,
   "id": "484efd20-6f63-4b2a-970b-17ff0306d114",
   "metadata": {},
   "outputs": [
    {
     "name": "stdout",
     "output_type": "stream",
     "text": [
      "No module\n",
      "1677692532.8478367\n",
      "C:\\Users\\qqq\\Desktop\\python_scripts\n",
      "0.6508889610102421\n"
     ]
    }
   ],
   "source": [
    "#import time, os\n",
    "import time\n",
    "import os\n",
    "import random as r\n",
    "import module\n",
    "try:\n",
    "    import nomodule\n",
    "except ImportError:\n",
    "    print(\"No module\")\n",
    "\n",
    "\n",
    "print(time.time())\n",
    "print(os.getcwd())\n",
    "print(r.random())"
   ]
  },
  {
   "cell_type": "code",
   "execution_count": 24,
   "id": "e83581ac-4b30-4b8b-91e5-cea057c1ed5c",
   "metadata": {},
   "outputs": [
    {
     "name": "stdout",
     "output_type": "stream",
     "text": [
      "Hello World\n",
      "60\n"
     ]
    }
   ],
   "source": [
    "import modul as m\n",
    "\n",
    "m.hi()\n",
    "print(m.add(45,15))"
   ]
  },
  {
   "cell_type": "code",
   "execution_count": 26,
   "id": "d89088d4-c213-4617-a4d9-e44dc120a29d",
   "metadata": {},
   "outputs": [
    {
     "name": "stdout",
     "output_type": "stream",
     "text": [
      "Hello World\n"
     ]
    },
    {
     "ename": "NameError",
     "evalue": "name 'add' is not defined",
     "output_type": "error",
     "traceback": [
      "\u001b[1;31m---------------------------------------------------------------------------\u001b[0m",
      "\u001b[1;31mNameError\u001b[0m                                 Traceback (most recent call last)",
      "\u001b[1;32m~\\AppData\\Local\\Temp\\ipykernel_111808\\1967530795.py\u001b[0m in \u001b[0;36m<module>\u001b[1;34m\u001b[0m\n\u001b[0;32m      2\u001b[0m \u001b[1;33m\u001b[0m\u001b[0m\n\u001b[0;32m      3\u001b[0m \u001b[0mhi\u001b[0m\u001b[1;33m(\u001b[0m\u001b[1;33m)\u001b[0m\u001b[1;33m\u001b[0m\u001b[1;33m\u001b[0m\u001b[0m\n\u001b[1;32m----> 4\u001b[1;33m \u001b[0mprint\u001b[0m\u001b[1;33m(\u001b[0m\u001b[0madd\u001b[0m\u001b[1;33m(\u001b[0m\u001b[1;36m45\u001b[0m\u001b[1;33m,\u001b[0m\u001b[1;36m15\u001b[0m\u001b[1;33m)\u001b[0m\u001b[1;33m)\u001b[0m\u001b[1;33m\u001b[0m\u001b[1;33m\u001b[0m\u001b[0m\n\u001b[0m",
      "\u001b[1;31mNameError\u001b[0m: name 'add' is not defined"
     ]
    }
   ],
   "source": [
    "from modul import hi\n",
    "\n",
    "hi()\n",
    "print(add(45,15))"
   ]
  },
  {
   "cell_type": "code",
   "execution_count": 27,
   "id": "cf6b3a1d-b242-4fd9-bae1-65b9331c1585",
   "metadata": {},
   "outputs": [
    {
     "name": "stdout",
     "output_type": "stream",
     "text": [
      "Hello World\n",
      "60\n"
     ]
    }
   ],
   "source": [
    "from modul import hi, add\n",
    "\n",
    "hi()\n",
    "print(add(45,15))"
   ]
  },
  {
   "cell_type": "code",
   "execution_count": 28,
   "id": "19460a7f-6c3c-4590-a11d-d65b594b81f2",
   "metadata": {},
   "outputs": [
    {
     "name": "stdout",
     "output_type": "stream",
     "text": [
      "Hello World\n",
      "60\n"
     ]
    }
   ],
   "source": [
    "from modul import (hi, add)\n",
    "\n",
    "hi()\n",
    "print(add(45,15))"
   ]
  },
  {
   "cell_type": "code",
   "execution_count": 29,
   "id": "f63a587b-4d0f-498e-9fb3-894b7af11e7d",
   "metadata": {},
   "outputs": [
    {
     "name": "stdout",
     "output_type": "stream",
     "text": [
      "Hello World\n",
      "60\n"
     ]
    }
   ],
   "source": [
    "from modul import hi, add as a\n",
    "\n",
    "hi()\n",
    "print(a(45,15))"
   ]
  },
  {
   "cell_type": "code",
   "execution_count": 30,
   "id": "b3d6fa38-34ee-4319-a2d2-e06cc27e8076",
   "metadata": {},
   "outputs": [
    {
     "name": "stdout",
     "output_type": "stream",
     "text": [
      "Hello World\n",
      "60\n"
     ]
    }
   ],
   "source": [
    "from modul import hi as h, add as a\n",
    "\n",
    "h()\n",
    "print(a(45,15))"
   ]
  },
  {
   "cell_type": "code",
   "execution_count": null,
   "id": "39bc10f1-5eac-4499-8782-54e16c81d629",
   "metadata": {},
   "outputs": [],
   "source": []
  }
 ],
 "metadata": {
  "kernelspec": {
   "display_name": "Python 3 (ipykernel)",
   "language": "python",
   "name": "python3"
  },
  "language_info": {
   "codemirror_mode": {
    "name": "ipython",
    "version": 3
   },
   "file_extension": ".py",
   "mimetype": "text/x-python",
   "name": "python",
   "nbconvert_exporter": "python",
   "pygments_lexer": "ipython3",
   "version": "3.9.13"
  }
 },
 "nbformat": 4,
 "nbformat_minor": 5
}
