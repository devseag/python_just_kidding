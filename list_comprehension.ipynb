{
 "cells": [
  {
   "cell_type": "code",
   "execution_count": 1,
   "id": "915460e4-cd85-46b2-8ac0-28051dc1a8b1",
   "metadata": {},
   "outputs": [],
   "source": [
    "a = [1,2,3,4,5]"
   ]
  },
  {
   "cell_type": "code",
   "execution_count": 3,
   "id": "f71b8826-ee10-4aa1-b7ee-4a6ab7b7b7af",
   "metadata": {},
   "outputs": [
    {
     "name": "stdout",
     "output_type": "stream",
     "text": [
      "[1, 2]\n"
     ]
    }
   ],
   "source": [
    "l = []\n",
    "l.append(1)\n",
    "l.append(2)\n",
    "\n",
    "print(l)"
   ]
  },
  {
   "cell_type": "code",
   "execution_count": 2,
   "id": "e4ded30c-57e8-4e02-afa6-d2289f2612aa",
   "metadata": {},
   "outputs": [
    {
     "name": "stdout",
     "output_type": "stream",
     "text": [
      "[2, 4, 6, 8, 10]\n"
     ]
    }
   ],
   "source": [
    "b = []\n",
    "for num in a:\n",
    "    b.append(num * 2)\n",
    "    \n",
    "print(b)"
   ]
  },
  {
   "cell_type": "code",
   "execution_count": 5,
   "id": "ace34d13-0b10-4faa-9125-884714d3e9f2",
   "metadata": {},
   "outputs": [
    {
     "name": "stdout",
     "output_type": "stream",
     "text": [
      "[2, 4, 6, 8, 10]\n"
     ]
    }
   ],
   "source": [
    "c = [ num * 2 for num in a]\n",
    "print(c)"
   ]
  },
  {
   "cell_type": "code",
   "execution_count": 8,
   "id": "046dd408-c84a-4470-a62a-16d89cef6f17",
   "metadata": {},
   "outputs": [
    {
     "name": "stdout",
     "output_type": "stream",
     "text": [
      "[3, 6, 9, 12, 15]\n"
     ]
    }
   ],
   "source": [
    "range_elements = []\n",
    "for num in range(1, 6):\n",
    "    range_elements.append(num * 3)\n",
    "    \n",
    "print(range_elements)"
   ]
  },
  {
   "cell_type": "code",
   "execution_count": 7,
   "id": "6ffe3fb3-0e97-4bd7-b08a-ab4ec72e09d4",
   "metadata": {},
   "outputs": [
    {
     "name": "stdout",
     "output_type": "stream",
     "text": [
      "[3, 6, 9, 12, 15]\n"
     ]
    }
   ],
   "source": [
    "range3 = [num * 3 for num in range(1, 6)]\n",
    "print(range3)"
   ]
  },
  {
   "cell_type": "code",
   "execution_count": 9,
   "id": "c04fc844-4cc1-4629-8741-556eeaf5505c",
   "metadata": {},
   "outputs": [],
   "source": [
    "a = [1, 10, 12, 4, 3, 20, 55]"
   ]
  },
  {
   "cell_type": "code",
   "execution_count": 10,
   "id": "d6025260-0839-4995-b94b-e6346ffce29d",
   "metadata": {},
   "outputs": [
    {
     "name": "stdout",
     "output_type": "stream",
     "text": [
      "[1, 4, 3]\n"
     ]
    }
   ],
   "source": [
    "a_filtered = []\n",
    "for num in a:\n",
    "    if num < 10:\n",
    "        a_filtered.append(num)\n",
    "        \n",
    "print(a_filtered)"
   ]
  },
  {
   "cell_type": "code",
   "execution_count": 11,
   "id": "289cf523-e5f9-42a0-8c0b-de8eb3d5a14b",
   "metadata": {},
   "outputs": [
    {
     "name": "stdout",
     "output_type": "stream",
     "text": [
      "[1, 4, 3]\n"
     ]
    }
   ],
   "source": [
    "a_filtered = [num for num in a if num < 10]\n",
    "print(a_filtered)"
   ]
  },
  {
   "cell_type": "code",
   "execution_count": 12,
   "id": "6063378b-8a2d-48a9-9071-06fea251781a",
   "metadata": {},
   "outputs": [
    {
     "name": "stdout",
     "output_type": "stream",
     "text": [
      "[1, 16, 9]\n"
     ]
    }
   ],
   "source": [
    "a_filtered_sqared = [num ** 2 for num in a if num < 10]\n",
    "print(a_filtered_sqared)"
   ]
  },
  {
   "cell_type": "code",
   "execution_count": 13,
   "id": "04d92e79-db20-4908-841f-07e5cbd10d14",
   "metadata": {},
   "outputs": [],
   "source": [
    "words = [\"hello\", \"hey\", \"goodbye\", \"guitar\", \"piano\"]"
   ]
  },
  {
   "cell_type": "code",
   "execution_count": 14,
   "id": "3b96ad85-958b-4c9a-a3d7-3172e3c9eac9",
   "metadata": {},
   "outputs": [
    {
     "name": "stdout",
     "output_type": "stream",
     "text": [
      "['hello', 'hey', 'piano']\n"
     ]
    }
   ],
   "source": [
    "words_filtered = [word for word in words if len(word) < 6]\n",
    "print(words_filtered)"
   ]
  },
  {
   "cell_type": "code",
   "execution_count": 17,
   "id": "6ca2c1bf-53e1-446d-959c-cb06b8d890b9",
   "metadata": {},
   "outputs": [
    {
     "name": "stdout",
     "output_type": "stream",
     "text": [
      "[20, 16, 12, 8, 4]\n"
     ]
    }
   ],
   "source": [
    "even_num = [num * 2 for num in range(10, 1, -1) if num % 2 == 0]\n",
    "print(even_num)"
   ]
  },
  {
   "cell_type": "code",
   "execution_count": 22,
   "id": "a2857b60-db60-461a-84b6-43b185933e31",
   "metadata": {},
   "outputs": [
    {
     "name": "stdout",
     "output_type": "stream",
     "text": [
      "['goodbye.', 'guitar.']\n"
     ]
    }
   ],
   "source": [
    "words = [\"hello\", \"hey\", \"goodbye\", \"guitar\", \"piano\"]\n",
    "\n",
    "words_modified = [word + \".\" for word in words if len(word) > 5]\n",
    "print(words_modified)"
   ]
  },
  {
   "cell_type": "code",
   "execution_count": null,
   "id": "10035516-e785-4727-b496-14c51a4d7532",
   "metadata": {},
   "outputs": [],
   "source": []
  }
 ],
 "metadata": {
  "kernelspec": {
   "display_name": "Python 3 (ipykernel)",
   "language": "python",
   "name": "python3"
  },
  "language_info": {
   "codemirror_mode": {
    "name": "ipython",
    "version": 3
   },
   "file_extension": ".py",
   "mimetype": "text/x-python",
   "name": "python",
   "nbconvert_exporter": "python",
   "pygments_lexer": "ipython3",
   "version": "3.9.13"
  }
 },
 "nbformat": 4,
 "nbformat_minor": 5
}
