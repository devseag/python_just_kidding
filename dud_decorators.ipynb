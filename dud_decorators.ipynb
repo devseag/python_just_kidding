{
 "cells": [
  {
   "cell_type": "code",
   "execution_count": 2,
   "id": "952c9aa3-8c18-4828-ac45-c06a201510db",
   "metadata": {},
   "outputs": [
    {
     "name": "stdout",
     "output_type": "stream",
     "text": [
      "I am ordinary function\n"
     ]
    }
   ],
   "source": [
    "def decorator(func):\n",
    "    def wrapper():\n",
    "        print(\"code prior to function\")\n",
    "        func()\n",
    "        print(\"Code after function\")\n",
    "    return wrapper()\n",
    "\n",
    "def show(line):\n",
    "    print(line)\n",
    "    \n",
    "show(\"I am ordinary function\")"
   ]
  },
  {
   "cell_type": "code",
   "execution_count": 6,
   "id": "e03a9719-6350-4ebf-b598-acb628764b6b",
   "metadata": {},
   "outputs": [
    {
     "name": "stdout",
     "output_type": "stream",
     "text": [
      "I am ordinary function\n",
      "code prior to function\n",
      "I am ordinary function\n",
      "Code after function\n"
     ]
    }
   ],
   "source": [
    "def decorator(func):\n",
    "    def wrapper():\n",
    "        print(\"code prior to function\")\n",
    "        func()\n",
    "        print(\"Code after function\")\n",
    "    return wrapper\n",
    "\n",
    "def show():\n",
    "    print(\"I am ordinary function\")\n",
    "    \n",
    "show()\n",
    "dec = decorator(show)\n",
    "dec()"
   ]
  },
  {
   "cell_type": "code",
   "execution_count": 7,
   "id": "45064799-c04b-476b-93f3-a7a9cffc9475",
   "metadata": {},
   "outputs": [
    {
     "name": "stdout",
     "output_type": "stream",
     "text": [
      "code prior to function\n",
      "I am ordinary function\n",
      "Code after function\n"
     ]
    }
   ],
   "source": [
    "def decorator(func):\n",
    "    def wrapper():\n",
    "        print(\"code prior to function\")\n",
    "        func()\n",
    "        print(\"Code after function\")\n",
    "    return wrapper\n",
    "\n",
    "def show():\n",
    "    print(\"I am ordinary function\")\n",
    "    \n",
    "show = decorator(show)\n",
    "show()"
   ]
  },
  {
   "cell_type": "code",
   "execution_count": 8,
   "id": "85fcf907-9460-4425-9057-56b229f53e40",
   "metadata": {},
   "outputs": [
    {
     "name": "stdout",
     "output_type": "stream",
     "text": [
      "code prior to function\n",
      "I am ordinary function\n",
      "Code after function\n"
     ]
    }
   ],
   "source": [
    "def decorator(func):\n",
    "    def wrapper():\n",
    "        print(\"code prior to function\")\n",
    "        func()\n",
    "        print(\"Code after function\")\n",
    "    return wrapper\n",
    "\n",
    "@decorator\n",
    "def show():\n",
    "    print(\"I am ordinary function\")\n",
    "    \n",
    "#show = decorator(show)\n",
    "show()"
   ]
  },
  {
   "cell_type": "code",
   "execution_count": null,
   "id": "bbe86a8d-0938-4e8c-9c8e-c702fe68a234",
   "metadata": {},
   "outputs": [],
   "source": [
    "def decorator(func):\n",
    "    def wrapper():\n",
    "        print(\"code prior to function\")\n",
    "        func()\n",
    "        print(\"Code after function\")\n",
    "    return wrapper\n",
    "\n",
    "@decorator\n",
    "@ewrw\n",
    "@dfsdf\n",
    "def show():\n",
    "    print(\"I am ordinary function\")\n",
    "    \n",
    "#show = decorator(show)\n",
    "show()"
   ]
  },
  {
   "cell_type": "code",
   "execution_count": 11,
   "id": "06cba2ae-b9f7-4447-9d0b-9f17dd4cb41a",
   "metadata": {},
   "outputs": [
    {
     "name": "stdout",
     "output_type": "stream",
     "text": [
      "code prior to function\n",
      "code prior to function 2\n",
      "I am ordinary function\n",
      "Code after function 2\n",
      "Code after function\n"
     ]
    }
   ],
   "source": [
    "def decorator(func):\n",
    "    def wrapper():\n",
    "        print(\"code prior to function\")\n",
    "        func()\n",
    "        print(\"Code after function\")\n",
    "    return wrapper\n",
    "\n",
    "def test(func):\n",
    "    def wrapper():\n",
    "        print(\"code prior to function 2\")\n",
    "        func()\n",
    "        print(\"Code after function 2\")\n",
    "    return wrapper\n",
    "\n",
    "@decorator\n",
    "@test\n",
    "def show():\n",
    "    print(\"I am ordinary function\")\n",
    "    \n",
    "#show = decorator(show)\n",
    "show()"
   ]
  },
  {
   "cell_type": "code",
   "execution_count": null,
   "id": "a3331027-01df-4955-85db-cb11574ab795",
   "metadata": {},
   "outputs": [],
   "source": []
  }
 ],
 "metadata": {
  "kernelspec": {
   "display_name": "Python 3 (ipykernel)",
   "language": "python",
   "name": "python3"
  },
  "language_info": {
   "codemirror_mode": {
    "name": "ipython",
    "version": 3
   },
   "file_extension": ".py",
   "mimetype": "text/x-python",
   "name": "python",
   "nbconvert_exporter": "python",
   "pygments_lexer": "ipython3",
   "version": "3.9.13"
  }
 },
 "nbformat": 4,
 "nbformat_minor": 5
}
