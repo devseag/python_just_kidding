{
 "cells": [
  {
   "cell_type": "code",
   "execution_count": 1,
   "id": "12f48901-531b-438e-adda-5dac6865b0b7",
   "metadata": {},
   "outputs": [
    {
     "ename": "ZeroDivisionError",
     "evalue": "division by zero",
     "output_type": "error",
     "traceback": [
      "\u001b[1;31m---------------------------------------------------------------------------\u001b[0m",
      "\u001b[1;31mZeroDivisionError\u001b[0m                         Traceback (most recent call last)",
      "\u001b[1;32m~\\AppData\\Local\\Temp\\ipykernel_37280\\179726827.py\u001b[0m in \u001b[0;36m<module>\u001b[1;34m\u001b[0m\n\u001b[1;32m----> 1\u001b[1;33m \u001b[0mprint\u001b[0m\u001b[1;33m(\u001b[0m\u001b[1;36m10\u001b[0m\u001b[1;33m/\u001b[0m\u001b[1;36m0\u001b[0m\u001b[1;33m)\u001b[0m\u001b[1;33m\u001b[0m\u001b[1;33m\u001b[0m\u001b[0m\n\u001b[0m",
      "\u001b[1;31mZeroDivisionError\u001b[0m: division by zero"
     ]
    }
   ],
   "source": [
    "print(10/0)"
   ]
  },
  {
   "cell_type": "code",
   "execution_count": 2,
   "id": "a93e7108-01a6-4baf-b949-47aaa94dd310",
   "metadata": {},
   "outputs": [
    {
     "ename": "ValueError",
     "evalue": "invalid literal for int() with base 10: 'qwert'",
     "output_type": "error",
     "traceback": [
      "\u001b[1;31m---------------------------------------------------------------------------\u001b[0m",
      "\u001b[1;31mValueError\u001b[0m                                Traceback (most recent call last)",
      "\u001b[1;32m~\\AppData\\Local\\Temp\\ipykernel_37280\\1410266892.py\u001b[0m in \u001b[0;36m<module>\u001b[1;34m\u001b[0m\n\u001b[1;32m----> 1\u001b[1;33m \u001b[0mprint\u001b[0m\u001b[1;33m(\u001b[0m\u001b[0mint\u001b[0m\u001b[1;33m(\u001b[0m\u001b[1;34m'qwert'\u001b[0m\u001b[1;33m)\u001b[0m\u001b[1;33m)\u001b[0m\u001b[1;33m\u001b[0m\u001b[1;33m\u001b[0m\u001b[0m\n\u001b[0m",
      "\u001b[1;31mValueError\u001b[0m: invalid literal for int() with base 10: 'qwert'"
     ]
    }
   ],
   "source": [
    "print(int('qwert'))"
   ]
  },
  {
   "cell_type": "code",
   "execution_count": 3,
   "id": "dff22158-db20-440d-964a-5211f08c60c9",
   "metadata": {},
   "outputs": [
    {
     "ename": "TypeError",
     "evalue": "can only concatenate str (not \"int\") to str",
     "output_type": "error",
     "traceback": [
      "\u001b[1;31m---------------------------------------------------------------------------\u001b[0m",
      "\u001b[1;31mTypeError\u001b[0m                                 Traceback (most recent call last)",
      "\u001b[1;32m~\\AppData\\Local\\Temp\\ipykernel_37280\\2264243522.py\u001b[0m in \u001b[0;36m<module>\u001b[1;34m\u001b[0m\n\u001b[1;32m----> 1\u001b[1;33m \u001b[0mprint\u001b[0m\u001b[1;33m(\u001b[0m\u001b[1;34m'2'\u001b[0m \u001b[1;33m+\u001b[0m \u001b[1;36m1\u001b[0m\u001b[1;33m)\u001b[0m\u001b[1;33m\u001b[0m\u001b[1;33m\u001b[0m\u001b[0m\n\u001b[0m",
      "\u001b[1;31mTypeError\u001b[0m: can only concatenate str (not \"int\") to str"
     ]
    }
   ],
   "source": [
    "print('2' + 1)"
   ]
  },
  {
   "cell_type": "code",
   "execution_count": 5,
   "id": "49536624-59f1-4430-912b-fb29cbfef5bb",
   "metadata": {},
   "outputs": [
    {
     "name": "stdin",
     "output_type": "stream",
     "text": [
      " 5\n",
      " 0\n"
     ]
    },
    {
     "name": "stdout",
     "output_type": "stream",
     "text": [
      "Input 0\n",
      "0\n"
     ]
    }
   ],
   "source": [
    "x = int(input())\n",
    "y = int(input())\n",
    "\n",
    "try:\n",
    "    res = x / y\n",
    "except ZeroDivisionError:\n",
    "    print(\"Input 0\")\n",
    "    res = 0\n",
    "    \n",
    "print(res)"
   ]
  },
  {
   "cell_type": "code",
   "execution_count": 8,
   "id": "da94a33e-603b-457b-8e8b-a4a1094a7010",
   "metadata": {},
   "outputs": [
    {
     "name": "stdin",
     "output_type": "stream",
     "text": [
      " dfgfd\n"
     ]
    },
    {
     "name": "stdout",
     "output_type": "stream",
     "text": [
      "Not a number\n",
      "0\n"
     ]
    }
   ],
   "source": [
    "\n",
    "\n",
    "try:\n",
    "    x = int(input())\n",
    "except ValueError:\n",
    "    print(\"Not a number\")\n",
    "    res = 0\n",
    "    \n",
    "print(res)"
   ]
  },
  {
   "cell_type": "code",
   "execution_count": 13,
   "id": "4c57414b-2e05-42d3-88cd-b3711e095596",
   "metadata": {},
   "outputs": [
    {
     "name": "stdin",
     "output_type": "stream",
     "text": [
      " rer\n"
     ]
    },
    {
     "name": "stdout",
     "output_type": "stream",
     "text": [
      "Not a number\n"
     ]
    },
    {
     "name": "stdin",
     "output_type": "stream",
     "text": [
      " re\n"
     ]
    },
    {
     "name": "stdout",
     "output_type": "stream",
     "text": [
      "Not a number\n",
      "Input 0\n",
      "0\n"
     ]
    }
   ],
   "source": [
    "try:\n",
    "    x = int(input())\n",
    "except ValueError:\n",
    "    print(\"Not a number\")\n",
    "    x = 0\n",
    "    \n",
    "try:\n",
    "    y = int(input())\n",
    "except ValueError:\n",
    "    print(\"Not a number\")\n",
    "    y = 0    \n",
    "\n",
    "try:\n",
    "    res = x / y\n",
    "except ZeroDivisionError:\n",
    "    print(\"Input 0\")\n",
    "    res = 0\n",
    "    \n",
    "print(res)"
   ]
  },
  {
   "cell_type": "code",
   "execution_count": 15,
   "id": "1c6680fe-8873-4d07-bcda-d85e6ff5ebf9",
   "metadata": {},
   "outputs": [
    {
     "name": "stdin",
     "output_type": "stream",
     "text": [
      " 4\n",
      " 3\n"
     ]
    },
    {
     "name": "stdout",
     "output_type": "stream",
     "text": [
      "Everything is right\n",
      "ALWAYS HERE\n",
      "1.3333333333333333\n"
     ]
    }
   ],
   "source": [
    "try:\n",
    "    x = int(input())\n",
    "except ValueError:\n",
    "    print(\"Not a number\")\n",
    "    x = 0\n",
    "    \n",
    "try:\n",
    "    y = int(input())\n",
    "except ValueError:\n",
    "    print(\"Not a number\")\n",
    "    y = 0    \n",
    "else:\n",
    "    print(\"Everything is right\")\n",
    "finally:\n",
    "    print(\"ALWAYS HERE\")\n",
    "    \n",
    "try:\n",
    "    res = x / y\n",
    "except ZeroDivisionError:\n",
    "    print(\"Input 0\")\n",
    "    res = 0\n",
    "    \n",
    "print(res)"
   ]
  },
  {
   "cell_type": "code",
   "execution_count": null,
   "id": "6cf5c4bf-0109-487d-a987-9202d54da202",
   "metadata": {},
   "outputs": [],
   "source": []
  }
 ],
 "metadata": {
  "kernelspec": {
   "display_name": "Python 3 (ipykernel)",
   "language": "python",
   "name": "python3"
  },
  "language_info": {
   "codemirror_mode": {
    "name": "ipython",
    "version": 3
   },
   "file_extension": ".py",
   "mimetype": "text/x-python",
   "name": "python",
   "nbconvert_exporter": "python",
   "pygments_lexer": "ipython3",
   "version": "3.9.13"
  }
 },
 "nbformat": 4,
 "nbformat_minor": 5
}
