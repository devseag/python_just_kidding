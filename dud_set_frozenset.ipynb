{
 "cells": [
  {
   "cell_type": "code",
   "execution_count": 2,
   "id": "0477588d-303b-40f1-b95a-10c10f047fea",
   "metadata": {},
   "outputs": [
    {
     "name": "stdout",
     "output_type": "stream",
     "text": [
      "<class 'set'>\n",
      "set()\n"
     ]
    }
   ],
   "source": [
    "a = set()\n",
    "print(type(a))\n",
    "print(a)"
   ]
  },
  {
   "cell_type": "code",
   "execution_count": 3,
   "id": "51278ef3-1972-43a6-a17e-93eada16e503",
   "metadata": {},
   "outputs": [
    {
     "name": "stdout",
     "output_type": "stream",
     "text": [
      "<class 'set'>\n"
     ]
    }
   ],
   "source": [
    "a = set(\"hello\")\n",
    "print(type(a))"
   ]
  },
  {
   "cell_type": "code",
   "execution_count": 10,
   "id": "504f2005-691f-4807-87e7-52250f0deb03",
   "metadata": {},
   "outputs": [
    {
     "name": "stdout",
     "output_type": "stream",
     "text": [
      "<class 'dict'>\n",
      "{}\n",
      "<class 'dict'>\n",
      "{'23': 32}\n",
      "<class 'set'>\n",
      "{32, '23'}\n",
      "<class 'set'>\n",
      "{23}\n"
     ]
    }
   ],
   "source": [
    "a = {}\n",
    "print(type(a))\n",
    "print(a)\n",
    "a = {'23':32}\n",
    "print(type(a))\n",
    "print(a)\n",
    "a = {'23', 32}\n",
    "print(type(a))\n",
    "print(a)\n",
    "a = {23}\n",
    "print(type(a))\n",
    "print(a)"
   ]
  },
  {
   "cell_type": "code",
   "execution_count": 9,
   "id": "a6ecfab7-b2de-42a9-bbc5-46aefa39bd01",
   "metadata": {},
   "outputs": [
    {
     "name": "stdout",
     "output_type": "stream",
     "text": [
      "<class 'set'>\n",
      "{0, 1, 64, 4, 36, 9, 16, 49, 81, 25}\n"
     ]
    }
   ],
   "source": [
    "a = { i ** 2 for i in range(10)}\n",
    "print(type(a))\n",
    "print(a)"
   ]
  },
  {
   "cell_type": "code",
   "execution_count": 13,
   "id": "0e8678ff-0ad5-475f-95e3-25b46228305d",
   "metadata": {},
   "outputs": [
    {
     "name": "stdout",
     "output_type": "stream",
     "text": [
      "{'l', 1, 'H', 'e', 'o'}\n"
     ]
    },
    {
     "ename": "AttributeError",
     "evalue": "'frozenset' object has no attribute 'add'",
     "output_type": "error",
     "traceback": [
      "\u001b[1;31m---------------------------------------------------------------------------\u001b[0m",
      "\u001b[1;31mAttributeError\u001b[0m                            Traceback (most recent call last)",
      "\u001b[1;32m~\\AppData\\Local\\Temp\\ipykernel_41788\\3284550274.py\u001b[0m in \u001b[0;36m<module>\u001b[1;34m\u001b[0m\n\u001b[0;32m      3\u001b[0m \u001b[0ma\u001b[0m\u001b[1;33m.\u001b[0m\u001b[0madd\u001b[0m\u001b[1;33m(\u001b[0m\u001b[1;36m1\u001b[0m\u001b[1;33m)\u001b[0m\u001b[1;33m\u001b[0m\u001b[1;33m\u001b[0m\u001b[0m\n\u001b[0;32m      4\u001b[0m \u001b[0mprint\u001b[0m\u001b[1;33m(\u001b[0m\u001b[0ma\u001b[0m\u001b[1;33m)\u001b[0m\u001b[1;33m\u001b[0m\u001b[1;33m\u001b[0m\u001b[0m\n\u001b[1;32m----> 5\u001b[1;33m \u001b[0mb\u001b[0m\u001b[1;33m.\u001b[0m\u001b[0madd\u001b[0m\u001b[1;33m(\u001b[0m\u001b[1;36m1\u001b[0m\u001b[1;33m)\u001b[0m\u001b[1;33m\u001b[0m\u001b[1;33m\u001b[0m\u001b[0m\n\u001b[0m",
      "\u001b[1;31mAttributeError\u001b[0m: 'frozenset' object has no attribute 'add'"
     ]
    }
   ],
   "source": [
    "a = set(\"Hello\")\n",
    "b = frozenset (\"Qwerty\")\n",
    "a.add(1)\n",
    "print(a)\n",
    "b.add(1)"
   ]
  },
  {
   "cell_type": "code",
   "execution_count": 15,
   "id": "c8b500ce-b54f-44f2-8627-5a2e613bce72",
   "metadata": {},
   "outputs": [
    {
     "name": "stdout",
     "output_type": "stream",
     "text": [
      "['r', 's', 'w', 'a', 's', 'w']\n",
      "{'s', 'a', 'w', 'r'}\n"
     ]
    }
   ],
   "source": [
    "a = ['r', 's', 'w', 'a', 's', 'w']\n",
    "print(a)\n",
    "print(set(a))"
   ]
  },
  {
   "cell_type": "code",
   "execution_count": 16,
   "id": "f93c58dd-f7f6-4654-908a-4d4ae1752e39",
   "metadata": {},
   "outputs": [
    {
     "name": "stdout",
     "output_type": "stream",
     "text": [
      "4\n"
     ]
    }
   ],
   "source": [
    "a = {32, 45, 43.23, 76}\n",
    "print(len(a))"
   ]
  },
  {
   "cell_type": "code",
   "execution_count": 18,
   "id": "6be22167-bf20-482e-9797-ebefd30b0ed1",
   "metadata": {},
   "outputs": [
    {
     "name": "stdout",
     "output_type": "stream",
     "text": [
      "True\n",
      "False\n"
     ]
    }
   ],
   "source": [
    "x = 45\n",
    "print(x in a)\n",
    "x = 56\n",
    "print(x in a)"
   ]
  },
  {
   "cell_type": "code",
   "execution_count": 25,
   "id": "4ed0a2e6-e0d3-4e2f-a96d-5fbe3b792def",
   "metadata": {},
   "outputs": [
    {
     "name": "stdout",
     "output_type": "stream",
     "text": [
      "True\n",
      "False\n"
     ]
    }
   ],
   "source": [
    "x = {67, 12, 90}\n",
    "print(a.isdisjoint (x))\n",
    "x = {67, 45, 90}\n",
    "print(a.isdisjoint (x))"
   ]
  },
  {
   "cell_type": "code",
   "execution_count": 26,
   "id": "fe594407-265b-449b-a8cc-9ae770e186b1",
   "metadata": {},
   "outputs": [
    {
     "name": "stdout",
     "output_type": "stream",
     "text": [
      "False\n",
      "False\n",
      "True\n"
     ]
    }
   ],
   "source": [
    "print( a == x)\n",
    "x = {32, 45, 76}\n",
    "print( a == x)\n",
    "x = {32, 45, 76, 43.23}\n",
    "print( a == x)"
   ]
  },
  {
   "cell_type": "code",
   "execution_count": 27,
   "id": "b75a8ced-bc40-49fc-8092-63d283f6cd47",
   "metadata": {},
   "outputs": [
    {
     "name": "stdout",
     "output_type": "stream",
     "text": [
      "{32, 43.23, 76, 45, 12, 23}\n"
     ]
    }
   ],
   "source": [
    "a = {32, 45, 43.23, 76}\n",
    "x = {23, 45, 12, 43.23}\n",
    "a.update(x)\n",
    "print(a)"
   ]
  },
  {
   "cell_type": "code",
   "execution_count": 29,
   "id": "2508bc3c-27e3-4073-ab03-48335ba81f94",
   "metadata": {},
   "outputs": [
    {
     "name": "stdout",
     "output_type": "stream",
     "text": [
      "{43.23, 45}\n"
     ]
    }
   ],
   "source": [
    "a = {32, 45, 43.23, 76}\n",
    "x = {23, 45, 12, 43.23}\n",
    "a.intersection_update(x)\n",
    "print(a)"
   ]
  },
  {
   "cell_type": "code",
   "execution_count": 30,
   "id": "1da08cd5-c319-4f91-8c53-f5c29aa112f3",
   "metadata": {},
   "outputs": [
    {
     "name": "stdout",
     "output_type": "stream",
     "text": [
      "{32, 76}\n"
     ]
    }
   ],
   "source": [
    "a = {32, 45, 43.23, 76}\n",
    "x = {23, 45, 12, 43.23}\n",
    "a.difference_update(x)\n",
    "print(a)"
   ]
  },
  {
   "cell_type": "code",
   "execution_count": 32,
   "id": "c444cdec-ea50-46e6-baf5-817a50305656",
   "metadata": {},
   "outputs": [
    {
     "name": "stdout",
     "output_type": "stream",
     "text": [
      "{32, 12, 76, 23}\n"
     ]
    }
   ],
   "source": [
    "a = {32, 45, 43.23, 76}\n",
    "x = {23, 45, 12, 43.23}\n",
    "a.symmetric_difference_update(x)\n",
    "print(a)"
   ]
  },
  {
   "cell_type": "code",
   "execution_count": 40,
   "id": "304be72e-5349-4cb2-a054-1b57b8e2c0a9",
   "metadata": {},
   "outputs": [
    {
     "name": "stdout",
     "output_type": "stream",
     "text": [
      "{76, 45, 23}\n",
      "set()\n"
     ]
    }
   ],
   "source": [
    "a = {32, 45, 43.23, 76}\n",
    "x = {23, 45, 12, 43.23}\n",
    "a.add(23)\n",
    "a.remove(32)\n",
    "#a.remove(33)\n",
    "a.discard(33)\n",
    "a.pop()\n",
    "print(a)\n",
    "a.clear()\n",
    "print(a)"
   ]
  },
  {
   "cell_type": "code",
   "execution_count": null,
   "id": "d729c751-929c-4207-919a-448d9404cc28",
   "metadata": {},
   "outputs": [],
   "source": []
  }
 ],
 "metadata": {
  "kernelspec": {
   "display_name": "Python 3 (ipykernel)",
   "language": "python",
   "name": "python3"
  },
  "language_info": {
   "codemirror_mode": {
    "name": "ipython",
    "version": 3
   },
   "file_extension": ".py",
   "mimetype": "text/x-python",
   "name": "python",
   "nbconvert_exporter": "python",
   "pygments_lexer": "ipython3",
   "version": "3.9.13"
  }
 },
 "nbformat": 4,
 "nbformat_minor": 5
}
