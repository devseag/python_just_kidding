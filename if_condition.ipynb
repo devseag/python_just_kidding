{
 "cells": [
  {
   "cell_type": "code",
   "execution_count": 7,
   "id": "075787f9-8d4f-4fb7-a83b-07f298ce5c9a",
   "metadata": {},
   "outputs": [
    {
     "name": "stdout",
     "output_type": "stream",
     "text": [
      "ne\n"
     ]
    }
   ],
   "source": [
    "a = 3\n",
    "b = 2\n",
    "if a < b:\n",
    "    print(\"a is less than b\")\n",
    "    print(\"a is definetely more than b\")\n",
    "\n",
    "print(\"ne\")"
   ]
  },
  {
   "cell_type": "code",
   "execution_count": 12,
   "id": "0a374ab6-5163-4fd4-8a89-08662d3b55e8",
   "metadata": {},
   "outputs": [
    {
     "name": "stdout",
     "output_type": "stream",
     "text": [
      "c is more than d or eqal d\n",
      "outside if\n"
     ]
    }
   ],
   "source": [
    "c = 3\n",
    "d = 4\n",
    "if c < d:\n",
    "    print(\"c less than d\")\n",
    "else:\n",
    "    print(\"c is more than d or equal d\")\n",
    "    \n",
    "print(\"outside if\")"
   ]
  },
  {
   "cell_type": "code",
   "execution_count": 17,
   "id": "b2e20fdc-3f17-4cf4-8751-9b2d09597b81",
   "metadata": {},
   "outputs": [
    {
     "name": "stdout",
     "output_type": "stream",
     "text": [
      "difference bw e and f is more than 10\n"
     ]
    }
   ],
   "source": [
    "e = 29\n",
    "f = 8\n",
    "if e < f:\n",
    "    print(\"e less than f\")\n",
    "elif e == f:\n",
    "    print(\"e is equal f\")\n",
    "elif e > f + 10:\n",
    "    print(\"difference bw e and f is more than 10\")\n",
    "else:\n",
    "    print(\"e is more than f\")   "
   ]
  },
  {
   "cell_type": "code",
   "execution_count": 20,
   "id": "351c4f90-09d6-4b77-b9ec-0497f59bae6c",
   "metadata": {},
   "outputs": [
    {
     "name": "stdout",
     "output_type": "stream",
     "text": [
      "g is more than h\n"
     ]
    }
   ],
   "source": [
    "g = 9\n",
    "h = 8\n",
    "if g < h:\n",
    "    print(\"g is less than h\")\n",
    "else:\n",
    "    if g == h:\n",
    "        print(\"g is equal h\")\n",
    "    else:\n",
    "        print(\"g is more than h\")"
   ]
  },
  {
   "cell_type": "code",
   "execution_count": 24,
   "id": "a246236e-2619-4310-9709-84510525c861",
   "metadata": {},
   "outputs": [
    {
     "name": "stdout",
     "output_type": "stream",
     "text": [
      "Index mass body: 45.0\n",
      "Man Tomno outweight\n"
     ]
    }
   ],
   "source": [
    "name = \"Tom\"\n",
    "height = 2\n",
    "weight = 180\n",
    "\n",
    "bmi = weight / ( height ** 2)\n",
    "print(\"Index mass body: \" + str(bmi))\n",
    "\n",
    "if bmi > 25:\n",
    "    print(\"Man \" + name + \"no outweight\")\n",
    "else:\n",
    "    print(\"Man \" + name + \"has outweight\")"
   ]
  },
  {
   "cell_type": "code",
   "execution_count": 25,
   "id": "3ca28bb8-203f-4f38-820f-8ec0451b1537",
   "metadata": {},
   "outputs": [
    {
     "name": "stdout",
     "output_type": "stream",
     "text": [
      "False\n"
     ]
    }
   ],
   "source": [
    "my_bool = 10 < 5\n",
    "print(my_bool)"
   ]
  },
  {
   "cell_type": "code",
   "execution_count": 27,
   "id": "aa1834e7-cf82-4d7b-93fe-cc0dbe258424",
   "metadata": {},
   "outputs": [
    {
     "data": {
      "text/plain": [
       "bool"
      ]
     },
     "execution_count": 27,
     "metadata": {},
     "output_type": "execute_result"
    }
   ],
   "source": [
    "type(1 < 2)"
   ]
  },
  {
   "cell_type": "code",
   "execution_count": null,
   "id": "474f9cd2-27c6-46b0-a9d7-b71118ea6a2e",
   "metadata": {},
   "outputs": [],
   "source": []
  }
 ],
 "metadata": {
  "kernelspec": {
   "display_name": "Python 3 (ipykernel)",
   "language": "python",
   "name": "python3"
  },
  "language_info": {
   "codemirror_mode": {
    "name": "ipython",
    "version": 3
   },
   "file_extension": ".py",
   "mimetype": "text/x-python",
   "name": "python",
   "nbconvert_exporter": "python",
   "pygments_lexer": "ipython3",
   "version": "3.9.13"
  }
 },
 "nbformat": 4,
 "nbformat_minor": 5
}
