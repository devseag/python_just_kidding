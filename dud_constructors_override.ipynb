{
 "cells": [
  {
   "cell_type": "code",
   "execution_count": 1,
   "id": "16fd84e3-c862-49e4-b8d9-dc9d0ad27526",
   "metadata": {},
   "outputs": [
    {
     "name": "stdout",
     "output_type": "stream",
     "text": [
      "1\n",
      "Vlad 25\n",
      "Ivan 56\n"
     ]
    }
   ],
   "source": [
    "class Person:\n",
    "    name = \"Ivan\"\n",
    "    age = 10\n",
    "    \n",
    "    def __init__(self, name, age):\n",
    "        self.name = name\n",
    "        self.age = age\n",
    "        \n",
    "    \n",
    "    def __set(self, name, age):\n",
    "        self.name = name\n",
    "        self.age = age\n",
    "        \n",
    "class Student(Person):\n",
    "    course = 1\n",
    "    \n",
    "igor = Student(\"Igor\", 19)\n",
    "#igor._Person__set(\"Igor\", 19)\n",
    "print(igor.course)\n",
    "    \n",
    "vlad = Person(\"Vlad\",25)\n",
    "#vlad._Person__set(\"Vlad\",25)\n",
    "print(vlad.name + \" \" + str(vlad.age))\n",
    "\n",
    "vlad = Person(\"Ivan\",56)\n",
    "#vlad._Person__set(\"Ivan\",56)\n",
    "print(vlad.name + \" \" + str(vlad.age))"
   ]
  },
  {
   "cell_type": "code",
   "execution_count": 4,
   "id": "af3fd2f2-c5cd-4442-8a38-3a03e25c7b05",
   "metadata": {},
   "outputs": [
    {
     "name": "stdout",
     "output_type": "stream",
     "text": [
      "2\n",
      "Vasy\n",
      "Vlad 25\n",
      "Ivan 56\n"
     ]
    }
   ],
   "source": [
    "class Person:\n",
    "    name = \"Ivan\"\n",
    "    age = 10\n",
    "    \n",
    "    def __init__(self, name, age):\n",
    "        self.name = name\n",
    "        self.age = age\n",
    "        \n",
    "    \n",
    "    def __set(self, name, age):\n",
    "        self.name = name\n",
    "        self.age = age\n",
    "        \n",
    "class Student(Person):\n",
    "    course = 2\n",
    "    \n",
    "igor = Student(\"Vasy\", 19)\n",
    "#igor._Person__set(\"Igor\", 19)\n",
    "print(igor.course)\n",
    "print(igor.name)\n",
    "    \n",
    "vlad = Person(\"Vlad\",25)\n",
    "#vlad._Person__set(\"Vlad\",25)\n",
    "print(vlad.name + \" \" + str(vlad.age))\n",
    "\n",
    "vlad = Person(\"Ivan\",56)\n",
    "#vlad._Person__set(\"Ivan\",56)\n",
    "print(vlad.name + \" \" + str(vlad.age))"
   ]
  },
  {
   "cell_type": "code",
   "execution_count": 7,
   "id": "08909930-f374-4ab5-8a02-5ed1582fd47a",
   "metadata": {},
   "outputs": [
    {
     "ename": "TypeError",
     "evalue": "__set() takes 3 positional arguments but 4 were given",
     "output_type": "error",
     "traceback": [
      "\u001b[1;31m---------------------------------------------------------------------------\u001b[0m",
      "\u001b[1;31mTypeError\u001b[0m                                 Traceback (most recent call last)",
      "\u001b[1;32m~\\AppData\\Local\\Temp\\ipykernel_76036\\1490730697.py\u001b[0m in \u001b[0;36m<module>\u001b[1;34m\u001b[0m\n\u001b[0;32m     22\u001b[0m \u001b[0migor\u001b[0m \u001b[1;33m=\u001b[0m \u001b[0mStudent\u001b[0m\u001b[1;33m(\u001b[0m\u001b[1;34m\"Vasy\"\u001b[0m\u001b[1;33m,\u001b[0m \u001b[1;36m19\u001b[0m\u001b[1;33m)\u001b[0m\u001b[1;33m\u001b[0m\u001b[1;33m\u001b[0m\u001b[0m\n\u001b[0;32m     23\u001b[0m \u001b[1;31m#igor._Person__set(\"Igor\", 19)\u001b[0m\u001b[1;33m\u001b[0m\u001b[1;33m\u001b[0m\u001b[0m\n\u001b[1;32m---> 24\u001b[1;33m \u001b[0migor\u001b[0m\u001b[1;33m.\u001b[0m\u001b[0m_Person__set\u001b[0m\u001b[1;33m(\u001b[0m\u001b[1;34m\"Igor\"\u001b[0m\u001b[1;33m,\u001b[0m \u001b[1;36m23\u001b[0m\u001b[1;33m,\u001b[0m \u001b[1;36m5\u001b[0m\u001b[1;33m)\u001b[0m\u001b[1;33m\u001b[0m\u001b[1;33m\u001b[0m\u001b[0m\n\u001b[0m\u001b[0;32m     25\u001b[0m \u001b[0migor\u001b[0m\u001b[1;33m.\u001b[0m\u001b[0mcourse\u001b[0m \u001b[1;33m=\u001b[0m \u001b[1;36m2\u001b[0m\u001b[1;33m\u001b[0m\u001b[1;33m\u001b[0m\u001b[0m\n\u001b[0;32m     26\u001b[0m \u001b[0mprint\u001b[0m\u001b[1;33m(\u001b[0m\u001b[1;34m\"Name :\"\u001b[0m \u001b[1;33m,\u001b[0m \u001b[0migor\u001b[0m\u001b[1;33m.\u001b[0m\u001b[0mname\u001b[0m\u001b[1;33m,\u001b[0m \u001b[1;34m\", age - \"\u001b[0m\u001b[1;33m,\u001b[0m \u001b[0migor\u001b[0m\u001b[1;33m.\u001b[0m\u001b[0mage\u001b[0m\u001b[1;33m,\u001b[0m \u001b[1;34m\", course - \"\u001b[0m\u001b[1;33m,\u001b[0m \u001b[0migor\u001b[0m\u001b[1;33m.\u001b[0m\u001b[0mcourse\u001b[0m\u001b[1;33m)\u001b[0m\u001b[1;33m\u001b[0m\u001b[1;33m\u001b[0m\u001b[0m\n",
      "\u001b[1;31mTypeError\u001b[0m: __set() takes 3 positional arguments but 4 were given"
     ]
    }
   ],
   "source": [
    "class Person:\n",
    "    name = \"Ivan\"\n",
    "    age = 10\n",
    "    \n",
    "    def __init__(self, name, age):\n",
    "        self.name = name\n",
    "        self.age = age\n",
    "        \n",
    "    \n",
    "    def __set(self, name, age):\n",
    "        self.name = name\n",
    "        self.age = age\n",
    "        \n",
    "class Student(Person):\n",
    "    course = 1\n",
    "    \n",
    "    def __set(self, name, age,course):\n",
    "        self.name = name\n",
    "        self.age = age\n",
    "        self.course = course\n",
    "    \n",
    "igor = Student(\"Vasy\", 19)\n",
    "#igor._Person__set(\"Igor\", 19)\n",
    "igor._Person__set(\"Igor\", 23, 5)\n",
    "igor.course = 2\n",
    "print(\"Name :\" , igor.name, \", age - \", igor.age, \", course - \", igor.course)\n",
    "    \n",
    "vlad = Person(\"Vlad\",25)\n",
    "#vlad._Person__set(\"Vlad\",25)\n",
    "print(vlad.name + \" \" + str(vlad.age))\n",
    "\n",
    "vlad = Person(\"Ivan\",56)\n",
    "#vlad._Person__set(\"Ivan\",56)\n",
    "print(vlad.name + \" \" + str(vlad.age))"
   ]
  },
  {
   "cell_type": "code",
   "execution_count": 8,
   "id": "4aadaf96-791d-4ef0-864a-f83f60ec9d9e",
   "metadata": {},
   "outputs": [
    {
     "name": "stdout",
     "output_type": "stream",
     "text": [
      "Name : Igor , age -  23 , course -  5\n",
      "Vlad 25\n",
      "Ivan 56\n"
     ]
    }
   ],
   "source": [
    "class Person:\n",
    "    name = \"Ivan\"\n",
    "    age = 10\n",
    "    \n",
    "    def __init__(self, name, age):\n",
    "        self.name = name\n",
    "        self.age = age\n",
    "        \n",
    "    \n",
    "    def set(self, name, age):\n",
    "        self.name = name\n",
    "        self.age = age\n",
    "        \n",
    "class Student(Person):\n",
    "    course = 1\n",
    "    \n",
    "    def set(self, name, age,course):\n",
    "        self.name = name\n",
    "        self.age = age\n",
    "        self.course = course\n",
    "    \n",
    "igor = Student(\"Vasy\", 19)\n",
    "#igor._Person__set(\"Igor\", 19)\n",
    "igor.set(\"Igor\", 23, 5)\n",
    "#igor.course = 2\n",
    "print(\"Name :\" , igor.name, \", age - \", igor.age, \", course - \", igor.course)\n",
    "    \n",
    "vlad = Person(\"Vlad\",25)\n",
    "#vlad._Person__set(\"Vlad\",25)\n",
    "print(vlad.name + \" \" + str(vlad.age))\n",
    "\n",
    "vlad = Person(\"Ivan\",56)\n",
    "#vlad._Person__set(\"Ivan\",56)\n",
    "print(vlad.name + \" \" + str(vlad.age))"
   ]
  },
  {
   "cell_type": "code",
   "execution_count": null,
   "id": "40d4787e-88ba-44d9-8536-77066e3c7c6e",
   "metadata": {},
   "outputs": [],
   "source": []
  }
 ],
 "metadata": {
  "kernelspec": {
   "display_name": "Python 3 (ipykernel)",
   "language": "python",
   "name": "python3"
  },
  "language_info": {
   "codemirror_mode": {
    "name": "ipython",
    "version": 3
   },
   "file_extension": ".py",
   "mimetype": "text/x-python",
   "name": "python",
   "nbconvert_exporter": "python",
   "pygments_lexer": "ipython3",
   "version": "3.9.13"
  }
 },
 "nbformat": 4,
 "nbformat_minor": 5
}
