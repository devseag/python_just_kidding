{
 "cells": [
  {
   "cell_type": "code",
   "execution_count": 1,
   "id": "3ea78232-ef34-4bfc-b22e-0a1028a41fda",
   "metadata": {},
   "outputs": [],
   "source": [
    "class Person:\n",
    "    def __init__(self, name, age):\n",
    "        self.name = name\n",
    "        self.age = age\n",
    "        print(\"Person created\")\n",
    "        \n",
    "    def say_hello(self):\n",
    "        print(f\"{self.name} says hello!\")"
   ]
  },
  {
   "cell_type": "code",
   "execution_count": 3,
   "id": "ad0db992-4d63-430c-8fc7-3ffc2a7264b2",
   "metadata": {},
   "outputs": [
    {
     "name": "stdout",
     "output_type": "stream",
     "text": [
      "Person created\n",
      "Tom says hello!\n"
     ]
    }
   ],
   "source": [
    "p1 = Person(\"Tom\", 15)\n",
    "p1.say_hello()"
   ]
  },
  {
   "cell_type": "code",
   "execution_count": 29,
   "id": "ab9b2c37-ff78-4010-bdd6-89528ba9e42b",
   "metadata": {},
   "outputs": [],
   "source": [
    "class Student(Person):\n",
    "    def __init__(self, name, age, average_grade):\n",
    "        #Person.__init__(self, name, age)\n",
    "        super().__init__(name, age)\n",
    "        \n",
    "        self.average_grade = average_grade\n",
    "        print(\"Student created\")\n",
    "        \n",
    "    def study(self):\n",
    "        print(f\"{self.name} studies\")\n",
    "        \n",
    "    def say_hello(self):\n",
    "        super().say_hello()\n",
    "        print(f\"Student with name: {self.name} says hello!\")"
   ]
  },
  {
   "cell_type": "code",
   "execution_count": 9,
   "id": "b8e7ce94-b34d-4c31-8df9-9a163392f511",
   "metadata": {},
   "outputs": [],
   "source": [
    "class Teacher(Person):\n",
    "    def teach(self):\n",
    "        print(f\"{self.name} teaches\")"
   ]
  },
  {
   "cell_type": "code",
   "execution_count": 30,
   "id": "7677851c-7570-429e-bf04-638cf7b15951",
   "metadata": {},
   "outputs": [
    {
     "name": "stdout",
     "output_type": "stream",
     "text": [
      "Person created\n",
      "Student created\n",
      "Person created\n"
     ]
    }
   ],
   "source": [
    "s1 = Student(\"Mike\", 18, 4.5)\n",
    "t1 = Teacher(\"Katy\", 45)"
   ]
  },
  {
   "cell_type": "code",
   "execution_count": 31,
   "id": "f7aca7f7-8076-40df-aa90-e026fe192057",
   "metadata": {},
   "outputs": [
    {
     "name": "stdout",
     "output_type": "stream",
     "text": [
      "Mike says hello!\n",
      "Student with name: Mike says hello!\n",
      "Katy says hello!\n"
     ]
    }
   ],
   "source": [
    "s1.say_hello()\n",
    "t1.say_hello()"
   ]
  },
  {
   "cell_type": "code",
   "execution_count": 12,
   "id": "ded627b1-147e-4de6-bace-2b32abbaeab1",
   "metadata": {},
   "outputs": [
    {
     "name": "stdout",
     "output_type": "stream",
     "text": [
      "Mike studies\n",
      "Katy teaches\n"
     ]
    }
   ],
   "source": [
    "s1.study()\n",
    "t1.teach()"
   ]
  },
  {
   "cell_type": "code",
   "execution_count": 35,
   "id": "4919bc0f-2fda-475a-bf66-b3ddb3b7aacd",
   "metadata": {},
   "outputs": [],
   "source": [
    "def introduce(person):\n",
    "    print(\"Now, a person will say hello\")\n",
    "    person.say_hello()"
   ]
  },
  {
   "cell_type": "code",
   "execution_count": 36,
   "id": "45705e48-8a6a-417e-952b-b58b0f0469ab",
   "metadata": {},
   "outputs": [
    {
     "name": "stdout",
     "output_type": "stream",
     "text": [
      "Person created\n",
      "Student created\n",
      "Person created\n",
      "Person created\n",
      "Student created\n"
     ]
    }
   ],
   "source": [
    "people_arr = [Student(\"Tom\", 18, 3.5), Teacher(\"Katy\", 35), Student(\"Bob\", 26, 4.8)]"
   ]
  },
  {
   "cell_type": "code",
   "execution_count": 37,
   "id": "653b92f7-7ba1-42e8-b577-acebdb04e90b",
   "metadata": {},
   "outputs": [
    {
     "name": "stdout",
     "output_type": "stream",
     "text": [
      "Now, a person will say hello\n",
      "Tom says hello!\n",
      "Student with name: Tom says hello!\n",
      "Now, a person will say hello\n",
      "Katy says hello!\n",
      "Now, a person will say hello\n",
      "Bob says hello!\n",
      "Student with name: Bob says hello!\n"
     ]
    }
   ],
   "source": [
    "for person in people_arr:\n",
    "    introduce(person)"
   ]
  },
  {
   "cell_type": "code",
   "execution_count": 87,
   "id": "23e7dc3f-688f-4960-8d7e-883239a9f9fb",
   "metadata": {},
   "outputs": [],
   "source": [
    "class Animal():\n",
    "    def __init__(self, name):\n",
    "        self.name = name\n",
    "    \n",
    "    def eat(self):\n",
    "        print(f\"{self.name} is eating\")"
   ]
  },
  {
   "cell_type": "code",
   "execution_count": 88,
   "id": "24fb4f0d-92e4-49bc-81ce-f773b0159e40",
   "metadata": {},
   "outputs": [],
   "source": [
    "class Dog(Animal):\n",
    "    def __init__(self, name, breed):\n",
    "        super().__init__(name)\n",
    "        \n",
    "        self.breed = breed\n",
    "    \n",
    "    def bark(self):\n",
    "        print(f\"Dog named {self.name} is barking\")"
   ]
  },
  {
   "cell_type": "code",
   "execution_count": 89,
   "id": "af6e63c4-6cb9-4deb-a187-2c7d68c05c35",
   "metadata": {},
   "outputs": [],
   "source": [
    "class Cat(Animal):\n",
    "    def meow(self):\n",
    "        print(f\"{self.name} says Meow\")"
   ]
  },
  {
   "cell_type": "code",
   "execution_count": 90,
   "id": "ca8b442a-6741-433f-94ec-2e668417186a",
   "metadata": {},
   "outputs": [],
   "source": [
    "class Frog(Animal):\n",
    "    def eat(self):\n",
    "        print(f\"Frog with {self.name} is eating\")"
   ]
  },
  {
   "cell_type": "code",
   "execution_count": 91,
   "id": "c720c50c-3fc9-4973-9092-28cf08804110",
   "metadata": {},
   "outputs": [],
   "source": [
    "d1 = Dog(\"Sharik\", \"Terrier\")\n",
    "c1 = Cat(\"Murzik\")\n",
    "f1 = Frog(\"Cho\")"
   ]
  },
  {
   "cell_type": "code",
   "execution_count": 94,
   "id": "d486240d-75ff-4d49-948b-8484e70893c2",
   "metadata": {},
   "outputs": [
    {
     "name": "stdout",
     "output_type": "stream",
     "text": [
      "Dog named Sharik is barking\n",
      "Sharik is eating\n",
      "Terrier\n",
      "Murzik says Meow\n",
      "Murzik is eating\n",
      "Frog with Cho is eating\n"
     ]
    }
   ],
   "source": [
    "d1.bark()\n",
    "d1.eat()\n",
    "print(d1.breed)\n",
    "c1.meow()\n",
    "c1.eat()\n",
    "f1.eat()"
   ]
  },
  {
   "cell_type": "code",
   "execution_count": 93,
   "id": "3deff8c5-18c6-414f-9604-e05678466078",
   "metadata": {},
   "outputs": [
    {
     "data": {
      "text/plain": [
       "'Terrier'"
      ]
     },
     "execution_count": 93,
     "metadata": {},
     "output_type": "execute_result"
    }
   ],
   "source": [
    "d1.breed"
   ]
  },
  {
   "cell_type": "code",
   "execution_count": null,
   "id": "21bac635-ef3a-4081-b97d-e973913a3825",
   "metadata": {},
   "outputs": [],
   "source": []
  }
 ],
 "metadata": {
  "kernelspec": {
   "display_name": "Python 3 (ipykernel)",
   "language": "python",
   "name": "python3"
  },
  "language_info": {
   "codemirror_mode": {
    "name": "ipython",
    "version": 3
   },
   "file_extension": ".py",
   "mimetype": "text/x-python",
   "name": "python",
   "nbconvert_exporter": "python",
   "pygments_lexer": "ipython3",
   "version": "3.9.13"
  }
 },
 "nbformat": 4,
 "nbformat_minor": 5
}
