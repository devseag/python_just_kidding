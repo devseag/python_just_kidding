{
 "cells": [
  {
   "cell_type": "code",
   "execution_count": 4,
   "id": "dad226f1-26c4-4c61-9474-491e03e928f2",
   "metadata": {},
   "outputs": [
    {
     "name": "stdout",
     "output_type": "stream",
     "text": [
      "10\n"
     ]
    }
   ],
   "source": [
    "total = 0\n",
    "for i in range(1, 5):\n",
    "    total += i\n",
    "print(total)"
   ]
  },
  {
   "cell_type": "code",
   "execution_count": 1,
   "id": "740706d2-8795-4fb0-96b5-727ff6b991c7",
   "metadata": {},
   "outputs": [
    {
     "name": "stdout",
     "output_type": "stream",
     "text": [
      "10\n"
     ]
    }
   ],
   "source": [
    "total2 = 0\n",
    "i1 = 0\n",
    "\n",
    "while i1 < 5:\n",
    "    total2 += i1\n",
    "    i1 += 1\n",
    "    \n",
    "print(total2)"
   ]
  },
  {
   "cell_type": "code",
   "execution_count": 8,
   "id": "b4ce38bd-3b9b-4bc3-9a4f-6632be318299",
   "metadata": {},
   "outputs": [
    {
     "name": "stdout",
     "output_type": "stream",
     "text": [
      "26\n",
      "26\n"
     ]
    }
   ],
   "source": [
    "my_list = [7, 5, 4, 4, 3, 2, 1, -5, -10, -15]\n",
    "\n",
    "total3 = 0\n",
    "i2 = 0\n",
    "\n",
    "while my_list[i2] > 0:\n",
    "    total3 += my_list[i2]\n",
    "    i2 += 1\n",
    "    \n",
    "total4 = 0    \n",
    "for element in my_list:\n",
    "    if element <= 0:\n",
    "        break\n",
    "    \n",
    "    total4 += element\n",
    "    \n",
    "print(total3)\n",
    "print(total4)"
   ]
  },
  {
   "cell_type": "code",
   "execution_count": 9,
   "id": "23b5c0c8-0dc2-445c-a489-15845320f587",
   "metadata": {},
   "outputs": [
    {
     "name": "stdout",
     "output_type": "stream",
     "text": [
      "12\n"
     ]
    }
   ],
   "source": [
    "total5 = 0\n",
    "i5 = 0\n",
    "\n",
    "while total5 < 10 and my_list[i5] > 0:\n",
    "    total5 += my_list[i5]\n",
    "    i5 += 1\n",
    "    \n",
    "print(total5)"
   ]
  },
  {
   "cell_type": "code",
   "execution_count": 12,
   "id": "4a7fe04b-ffc3-4d8c-b7d4-a7000494efc6",
   "metadata": {},
   "outputs": [
    {
     "name": "stdout",
     "output_type": "stream",
     "text": [
      "26\n"
     ]
    }
   ],
   "source": [
    "my_list = [7, 5, 4, 4, 3, 2, 1]\n",
    "\n",
    "total3 = 0\n",
    "i2 = 0\n",
    "\n",
    "while i2 < len(my_list) and my_list[i2] > 0:\n",
    "    total3 += my_list[i2]\n",
    "    i2 += 1\n",
    "    \n",
    "print(total3)"
   ]
  },
  {
   "cell_type": "code",
   "execution_count": 14,
   "id": "3b1f4173-ac8d-4efa-ad83-238513fbdb9c",
   "metadata": {},
   "outputs": [
    {
     "name": "stdout",
     "output_type": "stream",
     "text": [
      "0\n",
      "1\n",
      "2\n",
      "3\n",
      "4\n",
      "5\n",
      "6\n",
      "7\n",
      "8\n",
      "9\n",
      "10\n",
      "11\n",
      "12\n",
      "13\n",
      "14\n",
      "15\n",
      "16\n",
      "17\n",
      "18\n",
      "19\n",
      "20\n",
      "21\n",
      "22\n",
      "23\n",
      "24\n",
      "25\n",
      "26\n",
      "27\n",
      "28\n",
      "29\n",
      "30\n",
      "31\n",
      "32\n",
      "33\n",
      "34\n",
      "35\n",
      "36\n",
      "37\n",
      "38\n",
      "39\n",
      "40\n",
      "41\n",
      "42\n",
      "43\n",
      "44\n",
      "45\n",
      "46\n",
      "47\n",
      "48\n",
      "49\n",
      "50\n",
      "51\n",
      "52\n",
      "53\n",
      "54\n",
      "55\n",
      "56\n",
      "57\n",
      "58\n",
      "59\n",
      "60\n",
      "61\n",
      "62\n",
      "63\n",
      "64\n",
      "65\n",
      "66\n",
      "67\n",
      "68\n",
      "69\n",
      "70\n",
      "71\n",
      "72\n",
      "73\n",
      "74\n",
      "75\n",
      "76\n",
      "77\n",
      "78\n",
      "79\n",
      "80\n",
      "81\n",
      "82\n",
      "83\n",
      "84\n",
      "85\n",
      "86\n",
      "87\n",
      "88\n",
      "89\n",
      "90\n",
      "91\n",
      "92\n",
      "93\n",
      "94\n",
      "95\n",
      "96\n",
      "97\n",
      "98\n",
      "99\n"
     ]
    }
   ],
   "source": [
    "i6 = 0\n",
    "while True:\n",
    "    if i6 == 100:\n",
    "        break\n",
    "    \n",
    "    print(i6)\n",
    "    i6 += 1"
   ]
  },
  {
   "cell_type": "code",
   "execution_count": 28,
   "id": "66ba16c3-44cb-43ef-a930-aef91349daa3",
   "metadata": {},
   "outputs": [
    {
     "name": "stdout",
     "output_type": "stream",
     "text": [
      "-30\n",
      "-30\n"
     ]
    }
   ],
   "source": [
    "my_list = [7, 5, 4, 4, 3, 2, 1, -5, -10, -15]\n",
    "total_negative1 = 0\n",
    "\n",
    "for e in my_list:\n",
    "    if e < 0:\n",
    "        total_negative1 += e\n",
    "    \n",
    "print(total_negative1)\n",
    "\n",
    "i10 = len(my_list) - 1\n",
    "total_negative3 = 0\n",
    "\n",
    "while my_list[i10] < 0 and i10 >= 0:\n",
    "    total_negative3 += my_list[i10]\n",
    "    i10 -= 1\n",
    "    \n",
    "print(total_negative3)"
   ]
  },
  {
   "cell_type": "code",
   "execution_count": 32,
   "id": "405313d5-1311-4a00-9b5b-d6ee3016b4c2",
   "metadata": {},
   "outputs": [
    {
     "name": "stdout",
     "output_type": "stream",
     "text": [
      "apple\n",
      "banana\n",
      "grapes\n"
     ]
    }
   ],
   "source": [
    "words = [\"apple\", \"banana\", \"grapes\", \"stop\", \"hello\", \"welcome\"]\n",
    "\n",
    "len_words = len(words)\n",
    "i11 = 0\n",
    "\n",
    "while words[i11] != \"stop\" and i11 < len_words:\n",
    "    print(words[i11])\n",
    "    i11 += 1\n",
    "    "
   ]
  },
  {
   "cell_type": "code",
   "execution_count": null,
   "id": "6ddbfaa4-e8e5-40ce-a78d-757ae0fb4381",
   "metadata": {},
   "outputs": [],
   "source": []
  }
 ],
 "metadata": {
  "kernelspec": {
   "display_name": "Python 3 (ipykernel)",
   "language": "python",
   "name": "python3"
  },
  "language_info": {
   "codemirror_mode": {
    "name": "ipython",
    "version": 3
   },
   "file_extension": ".py",
   "mimetype": "text/x-python",
   "name": "python",
   "nbconvert_exporter": "python",
   "pygments_lexer": "ipython3",
   "version": "3.9.13"
  }
 },
 "nbformat": 4,
 "nbformat_minor": 5
}
