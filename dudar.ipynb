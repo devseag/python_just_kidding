{
 "cells": [
  {
   "cell_type": "code",
   "execution_count": 1,
   "id": "537e5856-947a-44fe-a22b-0a45e213d8a1",
   "metadata": {},
   "outputs": [
    {
     "name": "stdin",
     "output_type": "stream",
     "text": [
      "How are you?  sdf\n"
     ]
    },
    {
     "name": "stdout",
     "output_type": "stream",
     "text": [
      "Hello sdf\n"
     ]
    }
   ],
   "source": [
    "name = input(\"How are you? \")\n",
    "print(\"Hello\", name)"
   ]
  },
  {
   "cell_type": "code",
   "execution_count": 2,
   "id": "659247af-bd95-458d-8d19-cb4784e1a1a8",
   "metadata": {},
   "outputs": [
    {
     "name": "stdout",
     "output_type": "stream",
     "text": [
      "Nothing\n"
     ]
    }
   ],
   "source": [
    "i = 1000\n",
    "while i > 1000:\n",
    "    print(i)\n",
    "    i /= 2\n",
    "else: # if no break\n",
    "    print(\"Nothing\")"
   ]
  },
  {
   "cell_type": "code",
   "execution_count": 15,
   "id": "9ac52b45-990f-4377-8e24-039ad03c59e7",
   "metadata": {},
   "outputs": [
    {
     "name": "stdout",
     "output_type": "stream",
     "text": [
      "0\n",
      "1\n",
      "[]\n"
     ]
    }
   ],
   "source": [
    "# Уроки Python для начинающих | #7\n",
    "l = []\n",
    "l.append (23)\n",
    "l.append (34)\n",
    "b = [24, 67]\n",
    "l.extend (b)\n",
    "l.insert (1, 56)\n",
    "l.append (34)\n",
    "l.remove (34)\n",
    "l.pop ()\n",
    "l.pop(0)\n",
    "print(l.index (56))\n",
    "print(l.count (24))\n",
    "l.sort ()\n",
    "l.reverse ()\n",
    "l.clear ()\n",
    "\n",
    "print(l)"
   ]
  },
  {
   "cell_type": "code",
   "execution_count": 20,
   "id": "cfde5695-0ca9-41b3-a55e-b799192d0843",
   "metadata": {},
   "outputs": [
    {
     "name": "stdout",
     "output_type": "stream",
     "text": [
      "[34, 'sd', 56, 34.34]\n",
      "[34, 'sd', 56, 34.34]\n",
      "['sd', 56, 34.34]\n",
      "[34, 'sd', 56]\n",
      "[34, 56]\n",
      "[34.34, 56, 'sd', 34]\n"
     ]
    }
   ],
   "source": [
    "# Уроки Python для начинающих | #8 - Индексы и срезы\n",
    "l = [34, 'sd', 56, 34.34]\n",
    "\n",
    "print(l)\n",
    "print(l[:])\n",
    "print(l[1:])\n",
    "print(l[:3])\n",
    "print(l[::2])\n",
    "print(l[::-1])"
   ]
  },
  {
   "cell_type": "code",
   "execution_count": 24,
   "id": "0d260cd2-edde-43c9-bd74-4f99284f36f4",
   "metadata": {},
   "outputs": [
    {
     "name": "stdout",
     "output_type": "stream",
     "text": [
      "56\n",
      "104\n"
     ]
    }
   ],
   "source": [
    "# Уроки Python для начинающих |  #9 - Кортежи (tuple)\n",
    "a = (43, 56, 45.23, 'd')\n",
    "b = [43, 56, 45.23, 'd']\n",
    "\n",
    "b[0] = 34\n",
    "\n",
    "print(a.__sizeof__ ())\n",
    "print(b.__sizeof__ ())"
   ]
  },
  {
   "cell_type": "code",
   "execution_count": 29,
   "id": "cc9b7477-121c-4ca4-b286-a074514ffa4d",
   "metadata": {},
   "outputs": [
    {
     "name": "stdout",
     "output_type": "stream",
     "text": [
      "('h', 'e', 'l', 'l', 'o', ' ', 'w', 'o', 'r', 'l', 'd')\n",
      "hello world\n",
      "('hello world', 'sdf', 345)\n",
      "('hello world', 'sdf', 345)\n",
      "1\n"
     ]
    }
   ],
   "source": [
    "a = ()\n",
    "a = tuple(\"hello world\")\n",
    "print(a)\n",
    "a = \"hello world\"\n",
    "print(a)\n",
    "a = \"hello world\", \"sdf\", 345\n",
    "print(a)\n",
    "a = (\"hello world\", \"sdf\", 345)\n",
    "print(a)\n",
    "\n",
    "print(a.count(345))"
   ]
  },
  {
   "cell_type": "code",
   "execution_count": 35,
   "id": "0f71d546-28ff-4967-99a8-e654d4689a9f",
   "metadata": {},
   "outputs": [
    {
     "name": "stdout",
     "output_type": "stream",
     "text": [
      "{}\n",
      "1\n",
      "Test\n",
      "{'test': 1, 'test_2': 'Test'}\n",
      "{'short': 234, 'longer': 'dictionary'}\n"
     ]
    }
   ],
   "source": [
    "# Уроки Python для начинающих | #10 - Словари (dict), а также их методы\n",
    "d = {}\n",
    "print(d)\n",
    "d = {'test' : 1, 'test_2' : \"Test\"}\n",
    "print(d['test'])\n",
    "print(d['test_2'])\n",
    "print(d)\n",
    "d = dict (short='dict', longer='dictionary')\n",
    "d['short'] = 234\n",
    "print(d)"
   ]
  },
  {
   "cell_type": "code",
   "execution_count": 37,
   "id": "de6b8bd3-a6b3-4fde-9f4d-57108ba6817c",
   "metadata": {},
   "outputs": [
    {
     "name": "stdout",
     "output_type": "stream",
     "text": [
      "{23: 34, 56: 87}\n"
     ]
    }
   ],
   "source": [
    "d = dict ([(23, 34), (56, 87)])\n",
    "print(d)"
   ]
  },
  {
   "cell_type": "code",
   "execution_count": 41,
   "id": "07017ce1-731d-46b6-bf77-b07be3bacf82",
   "metadata": {},
   "outputs": [
    {
     "name": "stdout",
     "output_type": "stream",
     "text": [
      "{'a': 1, 'b': 1, 'c': 1}\n"
     ]
    }
   ],
   "source": [
    "d = dict.fromkeys (['a', 'b', 'c'], 1)\n",
    "print(d)"
   ]
  },
  {
   "cell_type": "code",
   "execution_count": 42,
   "id": "894ca7a7-5806-40c1-9bd4-e7973e3599a6",
   "metadata": {},
   "outputs": [
    {
     "name": "stdout",
     "output_type": "stream",
     "text": [
      "{0: 0, 1: 1, 2: 4, 3: 9, 4: 16, 5: 25, 6: 36}\n"
     ]
    }
   ],
   "source": [
    "d = {a : a ** 2 for a in range(7)}\n",
    "print(d)"
   ]
  },
  {
   "cell_type": "code",
   "execution_count": 51,
   "id": "49f00ef1-9a83-4770-b292-a732b042161b",
   "metadata": {},
   "outputs": [],
   "source": [
    "person = {'name' : {'last_name' : 'Ivanov', 'first_name' : 'Ivan', 'middle_name' : 'Ivanovich'},\n",
    "          'address' : ['g. Andri', 'ul. Vasilk d 1', 'kv 1'], \n",
    "          'phone' :{'home_phone': '34-67-12', 'mobile_phone' : '8-654-345-23-65', 'mobile_phone_2' : 'No'}}"
   ]
  },
  {
   "cell_type": "code",
   "execution_count": 45,
   "id": "6db30f61-979c-4c1d-9655-2b3d23125dda",
   "metadata": {},
   "outputs": [
    {
     "name": "stdout",
     "output_type": "stream",
     "text": [
      "Ivan\n"
     ]
    }
   ],
   "source": [
    "print (person['name']['first_name'])"
   ]
  },
  {
   "cell_type": "code",
   "execution_count": 46,
   "id": "963f840a-8879-47d9-9f1e-44e7b86015a8",
   "metadata": {},
   "outputs": [
    {
     "name": "stdout",
     "output_type": "stream",
     "text": [
      "Ivanov\n"
     ]
    }
   ],
   "source": [
    "print (person['name']['last_name'])"
   ]
  },
  {
   "cell_type": "code",
   "execution_count": 47,
   "id": "5a5247ca-d251-49c1-885e-136379387da2",
   "metadata": {},
   "outputs": [
    {
     "name": "stdout",
     "output_type": "stream",
     "text": [
      "ul. Vasilk d 1\n"
     ]
    }
   ],
   "source": [
    "print(person['address'][1])"
   ]
  },
  {
   "cell_type": "code",
   "execution_count": 49,
   "id": "0c97c532-880f-4508-9c7c-be962f7dd3f4",
   "metadata": {},
   "outputs": [
    {
     "name": "stdout",
     "output_type": "stream",
     "text": [
      "8-654-345-23-65\n"
     ]
    }
   ],
   "source": [
    "print(person['phone']['mobile_phone'])"
   ]
  },
  {
   "cell_type": "code",
   "execution_count": null,
   "id": "5a41d8e5-a67f-4fc2-bf6b-ba32aa0c2bfd",
   "metadata": {},
   "outputs": [],
   "source": [
    "dict.fromkeys([seq], value)\n",
    "dict.items()\n",
    "dict.keys()\n",
    "dict.popitem()\n",
    "dict.setdefault(key, default)\n",
    "dict.update(other)\n",
    "dict.values()\n",
    "dict.clear()\n",
    "dict.copy()"
   ]
  },
  {
   "cell_type": "code",
   "execution_count": 50,
   "id": "d84fe879-92cd-4cfa-9614-433a182a7423",
   "metadata": {},
   "outputs": [
    {
     "name": "stdout",
     "output_type": "stream",
     "text": [
      "{}\n"
     ]
    }
   ],
   "source": [
    "person.clear()\n",
    "print(person)"
   ]
  },
  {
   "cell_type": "code",
   "execution_count": 52,
   "id": "6f620aa5-d79b-4528-9b6c-55bdf08af550",
   "metadata": {},
   "outputs": [],
   "source": [
    "person = {'name' : {'last_name' : 'Ivanov', 'first_name' : 'Ivan', 'middle_name' : 'Ivanovich'},\n",
    "          'address' : ['g. Andri', 'ul. Vasilk d 1', 'kv 1'], \n",
    "          'phone' :{'home_phone': '34-67-12', 'mobile_phone' : '8-654-345-23-65', 'mobile_phone_2' : 'No'}}"
   ]
  },
  {
   "cell_type": "code",
   "execution_count": 53,
   "id": "2e2a776c-5988-40b2-b952-37b979bb81b8",
   "metadata": {},
   "outputs": [
    {
     "data": {
      "text/plain": [
       "dict_values([{'last_name': 'Ivanov', 'first_name': 'Ivan', 'middle_name': 'Ivanovich'}, ['g. Andri', 'ul. Vasilk d 1', 'kv 1'], {'home_phone': '34-67-12', 'mobile_phone': '8-654-345-23-65', 'mobile_phone_2': 'No'}])"
      ]
     },
     "execution_count": 53,
     "metadata": {},
     "output_type": "execute_result"
    }
   ],
   "source": [
    "person.values()"
   ]
  },
  {
   "cell_type": "code",
   "execution_count": null,
   "id": "44109bb9-961b-4c46-ac60-482a01fdbd00",
   "metadata": {},
   "outputs": [],
   "source": []
  }
 ],
 "metadata": {
  "kernelspec": {
   "display_name": "Python 3 (ipykernel)",
   "language": "python",
   "name": "python3"
  },
  "language_info": {
   "codemirror_mode": {
    "name": "ipython",
    "version": 3
   },
   "file_extension": ".py",
   "mimetype": "text/x-python",
   "name": "python",
   "nbconvert_exporter": "python",
   "pygments_lexer": "ipython3",
   "version": "3.9.13"
  }
 },
 "nbformat": 4,
 "nbformat_minor": 5
}
